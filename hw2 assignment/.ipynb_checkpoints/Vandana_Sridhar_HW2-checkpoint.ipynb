{
 "cells": [
  {
   "cell_type": "markdown",
   "metadata": {},
   "source": [
    "# Homework 2 - Logistic Regression\n",
    "## CSCI 5622 - Spring 2019\n",
    "***\n",
    "**Name**: $<$Vandana Sridhar$>$ \n",
    "***\n",
    "\n",
    "This assignment is due on Canvas by **11.59 PM on Tuesday, February 12th**. Submit only this Jupyter notebook to Canvas.  Do not compress it using tar, rar, zip, etc. Your solutions to analysis questions should be done in Markdown directly below the associated question.  Remember that you are encouraged to discuss the problems with your classmates and instructors, but **you must write all code and solutions on your own**, and list any people or sources consulted."
   ]
  },
  {
   "cell_type": "markdown",
   "metadata": {},
   "source": [
    "## Overview \n",
    "***\n",
    "\n",
    "Your task for this homework is to build a logistic regression model that implements stochastic gradient ascent. To start, you'll apply it to the task of determining whether a number is 8 or 9\n",
    "\n",
    "We start by importing and plotting the given data"
   ]
  },
  {
   "cell_type": "code",
   "execution_count": 1,
   "metadata": {},
   "outputs": [],
   "source": [
    "import numpy as np\n",
    "import matplotlib.pylab as plt\n",
    "%matplotlib inline "
   ]
  },
  {
   "cell_type": "markdown",
   "metadata": {},
   "source": [
    "###### [ 50 points] Problem 1: Implementing the Logistic Regression Classifier\n",
    "***"
   ]
  },
  {
   "cell_type": "code",
   "execution_count": 2,
   "metadata": {},
   "outputs": [],
   "source": [
    "import matplotlib.pylab as plt\n",
    "%matplotlib inline\n",
    "import pickle, gzip       \n",
    "import numpy as np\n",
    "\n",
    "class Numbers:\n",
    "    \"\"\"\n",
    "    Class to store MNIST data for images of 9 and 8 only\n",
    "    \"\"\" \n",
    "    def __init__(self, location):\n",
    "        # You shouldn't have to modify this class, but you can if you'd like\n",
    "        # Load the dataset\n",
    "        with gzip.open(location, 'rb') as f:\n",
    "            train_set, valid_set, test_set = pickle.load(f)\n",
    " \n",
    "        self.train_x, self.train_y = train_set\n",
    "        train_indices = np.where(self.train_y > 7)\n",
    "        self.train_x, self.train_y = self.train_x[train_indices], self.train_y[train_indices]\n",
    "        self.train_y = self.train_y - 8\n",
    " \n",
    "        self.valid_x, self.valid_y = valid_set\n",
    "        valid_indices = np.where(self.valid_y > 7)\n",
    "        self.valid_x, self.valid_y = self.valid_x[valid_indices], self.valid_y[valid_indices]\n",
    "        self.valid_y = self.valid_y - 8"
   ]
  },
  {
   "cell_type": "code",
   "execution_count": 3,
   "metadata": {},
   "outputs": [],
   "source": [
    "data2=Numbers('mnist.pklz')\n"
   ]
  },
  {
   "cell_type": "markdown",
   "metadata": {},
   "source": [
    "In this homework you'll implement a Logistic Regression classifier to take drawings of either an eight or a nine and output the corresponding label.\n",
    "1.1 - Finish the `calculate_score` function to return the output of applying the dot product of the weights with the input parameter\n",
    "\n",
    "1.2 - Finish the `sigmoid` function to return the output of applying the sigmoid function to the calculated score\n",
    "\n",
    "1.3 - Finish the `compute_gradient` function to return the derivate of the cost w.r.t. the weights\n",
    "\n",
    "1.4 - Finish the `sgd_update` function so that it performs stochastic gradient descent on the single training example and updates the weight vector correspondingly\n",
    "\n",
    "1.5 - Finish the `mini_batch_update` function so that it performs mini-batch gradient descent on the batches of the training data set example and updates the weight vector correspondingly"
   ]
  },
  {
   "cell_type": "code",
   "execution_count": 4,
   "metadata": {},
   "outputs": [],
   "source": [
    "from collections import defaultdict\n",
    "from numpy import random\n",
    "class LogReg:\n",
    "    \n",
    "    def __init__(self, X, y, eta = 0.1):\n",
    "        \"\"\"\n",
    "        Create a logistic regression classifier\n",
    "        :param num_features: The number of features (including bias)\n",
    "        :param eta: Learning rate (the default is a constant value)\n",
    "        :method: This should be the name of the method (sgd_update or mini_batch_descent)\n",
    "        :batch_size: optional argument that is needed only in the case of mini_batch_descent\n",
    "        \"\"\"\n",
    "        self.X = X # was capital X\n",
    "        self.y = y\n",
    "        self.w = np.zeros(X.shape[1]) # can remove from here and ask to be defined in the function\n",
    "        self.eta = eta\n",
    "        \n",
    "        \n",
    "        \n",
    "    def calculate_score(self, x):\n",
    "        \"\"\"\n",
    "        :param x: This can be a single training example or it could be n training examples\n",
    "        :return score: Calculate the score that you will plug into the logistic function\n",
    "        \n",
    "        \"\"\"\n",
    "        \n",
    "        #score=np.dot(x,self.w.reshape(-1,1)) \n",
    "        score=np.dot(x,self.w) \n",
    "        return(score)\n",
    "        \n",
    "        # TODO: Compute the score to be fed to the sigmoid function\n",
    "    \n",
    "    def sigmoid(self, score):\n",
    "        \"\"\"\n",
    "        :param score: Either a real valued number or a vector to convert into a number between 0 and 1\n",
    "        :return sigmoid: Calcuate the output of applying the sigmoid function to the score. This could be a single\n",
    "        value or a vector depending on the input\n",
    "        \"\"\"\n",
    "        # TODO: Complete this function to return the output of applying the sigmoid function to the score\n",
    "            \n",
    "        h = 1.0/(1.0 + np.exp(-score))\n",
    "        return(h)\n",
    "    \n",
    "    def compute_gradient(self, x, h, y):\n",
    "        \"\"\"\n",
    "        :param x: Feature vector\n",
    "        :param h: predicted class label\n",
    "        :param y: real class label\n",
    "        :return gradient: Return the derivate of the cost w.r.t to the weights\n",
    "    \n",
    "        \"\"\"\n",
    "        # TODO: Finish this function to compute the gradient\n",
    "        \n",
    "        #y=y.reshape(-1,1)\n",
    "        gradient=np.dot(x.T,(h-y))\n",
    "        return(gradient)\n",
    "    \n",
    "    \n",
    "                \n",
    "        \n",
    "     \n",
    "    def sgd_update(self):\n",
    "        \"\"\"\n",
    "        Compute a stochastic gradient update over the entire dataset to improve the log likelihood.\n",
    "        :param x_i: The features of the example to take the gradient with respect to\n",
    "        :param y: The target output of the example to take the gradient with respect to\n",
    "        :return: Return the new value of the regression coefficients\n",
    "        \"\"\" \n",
    "        # TODO: Finish this function to do a stochastic gradient descent update over the entire dataset\n",
    "        # and return the updated weight vector\n",
    "        \n",
    "        \n",
    "        \n",
    "        for i in range(len(self.X)):\n",
    "            h= self.sigmoid(self.calculate_score(self.X[i]))\n",
    "            gradient=self.compute_gradient(self.X[i],h,self.y[i])\n",
    "            self.w=self.w-self.eta*gradient\n",
    "        \n",
    "        \n",
    "            \n",
    "        return (self.w)\n",
    "        \n",
    "        \n",
    "    \n",
    "    def mini_batch_update(self, batch_size):\n",
    "        \"\"\"\n",
    "        One iteration of the mini-batch update over the entire dataset (one sweep of the dataset).\n",
    "        :param X: NumPy array of features (size : no of examples X features)\n",
    "        :param y: Numpy array of class labels (size : no of examples X 1)\n",
    "        :param batch_size: size of the batch for gradient update\n",
    "        :returns w: Coefficients of the classifier (after updating)\n",
    "        \"\"\"\n",
    "        # TODO: Performing mini-batch training follows the same steps as in stochastic gradient descent,\n",
    "        # the only major difference is that we’ll use batches of training examples instead of one. \n",
    "        # Here we decide a batch size, which is the number of examples that will be fed into the \n",
    "        # computational graph at once.\n",
    "        \n",
    "        \n",
    "        for i in range(0,len(self.X),batch_size):\n",
    "            h= self.sigmoid(self.calculate_score(self.X[i:i+batch_size]))\n",
    "            gradient=self.compute_gradient(self.X[i:i+batch_size],h,self.y[i:i+batch_size])\n",
    "            #update=np.sum(gradient,axis=0)\n",
    "            #update=np.sum(gradient,axis=0)\n",
    "            self.w=self.w-self.eta*gradient\n",
    "                \n",
    "        return (self.w)\n",
    "    \n",
    "    def progress(self, test_x, test_y, update_method, *batch_size):\n",
    "        \"\"\"\n",
    "        Given a set of examples, computes the probability and accuracy\n",
    "        :param test_x: The features of the test dataset to score\n",
    "        :param test_y: The features of the test \n",
    "        :param update_method: The update method to be used, either 'sgd_update' or 'mini_batch_update'\n",
    "        :param batch_size: Optional arguement to be given only in case of mini_batch_update\n",
    "        :return: A tuple of (log probability, accuracy)\n",
    "        \"\"\"\n",
    "        # TODO: Complete this function to compute the predicted value for an example based on the logistic value\n",
    "        # and return the log probability and the accuracy of those predictions\n",
    "        #training\n",
    "        if(update_method=='mini_batch_update'):\n",
    "            self.mini_batch_update(batch_size[0])\n",
    "        else:\n",
    "            self.sgd_update()\n",
    "        \n",
    "        #testing\n",
    "        log_prob=0\n",
    "        num_right=0\n",
    "        \n",
    "        #h=self.sigmoid(self.calculate_score(test_x))\n",
    "        #log_prob=(1/len(test_y))*(np.sum(test_y*np.log(h))+(1-test_y)*np.log(1-h))  \n",
    "        #log_prob=0.0\n",
    "            \n",
    "        for x, y in zip(test_x, test_y):\n",
    "            p = self.sigmoid(self.calculate_score(x))\n",
    "            \n",
    "            if y == 1:\n",
    "                log_prob += np.log(p)\n",
    "            else:\n",
    "                log_prob += np.log(1.0 - p)\n",
    " \n",
    "            # Get accuracy\n",
    "            if abs(y - p) < 0.5:\n",
    "                num_right += 1\n",
    "            #get acuuracy\n",
    "        #num_right=0\n",
    "        #for i in range(len(test_y)):\n",
    "            #if abs(h[i]-test_y[i])<0.5:\n",
    "                #num_right += 1\n",
    "                \n",
    "        accuracy=num_right/len(test_y)\n",
    "        #print(num_right)\n",
    "        #print(log_prob)\n",
    "        #print (accuracy)\n",
    "        return (log_prob,accuracy)\n",
    "                \n",
    "        \n",
    "        \n",
    "        \n",
    "\n",
    "    \n",
    "    "
   ]
  },
  {
   "cell_type": "code",
   "execution_count": 5,
   "metadata": {},
   "outputs": [
    {
     "name": "stderr",
     "output_type": "stream",
     "text": [
      "..."
     ]
    },
    {
     "name": "stdout",
     "output_type": "stream",
     "text": [
      "-0.6962613938736985\n"
     ]
    },
    {
     "name": "stderr",
     "output_type": "stream",
     "text": [
      "\n",
      "----------------------------------------------------------------------\n",
      "Ran 3 tests in 0.010s\n",
      "\n",
      "OK\n"
     ]
    },
    {
     "data": {
      "text/plain": [
       "<unittest.runner.TextTestResult run=3 errors=0 failures=0>"
      ]
     },
     "execution_count": 5,
     "metadata": {},
     "output_type": "execute_result"
    }
   ],
   "source": [
    "import unittest\n",
    "\n",
    "class LogRegTester(unittest.TestCase):\n",
    "    def setUp(self):\n",
    "        self.X = np.array([[0.1, 0.3 ], [0.4, 0.6], [0.8, 0.1], [0.8, 0.1], [0.5, 0.8]])\n",
    "        self.y = np.array([0,  0, 1, 1,  0])\n",
    "        self.log_reg_classifier_1 = LogReg(self.X, self.y, 0.5)\n",
    "        self.log_reg_classifier_2 = LogReg(self.X, self.y, 0.5)\n",
    "        #self.d=self.log_reg_classifier_1.calculate_score(self.X)\n",
    "        \n",
    "    def test_sgd_update(self):\n",
    "        \"\"\"\n",
    "        Test sgd_update function from LogReg\n",
    "        \"\"\"\n",
    "        weights = self.log_reg_classifier_1.sgd_update()\n",
    "        self.assertEqual(round(weights[0], 2), 0.16)\n",
    "        self.assertEqual(round(weights[1], 2), -0.37)\n",
    "        \n",
    "    def tests_mini_batch_update(self):\n",
    "        \"\"\"\n",
    "        Test mini_batch_update function from LogReg\n",
    "        \"\"\"\n",
    "        weights = self.log_reg_classifier_2.mini_batch_update(2)\n",
    "        self.assertEqual(round(weights[0], 2), 0.17)\n",
    "        self.assertEqual(round(weights[1], 2), -0.37)\n",
    "        \n",
    "    def tests_progress_sgd_update(self):\n",
    "        \"\"\"\n",
    "        Test progress function from LogReg with method = 'sgd_update'\n",
    "        \"\"\"\n",
    "        self.log_reg_classifier_1 = LogReg(self.X[:4], self.y[:4], 0.5)\n",
    "        log_prob, accuracy = self.log_reg_classifier_1.progress(self.X[4:], self.y[4:], 'sgd_update')\n",
    "        print(log_prob)\n",
    "        #print(accuracy)\n",
    "        self.assertEqual(round(log_prob.flat[0], 2), -0.7)\n",
    "        self.assertEqual(accuracy, 0)\n",
    "        \n",
    "        \n",
    "        \n",
    "        \n",
    "    \n",
    "    #BEGIN Workspace\n",
    "    #Add more test functions as required\n",
    "    #END Workspace\n",
    "    \n",
    "tests = LogRegTester()\n",
    "myTests = unittest.TestLoader().loadTestsFromModule(tests)\n",
    "unittest.TextTestRunner().run(myTests)"
   ]
  },
  {
   "cell_type": "markdown",
   "metadata": {},
   "source": [
    "##### [20 Points] Problem 2: Understanding the limits of the Logistic Regression Classifier\n",
    "\n",
    "2.1 - After completing the class above, loop over the training data and perform ___stochastic gradient descent___ for three different user-defined number of epochs 1, 3, 10], and five different values of eta range [.0001, .01, .1, .5, 1]. Train your model and do the following:\n",
    "\n",
    "* Using the `progress` method, calculate the accuracy on the training and the valid sets every 100 iterations. Plot them on same graph for every comparison.\n",
    "\n",
    "* Using `progress` method, calculate the accuracy on the validation set and store it for every epoch.\n",
    "\n",
    "Don't forget to shuffle your training data after each epoch."
   ]
  },
  {
   "cell_type": "code",
   "execution_count": 6,
   "metadata": {},
   "outputs": [
    {
     "name": "stderr",
     "output_type": "stream",
     "text": [
      "/Users/vandanasridhar/Documents/anaconda3/lib/python3.6/site-packages/ipykernel_launcher.py:139: RuntimeWarning: divide by zero encountered in log\n",
      "/Users/vandanasridhar/Documents/anaconda3/lib/python3.6/site-packages/matplotlib/figure.py:445: UserWarning: Matplotlib is currently using module://ipykernel.pylab.backend_inline, which is a non-GUI backend, so cannot show the figure.\n",
      "  % get_backend())\n"
     ]
    },
    {
     "data": {
      "image/png": "[encoded data removed]",
      "text/plain": [
       "<Figure size 432x288 with 1 Axes>"
      ]
     },
     "metadata": {
      "needs_background": "light"
     },
     "output_type": "display_data"
    },
    {
     "data": {
      "image/png": "[encoded data removed]",
      "text/plain": [
       "<Figure size 432x288 with 1 Axes>"
      ]
     },
     "metadata": {
      "needs_background": "light"
     },
     "output_type": "display_data"
    }
   ],
   "source": [
    "from sklearn.utils import shuffle\n",
    "#range_of_epochs = [1,3,10]\n",
    "\n",
    "range_of_eta = [0.0001, 0.01, 0.1, 0.5, 1]\n",
    "train={}\n",
    "valid={}\n",
    "\n",
    "for eta in range_of_eta:\n",
    "    log_reg = LogReg(data2.train_x,data2.train_y, eta)\n",
    "    accuracy_train_vector=[]\n",
    "    accuracy_valid_vector=[]\n",
    "    for epoch in range(10):\n",
    "        \n",
    "        data2.train_x,data2.train_y=shuffle(data2.train_x,data2.train_y,random_state=0)\n",
    "        for iteration in range(epoch):\n",
    "            log_reg.sgd_update()\n",
    "        logprob_train,accuracy_train=log_reg.progress(data2.train_x,data2.train_y,'sgd_update')\n",
    "        logprob_valid,accuracy_valid=log_reg.progress(data2.valid_x,data2.valid_y,'sgd_update')\n",
    "        accuracy_train_vector.append(accuracy_train)\n",
    "        accuracy_valid_vector.append(accuracy_valid)\n",
    "        #print(accuracy_train_vector)    \n",
    "    train[eta]=accuracy_train_vector\n",
    "    valid[eta]=accuracy_valid_vector\n",
    "                \n",
    "    #print(accuracy_train_vector) \n",
    "\n",
    "\n",
    "f = plt.figure(1)\n",
    "plt.plot(range(10),train[.0001],label='.0001')\n",
    "plt.plot(range(10),train[.01],label='.01')\n",
    "plt.plot(range(10),train[.1],label='.1')\n",
    "plt.plot(range(10),train[.5],label='.5')\n",
    "plt.plot(range(10),train[1],label='1')\n",
    "plt.legend(range_of_eta)\n",
    "plt.title('train accuracy vs epochs using sgd')\n",
    "plt.xlabel('epoch')\n",
    "plt.ylabel('train accuracy')\n",
    "f.show()\n",
    "    \n",
    "g = plt.figure(2)\n",
    "plt.plot(range(10),valid[.0001],label='.0001')\n",
    "plt.plot(range(10),valid[.01],label='.01')\n",
    "plt.plot(range(10),valid[.1],label='.1')\n",
    "plt.plot(range(10),valid[.5],label='.5')\n",
    "plt.plot(range(10),valid[1],label='1')            \n",
    "plt.legend(range_of_eta)\n",
    "plt.title('validation accuracy vs epochs using sgd')\n",
    "plt.xlabel('epoch')\n",
    "plt.ylabel('validation accuracy')\n",
    "g.show()\n",
    "    \n",
    "    \n",
    "    #plt.show()\n",
    "        \n",
    "        \n",
    "            \n",
    "            "
   ]
  },
  {
   "cell_type": "code",
   "execution_count": 8,
   "metadata": {},
   "outputs": [
    {
     "name": "stderr",
     "output_type": "stream",
     "text": [
      "/Users/vandanasridhar/Documents/anaconda3/lib/python3.6/site-packages/ipykernel_launcher.py:139: RuntimeWarning: divide by zero encountered in log\n"
     ]
    },
    {
     "data": {
      "image/png": "[encoded data removed]",
      "text/plain": [
       "<Figure size 432x288 with 1 Axes>"
      ]
     },
     "metadata": {
      "needs_background": "light"
     },
     "output_type": "display_data"
    },
    {
     "data": {
      "image/png": "[encoded data removed]",
      "text/plain": [
       "<Figure size 432x288 with 1 Axes>"
      ]
     },
     "metadata": {
      "needs_background": "light"
     },
     "output_type": "display_data"
    }
   ],
   "source": [
    "from sklearn.utils import shuffle\n",
    "#range_of_epochs = [1,3,10]\n",
    "\n",
    "range_of_eta = [0.0001, 0.01, 0.1, 0.5, 1]\n",
    "train={}\n",
    "valid={}\n",
    "\n",
    "for eta in range_of_eta:\n",
    "    log_reg = LogReg(data2.train_x,data2.train_y, eta)\n",
    "    accuracy_train_vector=[]\n",
    "    accuracy_valid_vector=[]\n",
    "    for epoch in range(10):\n",
    "        \n",
    "        data2.train_x,data2.train_y=shuffle(data2.train_x,data2.train_y,random_state=0)\n",
    "        for iteration in range(epoch):\n",
    "            log_reg.mini_batch_update(5)\n",
    "        logprob_train,accuracy_train=log_reg.progress(data2.train_x,data2.train_y,'mini_batch_update',5)\n",
    "        logprob_valid,accuracy_valid=log_reg.progress(data2.valid_x,data2.valid_y,'mini_batch_update',5)\n",
    "                \n",
    "        accuracy_train_vector.append(accuracy_train)\n",
    "        accuracy_valid_vector.append(accuracy_valid)\n",
    "            \n",
    "    train[eta]=accuracy_train_vector\n",
    "    valid[eta]=accuracy_valid_vector\n",
    "                \n",
    "    #print(accuracy_train_vector) \n",
    "f = plt.figure(1)\n",
    "plt.plot(range(10),train[.0001],label='.0001')\n",
    "plt.plot(range(10),train[.01],label='.01')\n",
    "plt.plot(range(10),train[.1],label='.1')\n",
    "plt.plot(range(10),train[.5],label='.5')\n",
    "plt.plot(range(10),train[1],label='1')\n",
    "plt.title('train accuracy vs epochs using mini batch gd')\n",
    "plt.legend(range_of_eta)\n",
    "plt.xlabel('epoch')\n",
    "plt.ylabel('train accuracy')\n",
    "f.show()\n",
    "\n",
    "g = plt.figure(2)\n",
    "plt.plot(range(10),valid[.0001],label='.0001')\n",
    "plt.plot(range(10),valid[.01],label='.01')\n",
    "plt.plot(range(10),valid[.1],label='.1')\n",
    "plt.plot(range(10),valid[.5],label='.5')\n",
    "plt.plot(range(10),valid[1],label='1')\n",
    "plt.title('validation accuracy vs epochs using mini batch gd')    \n",
    "plt.legend(range_of_eta)\n",
    "plt.xlabel('epoch')\n",
    "plt.ylabel('validation accuracy')\n",
    "g.show()"
   ]
  },
  {
   "cell_type": "code",
   "execution_count": 144,
   "metadata": {},
   "outputs": [
    {
     "name": "stderr",
     "output_type": "stream",
     "text": [
      "/Users/vandanasridhar/Documents/anaconda3/lib/python3.6/site-packages/ipykernel_launcher.py:137: RuntimeWarning: divide by zero encountered in log\n",
      "/Users/vandanasridhar/Documents/anaconda3/lib/python3.6/site-packages/ipykernel_launcher.py:137: RuntimeWarning: invalid value encountered in multiply\n"
     ]
    }
   ],
   "source": []
  },
  {
   "cell_type": "markdown",
   "metadata": {},
   "source": [
    "2.2 - After completing the class above, loop over the training data and perform ___mini batch gradient descent___ for three different user-defined number of epochs 1, 3, 10], and five different values of eta range [.0001, .01, .1, .5, 1]. Train your model and do the following:\n",
    "\n",
    "* Using the `progress` method, calculate the accuracy on the training and the valid sets every 100 iterations. Plot them on same graph for every comparison.\n",
    "\n",
    "* Using `progress` method, calculate the accuracy on the validation set and store it for every epoch.\n",
    "\n",
    "Don't forget to shuffle your training data after each epoch."
   ]
  },
  {
   "cell_type": "markdown",
   "metadata": {},
   "source": [
    "**Q:** Briefly describe the role of learning rate (eta) on the efficiency of convergence during training."
   ]
  },
  {
   "cell_type": "markdown",
   "metadata": {},
   "source": [
    ">From the above graphs, I infer that choosing a learning rate is rather essential. A learning rate that is too small such as .0001 leads to a very slow convergence, while a learning rate that is too large such as 1 can hinder the convergence and cause the loss function to fluctuate or sometimes diverge. The graph for the learning rate of 1 is very jumpy in both stochastic as well as mini batch gradient descent. Judging from the graphs the optimal learning rate is 0.01 which takes considerable number of steps to converge. The curve for the eta of 0.01 is smooth when plotted against the number of epochs.<br/> <br/>\n",
    ">Another factor that I noticed from the graph is that an effective learning rate also depends on the number of epochs for convergence.For fewer epochs, learning rates such as .01,.1,.5 and 1 have similar accuracy of 98% which is high. For mid-range values such as 5 epochs, eta of .01 does better than all. "
   ]
  },
  {
   "cell_type": "markdown",
   "metadata": {},
   "source": [
    "**Q:** Briefly describe the role of the number of epochs on validation accuracy."
   ]
  },
  {
   "cell_type": "markdown",
   "metadata": {},
   "source": [
    ">Judging from the graphs, increasing the number of epochs would lead to an increase in accuracy. This appears to be true for low learning rates, though at eta=0.5 the accuracy is actually lowest for the greatest number of epochs while training through stochastic gradient descent. <br/><br/>\n",
    ">Looking at the plots above, it seems that larger learning rates lead to much more varied models. This makes sense, as larger learning rates lead to larger movements or \"jumps\" around the parameter space, which are less predictable and more prone to over shooting the minimum."
   ]
  },
  {
   "cell_type": "markdown",
   "metadata": {},
   "source": [
    "### [ 30 points] Problem 4: Implementing the Logistic Regression Classifier for Multinomial Classification\n",
    "\n",
    "You will now create a classifier that is commonly referred to as Multinomial Logistic Regression. The particular method you will be implementing is **One Vs All** or **One Vs Rest**. The dataset will be the MNIST dataset which includes all digits 0-9. You are free to use the functions you created above as needed."
   ]
  },
  {
   "cell_type": "code",
   "execution_count": 106,
   "metadata": {},
   "outputs": [],
   "source": [
    "class Numbers2:\n",
    "    \"\"\"\n",
    "    Class to store MNIST data for images of 0-9\n",
    "    \"\"\" \n",
    "    def __init__(self, location):\n",
    "        # You shouldn't have to modify this class, but you can if you'd like\n",
    "        # Load the dataset\n",
    "        with gzip.open(location, 'rb') as f:\n",
    "            train_set, valid_set, test_set = pickle.load(f)\n",
    " \n",
    "        self.train_x, self.train_y = train_set\n",
    "        self.test_x, self.test_y = valid_set"
   ]
  },
  {
   "cell_type": "code",
   "execution_count": 107,
   "metadata": {},
   "outputs": [
    {
     "name": "stdout",
     "output_type": "stream",
     "text": [
      "[5 0 4 1 9 2 1 3 1 4]\n",
      "true label: 6\n"
     ]
    },
    {
     "data": {
      "image/png": "[encoded data removed]",
      "text/plain": [
       "<Figure size 432x288 with 1 Axes>"
      ]
     },
     "metadata": {
      "needs_background": "light"
     },
     "output_type": "display_data"
    }
   ],
   "source": [
    "data3 = Numbers2('mnist.pklz')\n",
    "print(data3.train_y[:10])\n",
    "def view_digit(example, label=None):\n",
    "    if label is not None: print(\"true label: {:d}\".format(label))\n",
    "    plt.imshow(example.reshape(28,28), cmap='gray');\n",
    "view_digit(data3.train_x[18],data3.train_y[18])"
   ]
  },
  {
   "cell_type": "code",
   "execution_count": 9,
   "metadata": {},
   "outputs": [],
   "source": [
    "class MultiLogReg:\n",
    "    \"\"\"\n",
    "    Class to store MNIST data for images of 0-9\n",
    "    \"\"\" \n",
    "    def __init__(self, X, y, eta = 0.1):\n",
    "        #self.X = self.normalize_data()\n",
    "        self.X = X\n",
    "        #self.y = one_hot_encoding(self, y)\n",
    "        self.y= y\n",
    "        self.eta = eta\n",
    "        \n",
    "    def one_hot_encoding(self, y):\n",
    "        # TO DO: Represent the output vector y as a one hot encoding. Create a matrix of dimensions (m X 10) \n",
    "        # where m = number of examples, and 10 for number of classes\n",
    "        # if the class for the ith example is 7, then y[i][7] = 1 and the for k != 7, y[i][k] = 0.\n",
    "        onehot=[]\n",
    "        for i in range(len(y)):\n",
    "            vec=np.zeros(9)\n",
    "            index=y[i]\n",
    "            var=np.insert(vec,index,1)\n",
    "            onehot.append(var)\n",
    "        \n",
    "        #print(np.array(onehot))\n",
    "        return(np.array(onehot))\n",
    "                #pass\n",
    "        \n",
    "    \n",
    "\n",
    "        \n",
    "    def normalize_data(self, X):\n",
    "        \n",
    "        # TO DO: Normalize the dataset X using the mean and standard deviation of all the training examples \n",
    "        train_mean= np.mean(X)\n",
    "        #print(train_mean)\n",
    "        train_sd=np.std(X)\n",
    "        #print(train_sd)\n",
    "        normalized_X=(X-train_mean)/train_sd\n",
    "        #print(normalized_X)\n",
    "        return(normalized_X)\n",
    "        \n",
    "    def get_optimal_parameters(self):\n",
    "        # TO DO: This is the main training loop. You will have to find the optimal weights for all 10 models\n",
    "        # Each model is fit to its class which is (0-9), and the cost function will be against all of the other \n",
    "        # numbers, i.e. \"the rest\".\n",
    "        #pass\n",
    "        #print(self.y.shape)\n",
    "        #print(self.y.T)\n",
    "        #print(self.X.T.shape)\n",
    "        a=self.one_hot_encoding(self.y)\n",
    "        opt_weights=[]\n",
    "        w=[]\n",
    "        for i in range(10):\n",
    "            #obj=LogReg(self.X,self.y[:,i])\n",
    "            obj=LogReg(self.X,a[:,i])\n",
    "            \n",
    "            for epoch in range(6):\n",
    "                #print(i)\n",
    "                w=obj.sgd_update()\n",
    "                #print(w)\n",
    "            opt_weights.append(w)\n",
    "            \n",
    "        #print(opt_weights)\n",
    "        #print(len(opt_weights))\n",
    "        return(opt_weights)\n",
    "            \n",
    "            \n",
    "    \n",
    "    #create 10 objects of log reg(self.X,self.y.T[0])\n",
    "    #=self.weights.append(object.sgd_update()\n",
    "    \n",
    "    def predict(self, test_image):\n",
    "        # TO DO: This function should return the probabilities predicted by each of the models for some given \n",
    "        # input image. The probabilities are sorted with the most likely being listed first.\n",
    "        # Return a vector of shape (10, 2) with the first column holding the number and the second column with\n",
    "        # the probability that the test_image is that number\n",
    "        '''\n",
    "        #listofprob=[]\n",
    "        #listofindex=[]\n",
    "        result=[]\n",
    "        \n",
    "        weights=self.get_optimal_parameters()\n",
    "        \n",
    "        for i in range(10):\n",
    "            #best_class=0\n",
    "            score=np.dot(test_image,weights[i])\n",
    "            h = 1.0/(1.0 + np.exp(-score))\n",
    "            #print(h)\n",
    "            listofprob.append(h)\n",
    "            listofindex.append(i)\n",
    "         '''\n",
    "        probs=np.zeros((10,2))\n",
    "        weights=self.get_optimal_parameters()\n",
    "        for i in range(10):\n",
    "            score=np.dot(test_image,weights[i])\n",
    "            h = 1.0/(1.0 + np.exp(-score))\n",
    "            probs[i,0]=i\n",
    "            probs[i,1]=h\n",
    "            \n",
    "        probs=probs[probs[:,1].argsort()[::-1]]\n",
    "        \n",
    "        #print(probs.item[0][0])\n",
    "        \n",
    "        #print('Model prediction probabilites\\n')\n",
    "        #for j in range(10):\n",
    "            #print( \"{} with probability = {:.3f}\".format(int(probs[j,0]), probs[j,1]))\n",
    "        return(probs)  \n",
    "        \n",
    "        \n",
    "        \n",
    "    def accuracy_percent(self,datasets):\n",
    "        weights=self.get_optimal_parameters()\n",
    "        \n",
    "        for ds in datasets:\n",
    "            \n",
    "            set_name,yl,xd=ds\n",
    "            yls=yl.size\n",
    "            prob=np.zeros((10,2))\n",
    "            count=0\n",
    "            for sample in range(yls):\n",
    "                for num in range(10):\n",
    "                    score=np.dot(xd[sample,:],weights[num])\n",
    "                    h = 1.0/(1.0 + np.exp(-score))\n",
    "                    prob[num,0]=num\n",
    "                    prob[num,1]=h\n",
    "                prob = prob[prob[:,1].argsort()[::-1]]\n",
    "                if prob[0,0] == yl[sample]:\n",
    "                    count = count+1\n",
    "                    \n",
    "            accuracy=count/yls * 100    \n",
    "            print(\"{} correct out of {} : {}% correct\".format(count, yls, count/yls * 100))\n",
    "            \n",
    "    def confusionMatrix(self,X,y):\n",
    "        \n",
    "        \n",
    "        '''\n",
    "        for xx,yy in zip(X,y):\n",
    "            column=self.predict(xx)\n",
    "            maxvalue=column[0,0]\n",
    "            newvalue=int(maxvalue)\n",
    "            c[yy][newvalue]+=1\n",
    "        '''\n",
    "        yl=y\n",
    "        xd=X\n",
    "        yls=yl.size\n",
    "        prob=np.zeros((10,2))\n",
    "        weights=self.get_optimal_parameters()\n",
    "        c=np.zeros((10,10),dtype=int)\n",
    "        for sample in range(yls):\n",
    "            for num in range(10):\n",
    "                score=np.dot(xd[sample,:],weights[num])\n",
    "                h = 1.0/(1.0 + np.exp(-score))\n",
    "                prob[num,0]=num\n",
    "                prob[num,1]=h\n",
    "            prob = prob[prob[:,1].argsort()[::-1]]\n",
    "            i=prob[0,0]\n",
    "            value=int(i)\n",
    "            j=yl[sample]\n",
    "            c[value][j]+=1\n",
    "                \n",
    "         \n",
    "        \n",
    "        print(c)\n",
    "        \n",
    "        \n",
    "    def misclassification(self,X,y):\n",
    "        misclassified_images=[]\n",
    "        yl=y\n",
    "        xd=X\n",
    "        yls=yl.size\n",
    "        prob=np.zeros((10,2))\n",
    "        weights=self.get_optimal_parameters()\n",
    "        for sample in range(yls):\n",
    "            for num in range(10):\n",
    "                score=np.dot(xd[sample,:],weights[num])\n",
    "                h = 1.0/(1.0 + np.exp(-score))\n",
    "                prob[num,0]=num\n",
    "                prob[num,1]=h\n",
    "            prob = prob[prob[:,1].argsort()[::-1]]\n",
    "            i=prob[0,0]\n",
    "            value=int(i)\n",
    "            j=yl[sample]\n",
    "            \n",
    "            if value!=j:\n",
    "                misclassified_images.append((j,value))\n",
    "        print(misclassified_images)\n",
    "        print(len(misclassified_images))\n",
    "            \n",
    "        \n",
    "        \n",
    "            \n",
    "        \n",
    "        #pass\n"
   ]
  },
  {
   "cell_type": "code",
   "execution_count": 10,
   "metadata": {
    "scrolled": false
   },
   "outputs": [],
   "source": [
    "\n",
    "\n",
    "#obj.one_hot_encoding(data2.train_y)\n",
    "#obj.normalize_data(data2.train_x)\n",
    "#obj.get_optimal_parameters()\n",
    "#var=data3.test_x[23]\n",
    "\n",
    "#print(data3.train_y.shape)\n",
    "#print(data3.train_x.shape)\n",
    "\n",
    "#obj.confusionMatrix(data3.train_x,data3.train_y)\n",
    "#obj.confusionMatrix(data3.test_x,data3.test_y)\n",
    "#obj.misclassification(data3.train_x,data3.train_y)\n",
    "#obj.predict(var)\n",
    "#datasets=[('training set',data3.train_y,data3.train_x)]\n",
    "#obj.accuracy_percent(datasets)\n",
    "#datasets1=[('test set',data3.test_y,data3.test_x)]\n",
    "#obj.accuracy_percent(datasets1)\n",
    "#def view_digit(example, label=None):\n",
    "   # if label is not None: print(\"true label: {:d}\".format(label))\n",
    "   # plt.imshow(example.reshape(28,28), cmap='gray');\n",
    "#view_digit(data3.train_x[23],data3.train_y[23])"
   ]
  },
  {
   "cell_type": "markdown",
   "metadata": {},
   "source": [
    "### QUESTION ###\n",
    "It is important to know how well your model did on the whole. You need to report the ___accuracy as a percentage___ on the training set and the test set from Numbers2. You should also plot a ___confusion matrix___ for both, just like you did on the last homework and mention the numbers that were misclassified the most"
   ]
  },
  {
   "cell_type": "code",
   "execution_count": 109,
   "metadata": {},
   "outputs": [
    {
     "name": "stdout",
     "output_type": "stream",
     "text": [
      "\n",
      "accuracy on train and test data from Numbers2 class\n",
      "\n",
      " Accuracy on training data\n",
      "43642 correct out of 50000 : 87.28399999999999% correct\n",
      "\n",
      "\n",
      "\n",
      " Accuracy on test data\n",
      "8760 correct out of 10000 : 87.6% correct\n"
     ]
    }
   ],
   "source": [
    "# TO DO: COMPUTE ACCURACY ON THE TRAIN AND TEST DATA FROM NUMBERS2\n",
    "print('\\naccuracy on train and test data from Numbers2 class')\n",
    "print('\\n Accuracy on training data')\n",
    "testobject=MultiLogReg(data3.train_x,data3.train_y)\n",
    "datasets=[('training set',data3.train_y,data3.train_x)]\n",
    "testobject.accuracy_percent(datasets)\n",
    "print('\\n')\n",
    "print('\\n Accuracy on test data')\n",
    "datasets1=[('test set',data3.test_y,data3.test_x)]\n",
    "testobject.accuracy_percent(datasets1)\n",
    "\n",
    "\n",
    "\n",
    "\n",
    "\n",
    "                \n",
    "\n",
    "\n"
   ]
  },
  {
   "cell_type": "code",
   "execution_count": 110,
   "metadata": {},
   "outputs": [
    {
     "name": "stdout",
     "output_type": "stream",
     "text": [
      "\n",
      " Confusion matrix on the training data\n",
      "[[4877    2  109  172   18  199  138   28  200   79]\n",
      " [   1 5420   49   26   13   36   16   14  103   28]\n",
      " [   6   35 4242  198   17   54   81   33   72    6]\n",
      " [   5   16  111 3858    0  153   35    6   49   21]\n",
      " [  11    8   75   32 4481  112   89   49  101  298]\n",
      " [   4   12   32  253   21 3640  189   10  267   65]\n",
      " [   2    0   17    5   10   13 4306    2   10    0]\n",
      " [   3   15  100   85   28   35   11 4893   39  380]\n",
      " [  23  167  216  295   62  210   83   24 3901   87]\n",
      " [   0    3   17  177  209   54    3  116  100 4024]]\n",
      "\n",
      "\n",
      "\n",
      " Confusion matrix on the test data\n",
      "[[ 978    0   13   42    4   54   28   14   30   20]\n",
      " [   0 1025   10    2   10    3    6    6   23   10]\n",
      " [   2    5  856   30    4   19   18    7   18    1]\n",
      " [   1    3   17  774    0   37    6    2   10    3]\n",
      " [   3    1   17    7  925   26   13    9   14   48]\n",
      " [   0    6   11   61    1  724   31    0   55    6]\n",
      " [   0    0    3    2    1    8  850    0    2    0]\n",
      " [   2    0   22    5    2   10    3 1021   14   65]\n",
      " [   5   24   41   69    8   28   12    5  813   14]\n",
      " [   0    0    0   38   28    6    0   26   30  794]]\n"
     ]
    }
   ],
   "source": [
    "# TO DO: PLOT THE CONFUSION MATRIX ON TEST AND TRAIN DATA. \n",
    "print('\\n Confusion matrix on the training data')\n",
    "testobject.confusionMatrix(data3.train_x,data3.train_y)\n",
    "print('\\n')\n",
    "print('\\n Confusion matrix on the test data')\n",
    "testobject.confusionMatrix(data3.test_x,data3.test_y)"
   ]
  },
  {
   "cell_type": "markdown",
   "metadata": {},
   "source": [
    "> Judging from the above confusion matrices, the most commonly misclassified numbers would be 0 where it is wrongly classified as 2,3,5,6 and 8 owing to human error in writing. Numbers 2 and 3 are interchangeably misclassified.The same applies to numbers (4 & 9) as well as the pairs (9 & 7), (8 & 3)"
   ]
  },
  {
   "cell_type": "code",
   "execution_count": null,
   "metadata": {},
   "outputs": [],
   "source": []
  }
 ],
 "metadata": {
  "kernelspec": {
   "display_name": "Python 3",
   "language": "python",
   "name": "python3"
  },
  "language_info": {
   "codemirror_mode": {
    "name": "ipython",
    "version": 3
   },
   "file_extension": ".py",
   "mimetype": "text/x-python",
   "name": "python",
   "nbconvert_exporter": "python",
   "pygments_lexer": "ipython3",
   "version": "3.6.8"
  }
 },
 "nbformat": 4,
 "nbformat_minor": 2
}
