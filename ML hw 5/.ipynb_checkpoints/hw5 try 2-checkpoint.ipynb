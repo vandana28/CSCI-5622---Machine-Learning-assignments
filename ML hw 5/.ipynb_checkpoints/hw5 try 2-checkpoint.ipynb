{
 "cells": [
  {
   "cell_type": "code",
   "execution_count": 38,
   "metadata": {},
   "outputs": [],
   "source": [
    "%matplotlib inline\n",
    "import pandas as pd\n",
    "import numpy as np\n",
    "import matplotlib\n",
    "import matplotlib.pyplot as plt\n",
    "import itertools\n",
    "from sklearn.base import BaseEstimator, TransformerMixin\n",
    "from sklearn.ensemble import RandomForestClassifier, AdaBoostClassifier\n",
    "from sklearn.linear_model import SGDClassifier\n",
    "from sklearn.metrics import confusion_matrix, accuracy_score\n",
    "from sklearn.model_selection import GridSearchCV, train_test_split\n",
    "from sklearn.neighbors import KNeighborsClassifier\n",
    "from sklearn.preprocessing import LabelBinarizer, StandardScaler\n",
    "from sklearn.pipeline import FeatureUnion, Pipeline\n",
    "from sklearn.svm import LinearSVC, SVC\n"
   ]
  },
  {
   "cell_type": "code",
   "execution_count": 39,
   "metadata": {},
   "outputs": [],
   "source": [
    "names=['age','workclass','fnlwgt','education','education-num','marital-status','occupation','relationship','race','sex','capital-gain','capital-loss','hours-per-week','native-country','income']\n",
    "dataset = pd.read_csv(\"train.data\",names=names)\n",
    "#names1=['age','workclass','fnlwgt','education','education-num','marital-status','occupation','relationship','race','sex','capital-gain','capital-loss','hours-per-week','native-country']\n",
    "testdata = pd.read_csv(\"test.data\",names=names)"
   ]
  },
  {
   "cell_type": "code",
   "execution_count": 40,
   "metadata": {},
   "outputs": [
    {
     "name": "stdout",
     "output_type": "stream",
     "text": [
      "1.workclass: {' Self-emp-inc', ' Private', ' State-gov', ' Never-worked', ' Federal-gov', ' Self-emp-not-inc', ' Local-gov', ' Without-pay', ' ?'}\n",
      "2.education: {' 7th-8th', ' 12th', ' 1st-4th', ' Bachelors', ' Masters', ' 9th', ' HS-grad', ' Prof-school', ' 11th', ' Assoc-voc', ' Preschool', ' 10th', ' Doctorate', ' Some-college', ' 5th-6th', ' Assoc-acdm'}\n",
      "3.marital-status: {' Widowed', ' Married-spouse-absent', ' Married-AF-spouse', ' Divorced', ' Never-married', ' Separated', ' Married-civ-spouse'}\n",
      "4.occupation: {' Tech-support', ' Craft-repair', ' Machine-op-inspct', ' Handlers-cleaners', ' Transport-moving', ' Priv-house-serv', ' Protective-serv', ' Sales', ' Farming-fishing', ' Other-service', ' Exec-managerial', ' Armed-Forces', ' ?', ' Adm-clerical', ' Prof-specialty'}\n",
      "5.relationship: {' Own-child', ' Not-in-family', ' Husband', ' Wife', ' Unmarried', ' Other-relative'}\n",
      "6.race: {' Other', ' Amer-Indian-Eskimo', ' Asian-Pac-Islander', ' Black', ' White'}\n",
      "7.sex: {' Female', ' Male'}\n",
      "8.native-country: {' England', ' Iran', ' Poland', ' Thailand', ' Outlying-US(Guam-USVI-etc)', ' Vietnam', ' India', ' Trinadad&Tobago', ' Columbia', ' Honduras', ' Italy', ' Yugoslavia', ' Laos', ' Portugal', ' Cuba', ' Japan', ' Greece', ' United-States', ' Hong', ' Scotland', ' Ecuador', ' Cambodia', ' ?', ' Puerto-Rico', ' Holand-Netherlands', ' Germany', ' Philippines', ' France', ' Canada', ' El-Salvador', ' China', ' Jamaica', ' Taiwan', ' Hungary', ' Peru', ' Dominican-Republic', ' Nicaragua', ' Ireland', ' Mexico', ' South', ' Guatemala', ' Haiti'}\n"
     ]
    }
   ],
   "source": [
    "print('1.workclass:',set(dataset['workclass']) )\n",
    "\n",
    "dataset['workclass'] = dataset['workclass'].map({'?':-1, 'Without-pay':0,'Never-worked':1, 'Local-gov':2,'State-gov':3, 'Federal-gov':4,\n",
    "                                      'Private':5, 'Self-emp-not-inc':6, 'Self-emp-inc':7})\n",
    "\n",
    "testdata['workclass'] = testdata['workclass'].map({'?':-1, 'Without-pay':0,'Never-worked':1, 'Local-gov':2,'State-gov':3, 'Federal-gov':4,\n",
    "                                      'Private':5, 'Self-emp-not-inc':6, 'Self-emp-inc':7})\n",
    "\n",
    "\n",
    "education_set = set(dataset['education']) \n",
    "print('2.education:',education_set)\n",
    "\n",
    "dataset['education'] = dataset['education'].map({'Preschool':0,'1st-4th':1,'5th-6th':2, '7th-8th':3,\n",
    "                                      '9th':4, '10th':5, '11th':6, '12th':7, 'Prof-school':8, \n",
    "                                      'HS-grad':9, 'Some-college':10, 'Assoc-voc':11, 'Assoc-acdm':12,\n",
    "                                       'Bachelors':13, 'Masters':14, 'Doctorate':15})\n",
    "\n",
    "testdata['education'] = testdata['education'].map({'Preschool':0,'1st-4th':1,'5th-6th':2, '7th-8th':3,\n",
    "                                      '9th':4, '10th':5, '11th':6, '12th':7, 'Prof-school':8, \n",
    "                                      'HS-grad':9, 'Some-college':10, 'Assoc-voc':11, 'Assoc-acdm':12,\n",
    "                                       'Bachelors':13, 'Masters':14, 'Doctorate':15})\n",
    "\n",
    "maritalstatus_set = set(dataset['marital-status']) \n",
    "print('3.marital-status:',maritalstatus_set)\n",
    "\n",
    "dataset['marital-status'] = dataset['marital-status'].map({'Never-married':0,'Widowed':1,'Divorced':2, 'Separated':3,\n",
    "                                      'Married-spouse-absent':4, 'Married-civ-spouse':5, 'Married-AF-spouse':6})\n",
    "\n",
    "testdata['marital-status'] = testdata['marital-status'].map({'Never-married':0,'Widowed':1,'Divorced':2, 'Separated':3,\n",
    "                                      'Married-spouse-absent':4, 'Married-civ-spouse':5, 'Married-AF-spouse':6})\n",
    "\n",
    "print('4.occupation:',set(dataset['occupation']))\n",
    "dataset['occupation'] = dataset['occupation'].map({'?':-1,'Priv-house-serv':0,'Protective-serv':1,'Handlers-cleaners':2, 'Machine-op-inspct':3,\n",
    "                                      'Adm-clerical':4, 'Farming-fishing':5, 'Transport-moving':6, 'Craft-repair':7, 'Other-service':8,\n",
    "                                       'Tech-support':9, 'Sales':10, 'Exec-managerial':11, 'Prof-specialty':12, 'Armed-Forces':13 })\n",
    "\n",
    "testdata['occupation'] = testdata['occupation'].map({'?':-1,'Priv-house-serv':0,'Protective-serv':1,'Handlers-cleaners':2, 'Machine-op-inspct':3,\n",
    "                                      'Adm-clerical':4, 'Farming-fishing':5, 'Transport-moving':6, 'Craft-repair':7, 'Other-service':8,\n",
    "                                       'Tech-support':9, 'Sales':10, 'Exec-managerial':11, 'Prof-specialty':12, 'Armed-Forces':13 })\n",
    "\n",
    "print('5.relationship:',set(dataset['relationship']))\n",
    "dataset['relationship'] = dataset['relationship'].map({'Unmarried':0,'Other-relative':1, 'Not-in-family':2,\n",
    "                                      'Wife':3, 'Husband':4,'Own-child':5})\n",
    "\n",
    "testdata['relationship'] = testdata['relationship'].map({'Unmarried':0,'Other-relative':1, 'Not-in-family':2,\n",
    "                                      'Wife':3, 'Husband':4,'Own-child':5})\n",
    "\n",
    "print('6.race:',set(dataset['race']) )\n",
    "dataset['race'] = dataset['race'].map({'Black':0,'Asian-Pac-Islander':1,'Amer-Indian-Eskimo':2, 'Other':3,\n",
    "                                      'White':4})\n",
    "\n",
    "testdata['race'] = testdata['race'].map({'Black':0,'Asian-Pac-Islander':1,'Amer-Indian-Eskimo':2, 'Other':3,\n",
    "                                      'White':4})\n",
    "\n",
    "print('7.sex:',set(dataset['sex']))\n",
    "dataset['sex'] = dataset['sex'].map({'Male':0,'Female':1})\n",
    "\n",
    "testdata['sex'] = testdata['sex'].map({'Male':0,'Female':1})\n",
    "\n",
    "print('8.native-country:',set(dataset['native-country']))\n",
    "dataset['native-country'] = dataset['native-country'].map({'?':-1,'Puerto-Rico':0,'Haiti':1,'Cuba':2, 'Iran':3,\n",
    "                                      'Honduras':4, 'Jamaica':5, 'Vietnam':6, 'Mexico':7, 'Dominican-Republic':8,\n",
    "                                       'Laos':9, 'Ecuador':10, 'El-Salvador':11, 'Cambodia':12, 'Columbia':13,\n",
    "                                         'Guatemala':14, 'South':15, 'India':16, 'Nicaragua':17, 'Yugoslavia':18, \n",
    "                                         'Philippines':19, 'Thailand':20, 'Trinadad&Tobago':21, 'Peru':22, 'Poland':23, \n",
    "                                         'China':24, 'Hungary':25, 'Greece':26, 'Taiwan':27, 'Italy':28, 'Portugal':29, \n",
    "                                         'France':30, 'Hong':31, 'England':32, 'Scotland':33, 'Ireland':34, \n",
    "                                         'Holand-Netherlands':35, 'Canada':36, 'Germany':37, 'Japan':38, \n",
    "                                         'Outlying-US(Guam-USVI-etc)':39, 'United-States':40\n",
    "                                        })\n",
    "\n",
    "testdata['native-country'] = testdata['native-country'].map({'?':-1,'Puerto-Rico':0,'Haiti':1,'Cuba':2, 'Iran':3,\n",
    "                                      'Honduras':4, 'Jamaica':5, 'Vietnam':6, 'Mexico':7, 'Dominican-Republic':8,\n",
    "                                       'Laos':9, 'Ecuador':10, 'El-Salvador':11, 'Cambodia':12, 'Columbia':13,\n",
    "                                         'Guatemala':14, 'South':15, 'India':16, 'Nicaragua':17, 'Yugoslavia':18, \n",
    "                                         'Philippines':19, 'Thailand':20, 'Trinadad&Tobago':21, 'Peru':22, 'Poland':23, \n",
    "                                         'China':24, 'Hungary':25, 'Greece':26, 'Taiwan':27, 'Italy':28, 'Portugal':29, \n",
    "                                         'France':30, 'Hong':31, 'England':32, 'Scotland':33, 'Ireland':34, \n",
    "                                         'Holand-Netherlands':35, 'Canada':36, 'Germany':37, 'Japan':38, \n",
    "                                         'Outlying-US(Guam-USVI-etc)':39, 'United-States':40\n",
    "                                        })"
   ]
  },
  {
   "cell_type": "code",
   "execution_count": 41,
   "metadata": {},
   "outputs": [],
   "source": [
    "x = dataset.iloc[ : ,:-1].values.astype(int)\n",
    "y = dataset[['income']]\n",
    "\n",
    "xtest=testdata.iloc[:,:-1].values.astype(int)"
   ]
  },
  {
   "cell_type": "code",
   "execution_count": 44,
   "metadata": {},
   "outputs": [],
   "source": [
    "x_train, x_test, y_train, y_test = train_test_split(x, y, test_size=0.2, random_state=0)"
   ]
  },
  {
   "cell_type": "code",
   "execution_count": 45,
   "metadata": {},
   "outputs": [],
   "source": [
    "class Model:\n",
    "    classifier = None\n",
    "    gridSearch = None\n",
    "    def __init__(self, classifier, paramGrid):\n",
    "        self.classifier = classifier\n",
    "    \n",
    "        self.gridSearch = GridSearchCV(self.classifier,\n",
    "                                      paramGrid,\n",
    "                                      cv=5,\n",
    "                                      scoring=\"accuracy\",\n",
    "                                      verbose=2,\n",
    "                                      n_jobs=-1)\n",
    "        \n",
    "classifiers = dict()\n",
    "classifiers[\"knn\"] = Model(KNeighborsClassifier(),\n",
    "                           [ {'n_jobs': [-1], 'n_neighbors': [2, 4, 6]} ])\n",
    "\n",
    "classifiers[\"randomForest\"] = Model(RandomForestClassifier(),\n",
    "                                    [ {'n_jobs': [-1], 'n_estimators': [10, 100, 500]},\n",
    "                                      {'n_jobs': [-1], 'n_estimators': [100], 'max_depth': [2, 20, 100]} ])\n",
    "\n",
    "classifiers[\"sgd\"] = Model(SGDClassifier(),\n",
    "                           [ {\"loss\": [\"hinge\", \"log\"], 'penalty': [\"l2\", \"l1\"]} ])\n",
    "\n",
    "classifiers[\"linearSVC\"] = Model(LinearSVC(),\n",
    "                                 [ {\"C\": [0.1, 1, 10]} ])\n",
    "\n",
    "classifiers[\"rbfSVC\"] = Model(SVC(),\n",
    "                              [ {\"C\": [0.1, 1, 10], \"kernel\": [\"rbf\"]},\n",
    "                                {\"C\": [0.1, 1, 10], \"kernel\": [\"poly\"], \"degree\": [2, 3]}])\n",
    "\n",
    "classifiers[\"adaboost\"] = Model(AdaBoostClassifier(),\n",
    "                                [ {\"n_estimators\": [10, 50, 150], \"learning_rate\": [0.1, 1]}])"
   ]
  },
  {
   "cell_type": "code",
   "execution_count": 46,
   "metadata": {},
   "outputs": [
    {
     "name": "stdout",
     "output_type": "stream",
     "text": [
      "Fitting 5 folds for each of 3 candidates, totalling 15 fits\n"
     ]
    },
    {
     "name": "stderr",
     "output_type": "stream",
     "text": [
      "[Parallel(n_jobs=-1)]: Using backend LokyBackend with 4 concurrent workers.\n",
      "[Parallel(n_jobs=-1)]: Done  15 out of  15 | elapsed:    5.0s finished\n",
      "/Users/vandanasridhar/Documents/anaconda3/lib/python3.6/site-packages/sklearn/model_selection/_search.py:740: DataConversionWarning: A column-vector y was passed when a 1d array was expected. Please change the shape of y to (n_samples, ), for example using ravel().\n",
      "  self.best_estimator_.fit(X, y, **fit_params)\n"
     ]
    },
    {
     "data": {
      "text/plain": [
       "GridSearchCV(cv=5, error_score='raise-deprecating',\n",
       "       estimator=KNeighborsClassifier(algorithm='auto', leaf_size=30, metric='minkowski',\n",
       "           metric_params=None, n_jobs=None, n_neighbors=5, p=2,\n",
       "           weights='uniform'),\n",
       "       fit_params=None, iid='warn', n_jobs=-1,\n",
       "       param_grid=[{'n_jobs': [-1], 'n_neighbors': [2, 4, 6]}],\n",
       "       pre_dispatch='2*n_jobs', refit=True, return_train_score='warn',\n",
       "       scoring='accuracy', verbose=2)"
      ]
     },
     "execution_count": 46,
     "metadata": {},
     "output_type": "execute_result"
    }
   ],
   "source": [
    "classifiers[\"knn\"].gridSearch.fit(x_train, y_train)"
   ]
  },
  {
   "cell_type": "code",
   "execution_count": 47,
   "metadata": {},
   "outputs": [
    {
     "name": "stdout",
     "output_type": "stream",
     "text": [
      "Fitting 5 folds for each of 6 candidates, totalling 30 fits\n"
     ]
    },
    {
     "name": "stderr",
     "output_type": "stream",
     "text": [
      "[Parallel(n_jobs=-1)]: Using backend LokyBackend with 4 concurrent workers.\n",
      "[Parallel(n_jobs=-1)]: Done  30 out of  30 | elapsed:   31.5s finished\n",
      "/Users/vandanasridhar/Documents/anaconda3/lib/python3.6/site-packages/sklearn/model_selection/_search.py:740: DataConversionWarning: A column-vector y was passed when a 1d array was expected. Please change the shape of y to (n_samples,), for example using ravel().\n",
      "  self.best_estimator_.fit(X, y, **fit_params)\n"
     ]
    },
    {
     "data": {
      "text/plain": [
       "GridSearchCV(cv=5, error_score='raise-deprecating',\n",
       "       estimator=RandomForestClassifier(bootstrap=True, class_weight=None, criterion='gini',\n",
       "            max_depth=None, max_features='auto', max_leaf_nodes=None,\n",
       "            min_impurity_decrease=0.0, min_impurity_split=None,\n",
       "            min_samples_leaf=1, min_samples_split=2,\n",
       "            min_weight_fraction_leaf=0.0, n_estimators='warn', n_jobs=None,\n",
       "            oob_score=False, random_state=None, verbose=0,\n",
       "            warm_start=False),\n",
       "       fit_params=None, iid='warn', n_jobs=-1,\n",
       "       param_grid=[{'n_jobs': [-1], 'n_estimators': [10, 100, 500]}, {'n_jobs': [-1], 'n_estimators': [100], 'max_depth': [2, 20, 100]}],\n",
       "       pre_dispatch='2*n_jobs', refit=True, return_train_score='warn',\n",
       "       scoring='accuracy', verbose=2)"
      ]
     },
     "execution_count": 47,
     "metadata": {},
     "output_type": "execute_result"
    }
   ],
   "source": [
    "classifiers[\"randomForest\"].gridSearch.fit(x_train, y_train)"
   ]
  },
  {
   "cell_type": "code",
   "execution_count": 48,
   "metadata": {},
   "outputs": [
    {
     "name": "stdout",
     "output_type": "stream",
     "text": [
      "Fitting 5 folds for each of 4 candidates, totalling 20 fits\n"
     ]
    },
    {
     "name": "stderr",
     "output_type": "stream",
     "text": [
      "[Parallel(n_jobs=-1)]: Using backend LokyBackend with 4 concurrent workers.\n",
      "[Parallel(n_jobs=-1)]: Done  20 out of  20 | elapsed:    0.3s finished\n",
      "/Users/vandanasridhar/Documents/anaconda3/lib/python3.6/site-packages/sklearn/linear_model/stochastic_gradient.py:166: FutureWarning: max_iter and tol parameters have been added in SGDClassifier in 0.19. If both are left unset, they default to max_iter=5 and tol=None. If tol is not None, max_iter defaults to max_iter=1000. From 0.21, default max_iter will be 1000, and default tol will be 1e-3.\n",
      "  FutureWarning)\n",
      "/Users/vandanasridhar/Documents/anaconda3/lib/python3.6/site-packages/sklearn/utils/validation.py:761: DataConversionWarning: A column-vector y was passed when a 1d array was expected. Please change the shape of y to (n_samples, ), for example using ravel().\n",
      "  y = column_or_1d(y, warn=True)\n"
     ]
    },
    {
     "data": {
      "text/plain": [
       "GridSearchCV(cv=5, error_score='raise-deprecating',\n",
       "       estimator=SGDClassifier(alpha=0.0001, average=False, class_weight=None,\n",
       "       early_stopping=False, epsilon=0.1, eta0=0.0, fit_intercept=True,\n",
       "       l1_ratio=0.15, learning_rate='optimal', loss='hinge', max_iter=None,\n",
       "       n_iter=None, n_iter_no_change=5, n_jobs=None, penalty='l2',\n",
       "       power_t=0.5, random_state=None, shuffle=True, tol=None,\n",
       "       validation_fraction=0.1, verbose=0, warm_start=False),\n",
       "       fit_params=None, iid='warn', n_jobs=-1,\n",
       "       param_grid=[{'loss': ['hinge', 'log'], 'penalty': ['l2', 'l1']}],\n",
       "       pre_dispatch='2*n_jobs', refit=True, return_train_score='warn',\n",
       "       scoring='accuracy', verbose=2)"
      ]
     },
     "execution_count": 48,
     "metadata": {},
     "output_type": "execute_result"
    }
   ],
   "source": [
    "classifiers[\"sgd\"].gridSearch.fit(x_train, y_train)"
   ]
  },
  {
   "cell_type": "code",
   "execution_count": 49,
   "metadata": {},
   "outputs": [
    {
     "name": "stdout",
     "output_type": "stream",
     "text": [
      "Fitting 5 folds for each of 3 candidates, totalling 15 fits\n"
     ]
    },
    {
     "name": "stderr",
     "output_type": "stream",
     "text": [
      "[Parallel(n_jobs=-1)]: Using backend LokyBackend with 4 concurrent workers.\n",
      "[Parallel(n_jobs=-1)]: Done  15 out of  15 | elapsed:   13.8s finished\n",
      "/Users/vandanasridhar/Documents/anaconda3/lib/python3.6/site-packages/sklearn/utils/validation.py:761: DataConversionWarning: A column-vector y was passed when a 1d array was expected. Please change the shape of y to (n_samples, ), for example using ravel().\n",
      "  y = column_or_1d(y, warn=True)\n",
      "/Users/vandanasridhar/Documents/anaconda3/lib/python3.6/site-packages/sklearn/svm/base.py:922: ConvergenceWarning: Liblinear failed to converge, increase the number of iterations.\n",
      "  \"the number of iterations.\", ConvergenceWarning)\n"
     ]
    },
    {
     "data": {
      "text/plain": [
       "GridSearchCV(cv=5, error_score='raise-deprecating',\n",
       "       estimator=LinearSVC(C=1.0, class_weight=None, dual=True, fit_intercept=True,\n",
       "     intercept_scaling=1, loss='squared_hinge', max_iter=1000,\n",
       "     multi_class='ovr', penalty='l2', random_state=None, tol=0.0001,\n",
       "     verbose=0),\n",
       "       fit_params=None, iid='warn', n_jobs=-1,\n",
       "       param_grid=[{'C': [0.1, 1, 10]}], pre_dispatch='2*n_jobs',\n",
       "       refit=True, return_train_score='warn', scoring='accuracy',\n",
       "       verbose=2)"
      ]
     },
     "execution_count": 49,
     "metadata": {},
     "output_type": "execute_result"
    }
   ],
   "source": [
    "classifiers[\"linearSVC\"].gridSearch.fit(x_train, y_train)"
   ]
  },
  {
   "cell_type": "code",
   "execution_count": 50,
   "metadata": {},
   "outputs": [
    {
     "name": "stdout",
     "output_type": "stream",
     "text": [
      "Fitting 5 folds for each of 9 candidates, totalling 45 fits\n"
     ]
    },
    {
     "name": "stderr",
     "output_type": "stream",
     "text": [
      "[Parallel(n_jobs=-1)]: Using backend LokyBackend with 4 concurrent workers.\n",
      "[Parallel(n_jobs=-1)]: Done  33 tasks      | elapsed:   40.4s\n",
      "[Parallel(n_jobs=-1)]: Done  45 out of  45 | elapsed:   50.4s finished\n",
      "/Users/vandanasridhar/Documents/anaconda3/lib/python3.6/site-packages/sklearn/utils/validation.py:761: DataConversionWarning: A column-vector y was passed when a 1d array was expected. Please change the shape of y to (n_samples, ), for example using ravel().\n",
      "  y = column_or_1d(y, warn=True)\n",
      "/Users/vandanasridhar/Documents/anaconda3/lib/python3.6/site-packages/sklearn/svm/base.py:196: FutureWarning: The default value of gamma will change from 'auto' to 'scale' in version 0.22 to account better for unscaled features. Set gamma explicitly to 'auto' or 'scale' to avoid this warning.\n",
      "  \"avoid this warning.\", FutureWarning)\n"
     ]
    },
    {
     "data": {
      "text/plain": [
       "GridSearchCV(cv=5, error_score='raise-deprecating',\n",
       "       estimator=SVC(C=1.0, cache_size=200, class_weight=None, coef0=0.0,\n",
       "  decision_function_shape='ovr', degree=3, gamma='auto_deprecated',\n",
       "  kernel='rbf', max_iter=-1, probability=False, random_state=None,\n",
       "  shrinking=True, tol=0.001, verbose=False),\n",
       "       fit_params=None, iid='warn', n_jobs=-1,\n",
       "       param_grid=[{'C': [0.1, 1, 10], 'kernel': ['rbf']}, {'C': [0.1, 1, 10], 'kernel': ['poly'], 'degree': [2, 3]}],\n",
       "       pre_dispatch='2*n_jobs', refit=True, return_train_score='warn',\n",
       "       scoring='accuracy', verbose=2)"
      ]
     },
     "execution_count": 50,
     "metadata": {},
     "output_type": "execute_result"
    }
   ],
   "source": [
    "classifiers[\"rbfSVC\"].gridSearch.fit(x_train, y_train)"
   ]
  },
  {
   "cell_type": "code",
   "execution_count": 51,
   "metadata": {},
   "outputs": [
    {
     "name": "stdout",
     "output_type": "stream",
     "text": [
      "Fitting 5 folds for each of 6 candidates, totalling 30 fits\n"
     ]
    },
    {
     "name": "stderr",
     "output_type": "stream",
     "text": [
      "[Parallel(n_jobs=-1)]: Using backend LokyBackend with 4 concurrent workers.\n",
      "[Parallel(n_jobs=-1)]: Done  30 out of  30 | elapsed:    9.5s finished\n",
      "/Users/vandanasridhar/Documents/anaconda3/lib/python3.6/site-packages/sklearn/utils/validation.py:761: DataConversionWarning: A column-vector y was passed when a 1d array was expected. Please change the shape of y to (n_samples, ), for example using ravel().\n",
      "  y = column_or_1d(y, warn=True)\n"
     ]
    },
    {
     "data": {
      "text/plain": [
       "GridSearchCV(cv=5, error_score='raise-deprecating',\n",
       "       estimator=AdaBoostClassifier(algorithm='SAMME.R', base_estimator=None,\n",
       "          learning_rate=1.0, n_estimators=50, random_state=None),\n",
       "       fit_params=None, iid='warn', n_jobs=-1,\n",
       "       param_grid=[{'n_estimators': [10, 50, 150], 'learning_rate': [0.1, 1]}],\n",
       "       pre_dispatch='2*n_jobs', refit=True, return_train_score='warn',\n",
       "       scoring='accuracy', verbose=2)"
      ]
     },
     "execution_count": 51,
     "metadata": {},
     "output_type": "execute_result"
    }
   ],
   "source": [
    "classifiers[\"adaboost\"].gridSearch.fit(x_train, y_train)"
   ]
  },
  {
   "cell_type": "code",
   "execution_count": 52,
   "metadata": {},
   "outputs": [
    {
     "name": "stdout",
     "output_type": "stream",
     "text": [
      "\n",
      "For classifier: knn\n",
      "KNeighborsClassifier(algorithm='auto', leaf_size=30, metric='minkowski',\n",
      "           metric_params=None, n_jobs=-1, n_neighbors=6, p=2,\n",
      "           weights='uniform')\n",
      "Accuracy: 0.7951090294840295\n",
      "\n",
      "For classifier: randomForest\n",
      "RandomForestClassifier(bootstrap=True, class_weight=None, criterion='gini',\n",
      "            max_depth=20, max_features='auto', max_leaf_nodes=None,\n",
      "            min_impurity_decrease=0.0, min_impurity_split=None,\n",
      "            min_samples_leaf=1, min_samples_split=2,\n",
      "            min_weight_fraction_leaf=0.0, n_estimators=100, n_jobs=-1,\n",
      "            oob_score=False, random_state=None, verbose=0,\n",
      "            warm_start=False)\n",
      "Accuracy: 0.8321560196560197\n",
      "\n",
      "For classifier: sgd\n",
      "SGDClassifier(alpha=0.0001, average=False, class_weight=None,\n",
      "       early_stopping=False, epsilon=0.1, eta0=0.0, fit_intercept=True,\n",
      "       l1_ratio=0.15, learning_rate='optimal', loss='hinge', max_iter=None,\n",
      "       n_iter=None, n_iter_no_change=5, n_jobs=None, penalty='l2',\n",
      "       power_t=0.5, random_state=None, shuffle=True, tol=None,\n",
      "       validation_fraction=0.1, verbose=0, warm_start=False)\n",
      "Accuracy: 0.656134828009828\n",
      "\n",
      "For classifier: linearSVC\n",
      "LinearSVC(C=1, class_weight=None, dual=True, fit_intercept=True,\n",
      "     intercept_scaling=1, loss='squared_hinge', max_iter=1000,\n",
      "     multi_class='ovr', penalty='l2', random_state=None, tol=0.0001,\n",
      "     verbose=0)\n",
      "Accuracy: 0.656134828009828\n",
      "\n",
      "For classifier: rbfSVC\n",
      "SVC(C=1, cache_size=200, class_weight=None, coef0=0.0,\n",
      "  decision_function_shape='ovr', degree=3, gamma='auto_deprecated',\n",
      "  kernel='rbf', max_iter=-1, probability=False, random_state=None,\n",
      "  shrinking=True, tol=0.001, verbose=False)\n",
      "Accuracy: 0.7608645577395577\n",
      "\n",
      "For classifier: adaboost\n",
      "AdaBoostClassifier(algorithm='SAMME.R', base_estimator=None, learning_rate=1,\n",
      "          n_estimators=150, random_state=None)\n",
      "Accuracy: 0.8413313882063882\n"
     ]
    }
   ],
   "source": [
    "for key in classifiers.keys():\n",
    "    print(\"\\nFor classifier:\", key)\n",
    "    print(classifiers[key].gridSearch.best_estimator_)\n",
    "    print(\"Accuracy:\", classifiers[key].gridSearch.best_score_)"
   ]
  },
  {
   "cell_type": "code",
   "execution_count": 53,
   "metadata": {},
   "outputs": [
    {
     "name": "stdout",
     "output_type": "stream",
     "text": [
      "Fitting 5 folds for each of 9 candidates, totalling 45 fits\n"
     ]
    },
    {
     "name": "stderr",
     "output_type": "stream",
     "text": [
      "[Parallel(n_jobs=-1)]: Using backend LokyBackend with 4 concurrent workers.\n",
      "[Parallel(n_jobs=-1)]: Done  33 tasks      | elapsed:   20.3s\n",
      "[Parallel(n_jobs=-1)]: Done  45 out of  45 | elapsed:   28.0s finished\n",
      "/Users/vandanasridhar/Documents/anaconda3/lib/python3.6/site-packages/sklearn/model_selection/_search.py:740: DataConversionWarning: A column-vector y was passed when a 1d array was expected. Please change the shape of y to (n_samples,), for example using ravel().\n",
      "  self.best_estimator_.fit(X, y, **fit_params)\n"
     ]
    },
    {
     "name": "stdout",
     "output_type": "stream",
     "text": [
      "Fitting 5 folds for each of 3 candidates, totalling 15 fits\n"
     ]
    },
    {
     "name": "stderr",
     "output_type": "stream",
     "text": [
      "[Parallel(n_jobs=-1)]: Using backend LokyBackend with 4 concurrent workers.\n",
      "[Parallel(n_jobs=-1)]: Done  15 out of  15 | elapsed:   12.9s finished\n",
      "/Users/vandanasridhar/Documents/anaconda3/lib/python3.6/site-packages/sklearn/utils/validation.py:761: DataConversionWarning: A column-vector y was passed when a 1d array was expected. Please change the shape of y to (n_samples, ), for example using ravel().\n",
      "  y = column_or_1d(y, warn=True)\n"
     ]
    },
    {
     "data": {
      "text/plain": [
       "GridSearchCV(cv=5, error_score='raise-deprecating',\n",
       "       estimator=AdaBoostClassifier(algorithm='SAMME.R', base_estimator=None,\n",
       "          learning_rate=1.0, n_estimators=50, random_state=None),\n",
       "       fit_params=None, iid='warn', n_jobs=-1,\n",
       "       param_grid=[{'n_estimators': [150, 200, 300]}],\n",
       "       pre_dispatch='2*n_jobs', refit=True, return_train_score='warn',\n",
       "       scoring='accuracy', verbose=2)"
      ]
     },
     "execution_count": 53,
     "metadata": {},
     "output_type": "execute_result"
    }
   ],
   "source": [
    "classifiers[\"randomForest\"] = Model(RandomForestClassifier(),\n",
    "                                    [ {'n_jobs': [-1], 'n_estimators': [90, 100, 110], 'max_depth': [15, 20, 25]} ])\n",
    "\n",
    "classifiers[\"adaboost\"] = Model(AdaBoostClassifier(),\n",
    "                                [ {\"n_estimators\": [150, 200, 300]} ])\n",
    "\n",
    "classifiers[\"randomForest\"].gridSearch.fit(x_train, y_train)\n",
    "classifiers[\"adaboost\"].gridSearch.fit(x_train, y_train)"
   ]
  },
  {
   "cell_type": "code",
   "execution_count": 54,
   "metadata": {},
   "outputs": [
    {
     "name": "stdout",
     "output_type": "stream",
     "text": [
      "\n",
      "For classifier: randomForest\n",
      "RandomForestClassifier(bootstrap=True, class_weight=None, criterion='gini',\n",
      "            max_depth=15, max_features='auto', max_leaf_nodes=None,\n",
      "            min_impurity_decrease=0.0, min_impurity_split=None,\n",
      "            min_samples_leaf=1, min_samples_split=2,\n",
      "            min_weight_fraction_leaf=0.0, n_estimators=100, n_jobs=-1,\n",
      "            oob_score=False, random_state=None, verbose=0,\n",
      "            warm_start=False)\n",
      "Accuracy: 0.8368396805896806\n",
      "\n",
      "For classifier: adaboost\n",
      "AdaBoostClassifier(algorithm='SAMME.R', base_estimator=None,\n",
      "          learning_rate=1.0, n_estimators=300, random_state=None)\n",
      "Accuracy: 0.8432509213759214\n"
     ]
    }
   ],
   "source": [
    "for key in list([\"randomForest\", \"adaboost\"]): \n",
    "    print(\"\\nFor classifier:\", key)\n",
    "    print(classifiers[key].gridSearch.best_estimator_)\n",
    "    print(\"Accuracy:\", classifiers[key].gridSearch.best_score_)"
   ]
  },
  {
   "cell_type": "code",
   "execution_count": 55,
   "metadata": {},
   "outputs": [
    {
     "name": "stdout",
     "output_type": "stream",
     "text": [
      "Fitting 5 folds for each of 3 candidates, totalling 15 fits\n"
     ]
    },
    {
     "name": "stderr",
     "output_type": "stream",
     "text": [
      "[Parallel(n_jobs=-1)]: Using backend LokyBackend with 4 concurrent workers.\n",
      "[Parallel(n_jobs=-1)]: Done  15 out of  15 | elapsed:  1.5min finished\n",
      "/Users/vandanasridhar/Documents/anaconda3/lib/python3.6/site-packages/sklearn/utils/validation.py:761: DataConversionWarning: A column-vector y was passed when a 1d array was expected. Please change the shape of y to (n_samples, ), for example using ravel().\n",
      "  y = column_or_1d(y, warn=True)\n"
     ]
    },
    {
     "name": "stdout",
     "output_type": "stream",
     "text": [
      "AdaBoostClassifier(algorithm='SAMME.R', base_estimator=None,\n",
      "          learning_rate=1.0, n_estimators=1450, random_state=None)\n",
      "Accuracy: 0.8457463144963145\n"
     ]
    }
   ],
   "source": [
    "classifiers[\"adaboost\"] = Model(AdaBoostClassifier(),\n",
    "                                [ {\"n_estimators\": [1450, 1500, 1700]}])\n",
    "classifiers[\"adaboost\"].gridSearch.fit(x_train, y_train)\n",
    "\n",
    "print(classifiers[\"adaboost\"].gridSearch.best_estimator_)\n",
    "print(\"Accuracy:\", classifiers[\"adaboost\"].gridSearch.best_score_)"
   ]
  },
  {
   "cell_type": "code",
   "execution_count": 56,
   "metadata": {},
   "outputs": [],
   "source": [
    "y_testpredictions = classifiers[\"adaboost\"].gridSearch.predict(x_test)"
   ]
  },
  {
   "cell_type": "code",
   "execution_count": 57,
   "metadata": {},
   "outputs": [
    {
     "name": "stdout",
     "output_type": "stream",
     "text": [
      "0.8398587440503608\n"
     ]
    }
   ],
   "source": [
    "print(accuracy_score(y_test, y_testpredictions))"
   ]
  },
  {
   "cell_type": "code",
   "execution_count": 58,
   "metadata": {},
   "outputs": [],
   "source": [
    "y_test_predictions = classifiers[\"adaboost\"].gridSearch.predict(xtest)"
   ]
  },
  {
   "cell_type": "code",
   "execution_count": 59,
   "metadata": {},
   "outputs": [
    {
     "data": {
      "text/plain": [
       "array([0, 0, 0, ..., 1, 0, 1])"
      ]
     },
     "execution_count": 59,
     "metadata": {},
     "output_type": "execute_result"
    }
   ],
   "source": [
    "y_test_predictions"
   ]
  },
  {
   "cell_type": "code",
   "execution_count": 60,
   "metadata": {},
   "outputs": [],
   "source": [
    "prediction1 = pd.DataFrame(y_test_predictions,columns=['category']).to_csv('prediction2.csv')"
   ]
  },
  {
   "cell_type": "code",
   "execution_count": null,
   "metadata": {},
   "outputs": [],
   "source": []
  }
 ],
 "metadata": {
  "kernelspec": {
   "display_name": "Python 3",
   "language": "python",
   "name": "python3"
  },
  "language_info": {
   "codemirror_mode": {
    "name": "ipython",
    "version": 3
   },
   "file_extension": ".py",
   "mimetype": "text/x-python",
   "name": "python",
   "nbconvert_exporter": "python",
   "pygments_lexer": "ipython3",
   "version": "3.6.8"
  }
 },
 "nbformat": 4,
 "nbformat_minor": 2
}
