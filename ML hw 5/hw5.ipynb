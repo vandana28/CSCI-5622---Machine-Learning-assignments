{
 "cells": [
  {
   "cell_type": "code",
   "execution_count": 128,
   "metadata": {},
   "outputs": [],
   "source": [
    "import pandas as pd\n",
    "import numpy as np\n",
    "import matplotlib\n",
    "import matplotlib.pyplot as plt\n",
    "import itertools\n",
    "%matplotlib inline\n",
    "from sklearn import tree\n",
    "from sklearn.tree import DecisionTreeClassifier\n",
    "from sklearn.model_selection import train_test_split\n",
    "from sklearn.metrics import classification_report\n",
    "from sklearn.metrics import confusion_matrix"
   ]
  },
  {
   "cell_type": "code",
   "execution_count": 129,
   "metadata": {},
   "outputs": [],
   "source": [
    "names=['age','workclass','fnlwgt','education','education-num','marital-status','occupation','relationship','race','sex','capital-gain','capital-loss','hours-per-week','native-country','income']\n",
    "dataset = pd.read_csv(\"train.data\",names=names)\n",
    "#names1=['age','workclass','fnlwgt','education','education-num','marital-status','occupation','relationship','race','sex','capital-gain','capital-loss','hours-per-week','native-country']\n",
    "testdata = pd.read_csv(\"test.data\",names=names)\n",
    "#print(dataset.shape)\n",
    "#print(testdata.shape)\n",
    "#dataset.head(20) # print the first 20 values\n",
    "#testdata.head(20)\n",
    "#types= dataset.dtypes\n",
    "#print(types) # print the datatypes\n"
   ]
  },
  {
   "cell_type": "code",
   "execution_count": 130,
   "metadata": {},
   "outputs": [],
   "source": [
    "pd.set_option('display.width',100)\n",
    "pd.set_option('precision',3)\n",
    "#dataset.describe()\n"
   ]
  },
  {
   "cell_type": "code",
   "execution_count": 131,
   "metadata": {},
   "outputs": [
    {
     "name": "stdout",
     "output_type": "stream",
     "text": [
      "income\n",
      "0    24720\n",
      "1     7841\n",
      "dtype: int64\n"
     ]
    }
   ],
   "source": [
    "class_counts=dataset.groupby('income').size()\n",
    "print(class_counts) # count of each class"
   ]
  },
  {
   "cell_type": "code",
   "execution_count": 132,
   "metadata": {},
   "outputs": [],
   "source": [
    "pd.set_option('display.width',100)\n",
    "pd.set_option('precision',3)\n",
    "corre = dataset.corr(method='pearson')\n",
    "#print(corre)\n"
   ]
  },
  {
   "cell_type": "code",
   "execution_count": 133,
   "metadata": {},
   "outputs": [
    {
     "name": "stdout",
     "output_type": "stream",
     "text": [
      "1.workclass: {' Federal-gov', ' Without-pay', ' State-gov', ' Private', ' Self-emp-inc', ' Never-worked', ' Local-gov', ' Self-emp-not-inc', ' ?'}\n"
     ]
    }
   ],
   "source": [
    "#need to encode categorical data\n",
    "print('1.workclass:',set(dataset['workclass']) )\n",
    "\n",
    "dataset['workclass'] = dataset['workclass'].map({'?':-1, 'Without-pay':0,'Never-worked':1, 'Local-gov':2,'State-gov':3, 'Federal-gov':4,\n",
    "                                      'Private':5, 'Self-emp-not-inc':6, 'Self-emp-inc':7})\n",
    "\n",
    "testdata['workclass'] = testdata['workclass'].map({'?':-1, 'Without-pay':0,'Never-worked':1, 'Local-gov':2,'State-gov':3, 'Federal-gov':4,\n",
    "                                      'Private':5, 'Self-emp-not-inc':6, 'Self-emp-inc':7})\n",
    "\n"
   ]
  },
  {
   "cell_type": "code",
   "execution_count": 134,
   "metadata": {},
   "outputs": [
    {
     "name": "stdout",
     "output_type": "stream",
     "text": [
      "2.education: {' 11th', ' Assoc-acdm', ' Doctorate', ' Assoc-voc', ' 1st-4th', ' Prof-school', ' Some-college', ' 7th-8th', ' 10th', ' Bachelors', ' 9th', ' Preschool', ' 5th-6th', ' HS-grad', ' Masters', ' 12th'}\n"
     ]
    }
   ],
   "source": [
    "education_set = set(dataset['education']) \n",
    "print('2.education:',education_set)\n",
    "\n",
    "dataset['education'] = dataset['education'].map({'Preschool':0,'1st-4th':1,'5th-6th':2, '7th-8th':3,\n",
    "                                      '9th':4, '10th':5, '11th':6, '12th':7, 'Prof-school':8, \n",
    "                                      'HS-grad':9, 'Some-college':10, 'Assoc-voc':11, 'Assoc-acdm':12,\n",
    "                                       'Bachelors':13, 'Masters':14, 'Doctorate':15})\n",
    "\n",
    "testdata['education'] = testdata['education'].map({'Preschool':0,'1st-4th':1,'5th-6th':2, '7th-8th':3,\n",
    "                                      '9th':4, '10th':5, '11th':6, '12th':7, 'Prof-school':8, \n",
    "                                      'HS-grad':9, 'Some-college':10, 'Assoc-voc':11, 'Assoc-acdm':12,\n",
    "                                       'Bachelors':13, 'Masters':14, 'Doctorate':15})"
   ]
  },
  {
   "cell_type": "code",
   "execution_count": 135,
   "metadata": {},
   "outputs": [
    {
     "name": "stdout",
     "output_type": "stream",
     "text": [
      "3.marital-status: {' Married-AF-spouse', ' Married-civ-spouse', ' Divorced', ' Separated', ' Married-spouse-absent', ' Never-married', ' Widowed'}\n"
     ]
    }
   ],
   "source": [
    "maritalstatus_set = set(dataset['marital-status']) \n",
    "print('3.marital-status:',maritalstatus_set)\n",
    "\n",
    "dataset['marital-status'] = dataset['marital-status'].map({'Never-married':0,'Widowed':1,'Divorced':2, 'Separated':3,\n",
    "                                      'Married-spouse-absent':4, 'Married-civ-spouse':5, 'Married-AF-spouse':6})\n",
    "\n",
    "testdata['marital-status'] = testdata['marital-status'].map({'Never-married':0,'Widowed':1,'Divorced':2, 'Separated':3,\n",
    "                                      'Married-spouse-absent':4, 'Married-civ-spouse':5, 'Married-AF-spouse':6})"
   ]
  },
  {
   "cell_type": "code",
   "execution_count": 136,
   "metadata": {},
   "outputs": [
    {
     "name": "stdout",
     "output_type": "stream",
     "text": [
      "4.occupation: {' Craft-repair', ' Prof-specialty', ' Adm-clerical', ' Exec-managerial', ' Farming-fishing', ' ?', ' Tech-support', ' Armed-Forces', ' Protective-serv', ' Priv-house-serv', ' Machine-op-inspct', ' Handlers-cleaners', ' Other-service', ' Transport-moving', ' Sales'}\n"
     ]
    }
   ],
   "source": [
    "print('4.occupation:',set(dataset['occupation']))\n",
    "dataset['occupation'] = dataset['occupation'].map({'?':-1,'Priv-house-serv':0,'Protective-serv':1,'Handlers-cleaners':2, 'Machine-op-inspct':3,\n",
    "                                      'Adm-clerical':4, 'Farming-fishing':5, 'Transport-moving':6, 'Craft-repair':7, 'Other-service':8,\n",
    "                                       'Tech-support':9, 'Sales':10, 'Exec-managerial':11, 'Prof-specialty':12, 'Armed-Forces':13 })\n",
    "\n",
    "testdata['occupation'] = testdata['occupation'].map({'?':-1,'Priv-house-serv':0,'Protective-serv':1,'Handlers-cleaners':2, 'Machine-op-inspct':3,\n",
    "                                      'Adm-clerical':4, 'Farming-fishing':5, 'Transport-moving':6, 'Craft-repair':7, 'Other-service':8,\n",
    "                                       'Tech-support':9, 'Sales':10, 'Exec-managerial':11, 'Prof-specialty':12, 'Armed-Forces':13 })"
   ]
  },
  {
   "cell_type": "code",
   "execution_count": 137,
   "metadata": {},
   "outputs": [
    {
     "name": "stdout",
     "output_type": "stream",
     "text": [
      "5.relationship: {' Not-in-family', ' Husband', ' Other-relative', ' Own-child', ' Unmarried', ' Wife'}\n"
     ]
    }
   ],
   "source": [
    "print('5.relationship:',set(dataset['relationship']))\n",
    "dataset['relationship'] = dataset['relationship'].map({'Unmarried':0,'Other-relative':1, 'Not-in-family':2,\n",
    "                                      'Wife':3, 'Husband':4,'Own-child':5})\n",
    "\n",
    "testdata['relationship'] = testdata['relationship'].map({'Unmarried':0,'Other-relative':1, 'Not-in-family':2,\n",
    "                                      'Wife':3, 'Husband':4,'Own-child':5})"
   ]
  },
  {
   "cell_type": "code",
   "execution_count": 138,
   "metadata": {},
   "outputs": [
    {
     "name": "stdout",
     "output_type": "stream",
     "text": [
      "6.race: {' White', ' Black', ' Amer-Indian-Eskimo', ' Other', ' Asian-Pac-Islander'}\n"
     ]
    }
   ],
   "source": [
    "print('6.race:',set(dataset['race']) )\n",
    "dataset['race'] = dataset['race'].map({'Black':0,'Asian-Pac-Islander':1,'Amer-Indian-Eskimo':2, 'Other':3,\n",
    "                                      'White':4})\n",
    "\n",
    "testdata['race'] = testdata['race'].map({'Black':0,'Asian-Pac-Islander':1,'Amer-Indian-Eskimo':2, 'Other':3,\n",
    "                                      'White':4})"
   ]
  },
  {
   "cell_type": "code",
   "execution_count": 139,
   "metadata": {},
   "outputs": [
    {
     "name": "stdout",
     "output_type": "stream",
     "text": [
      "7.sex: {' Female', ' Male'}\n"
     ]
    }
   ],
   "source": [
    "print('7.sex:',set(dataset['sex']))\n",
    "dataset['sex'] = dataset['sex'].map({'Male':0,'Female':1})\n",
    "\n",
    "testdata['sex'] = testdata['sex'].map({'Male':0,'Female':1})"
   ]
  },
  {
   "cell_type": "code",
   "execution_count": 140,
   "metadata": {},
   "outputs": [
    {
     "name": "stdout",
     "output_type": "stream",
     "text": [
      "8.native-country: {' Philippines', ' Yugoslavia', ' Trinadad&Tobago', ' Mexico', ' Honduras', ' Holand-Netherlands', ' France', ' ?', ' Hungary', ' Nicaragua', ' Greece', ' Laos', ' China', ' Canada', ' England', ' Portugal', ' Hong', ' Scotland', ' El-Salvador', ' Germany', ' Cambodia', ' Iran', ' Ecuador', ' Dominican-Republic', ' Guatemala', ' Vietnam', ' Haiti', ' Puerto-Rico', ' Jamaica', ' Cuba', ' Poland', ' India', ' South', ' United-States', ' Ireland', ' Thailand', ' Japan', ' Taiwan', ' Outlying-US(Guam-USVI-etc)', ' Italy', ' Columbia', ' Peru'}\n"
     ]
    }
   ],
   "source": [
    "print('8.native-country:',set(dataset['native-country']))\n",
    "dataset['native-country'] = dataset['native-country'].map({'?':-1,'Puerto-Rico':0,'Haiti':1,'Cuba':2, 'Iran':3,\n",
    "                                      'Honduras':4, 'Jamaica':5, 'Vietnam':6, 'Mexico':7, 'Dominican-Republic':8,\n",
    "                                       'Laos':9, 'Ecuador':10, 'El-Salvador':11, 'Cambodia':12, 'Columbia':13,\n",
    "                                         'Guatemala':14, 'South':15, 'India':16, 'Nicaragua':17, 'Yugoslavia':18, \n",
    "                                         'Philippines':19, 'Thailand':20, 'Trinadad&Tobago':21, 'Peru':22, 'Poland':23, \n",
    "                                         'China':24, 'Hungary':25, 'Greece':26, 'Taiwan':27, 'Italy':28, 'Portugal':29, \n",
    "                                         'France':30, 'Hong':31, 'England':32, 'Scotland':33, 'Ireland':34, \n",
    "                                         'Holand-Netherlands':35, 'Canada':36, 'Germany':37, 'Japan':38, \n",
    "                                         'Outlying-US(Guam-USVI-etc)':39, 'United-States':40\n",
    "                                        })\n",
    "\n",
    "testdata['native-country'] = testdata['native-country'].map({'?':-1,'Puerto-Rico':0,'Haiti':1,'Cuba':2, 'Iran':3,\n",
    "                                      'Honduras':4, 'Jamaica':5, 'Vietnam':6, 'Mexico':7, 'Dominican-Republic':8,\n",
    "                                       'Laos':9, 'Ecuador':10, 'El-Salvador':11, 'Cambodia':12, 'Columbia':13,\n",
    "                                         'Guatemala':14, 'South':15, 'India':16, 'Nicaragua':17, 'Yugoslavia':18, \n",
    "                                         'Philippines':19, 'Thailand':20, 'Trinadad&Tobago':21, 'Peru':22, 'Poland':23, \n",
    "                                         'China':24, 'Hungary':25, 'Greece':26, 'Taiwan':27, 'Italy':28, 'Portugal':29, \n",
    "                                         'France':30, 'Hong':31, 'England':32, 'Scotland':33, 'Ireland':34, \n",
    "                                         'Holand-Netherlands':35, 'Canada':36, 'Germany':37, 'Japan':38, \n",
    "                                         'Outlying-US(Guam-USVI-etc)':39, 'United-States':40\n",
    "                                        })"
   ]
  },
  {
   "cell_type": "code",
   "execution_count": 141,
   "metadata": {},
   "outputs": [],
   "source": [
    "x = dataset.iloc[ : ,:-1].values.astype(int)\n",
    "y = dataset[['income']]\n",
    "\n",
    "xtest=testdata.iloc[:,:-1].values.astype(int)"
   ]
  },
  {
   "cell_type": "code",
   "execution_count": 142,
   "metadata": {},
   "outputs": [
    {
     "data": {
      "text/plain": [
       "income\n",
       "0    19802\n",
       "1     6246\n",
       "dtype: int64"
      ]
     },
     "execution_count": 142,
     "metadata": {},
     "output_type": "execute_result"
    }
   ],
   "source": [
    "x_train, x_test, y_train, y_test = train_test_split(x, y, test_size=0.2, random_state=0)\n",
    "y_train.groupby([\"income\"]).size()"
   ]
  },
  {
   "cell_type": "code",
   "execution_count": 58,
   "metadata": {},
   "outputs": [],
   "source": [
    "classifier1 = DecisionTreeClassifier()\n",
    "classifier1.fit(x_train, y_train)\n",
    "y_predict1_test=classifier1.predict(x_test)\n",
    "y_predict1_train=classifier1.predict(x_train)\n",
    "\n"
   ]
  },
  {
   "cell_type": "code",
   "execution_count": 59,
   "metadata": {},
   "outputs": [],
   "source": [
    "classifier2 = DecisionTreeClassifier(max_leaf_nodes=8)\n",
    "classifier2.fit(x_train, y_train)\n",
    "y_predict2_test=classifier2.predict(x_test)\n",
    "y_predict2_train=classifier2.predict(x_train)\n",
    "\n",
    "classifier3 = DecisionTreeClassifier(max_leaf_nodes=16)\n",
    "classifier3.fit(x_train, y_train)\n",
    "y_predict3_test=classifier3.predict(x_test)\n",
    "y_predict3_train=classifier3.predict(x_train)\n",
    "\n",
    "classifier4 = DecisionTreeClassifier(max_leaf_nodes=32)\n",
    "classifier4.fit(x_train, y_train)\n",
    "y_predict4_test=classifier4.predict(x_test)\n",
    "y_predict4_train=classifier4.predict(x_train)\n",
    "\n",
    "classifier5 = DecisionTreeClassifier(max_leaf_nodes=64)\n",
    "classifier5.fit(x_train, y_train)\n",
    "y_predict5_test=classifier5.predict(x_test)\n",
    "y_predict5_train=classifier5.predict(x_train)\n",
    "\n",
    "classifier6 = DecisionTreeClassifier(max_leaf_nodes=128)\n",
    "classifier6.fit(x_train, y_train)\n",
    "y_predict6_test=classifier6.predict(x_test)\n",
    "y_predict6_train=classifier6.predict(x_train)"
   ]
  },
  {
   "cell_type": "code",
   "execution_count": 60,
   "metadata": {},
   "outputs": [],
   "source": [
    "classifier7 = DecisionTreeClassifier(min_impurity_decrease=0.001)\n",
    "classifier7.fit(x_train, y_train)\n",
    "y_predict7_test=classifier7.predict(x_test)\n",
    "y_predict7_train=classifier7.predict(x_train)\n",
    "\n",
    "classifier8 = DecisionTreeClassifier(min_impurity_decrease=0.01)\n",
    "classifier8.fit(x_train, y_train)\n",
    "y_predict8_test=classifier8.predict(x_test)\n",
    "y_predict8_train=classifier8.predict(x_train)\n",
    "\n",
    "classifier9 = DecisionTreeClassifier(min_impurity_decrease=0.02)\n",
    "classifier9.fit(x_train, y_train)\n",
    "y_predict9_test=classifier9.predict(x_test)\n",
    "y_predict9_train=classifier9.predict(x_train)\n",
    "\n",
    "classifier10 = DecisionTreeClassifier(min_impurity_decrease=0.03)\n",
    "classifier10.fit(x_train, y_train)\n",
    "y_predict10_test=classifier10.predict(x_test)\n",
    "y_predict10_train=classifier10.predict(x_train)\n",
    "\n",
    "classifier11 = DecisionTreeClassifier(min_impurity_decrease=0.04)\n",
    "classifier11.fit(x_train, y_train)\n",
    "y_predict11_test=classifier11.predict(x_test)\n",
    "y_predict11_train=classifier11.predict(x_train)"
   ]
  },
  {
   "cell_type": "code",
   "execution_count": 61,
   "metadata": {},
   "outputs": [],
   "source": [
    "classifier12 = DecisionTreeClassifier(min_samples_leaf=40, min_samples_split=80)\n",
    "classifier12.fit(x_train, y_train)\n",
    "y_predict12_test=classifier12.predict(x_test)\n",
    "y_predict12_train=classifier12.predict(x_train)\n",
    "\n",
    "classifier13 = DecisionTreeClassifier(min_samples_leaf=80, min_samples_split=160)\n",
    "classifier13.fit(x_train, y_train)\n",
    "y_predict13_test=classifier13.predict(x_test)\n",
    "y_predict13_train=classifier13.predict(x_train)\n",
    "\n",
    "classifier14 = DecisionTreeClassifier(min_samples_leaf=160, min_samples_split=320)\n",
    "classifier14.fit(x_train, y_train)\n",
    "y_predict14_test=classifier14.predict(x_test)\n",
    "y_predict14_train=classifier14.predict(x_train)\n",
    "\n",
    "classifier15 = DecisionTreeClassifier(min_samples_leaf=320, min_samples_split=640)\n",
    "classifier15.fit(x_train, y_train)\n",
    "y_predict15_test=classifier15.predict(x_test)\n",
    "y_predict15_train=classifier15.predict(x_train)\n",
    "\n",
    "classifier16 = DecisionTreeClassifier(min_samples_leaf=640, min_samples_split=1280)\n",
    "classifier16.fit(x_train, y_train)\n",
    "y_predict16_test=classifier16.predict(x_test)\n",
    "y_predict16_train=classifier16.predict(x_train)"
   ]
  },
  {
   "cell_type": "code",
   "execution_count": 62,
   "metadata": {},
   "outputs": [],
   "source": [
    "classifier17 = DecisionTreeClassifier(max_leaf_nodes=16,min_impurity_decrease=0.01)\n",
    "classifier17.fit(x_train, y_train)\n",
    "y_predict17_test=classifier17.predict(x_test)\n",
    "y_predict17_train=classifier17.predict(x_train)\n",
    "\n",
    "classifier18 = DecisionTreeClassifier(max_leaf_nodes=16,min_impurity_decrease=0.02)\n",
    "classifier18.fit(x_train, y_train)\n",
    "y_predict18_test=classifier18.predict(x_test)\n",
    "y_predict18_train=classifier18.predict(x_train)\n",
    "\n",
    "classifier19 = DecisionTreeClassifier(max_leaf_nodes=16,min_impurity_decrease=0.001)\n",
    "classifier19.fit(x_train, y_train)\n",
    "y_predict19_test=classifier19.predict(x_test)\n",
    "y_predict19_train=classifier19.predict(x_train)"
   ]
  },
  {
   "cell_type": "code",
   "execution_count": 63,
   "metadata": {},
   "outputs": [],
   "source": [
    "classifier20 = DecisionTreeClassifier(max_leaf_nodes=16,min_samples_leaf=40, min_samples_split=80)\n",
    "classifier20.fit(x_train, y_train)\n",
    "y_predict20_test=classifier20.predict(x_test)\n",
    "y_predict20_train=classifier20.predict(x_train)\n",
    "\n",
    "classifier21 = DecisionTreeClassifier(max_leaf_nodes=16,min_samples_leaf=80, min_samples_split=160)\n",
    "classifier21.fit(x_train, y_train)\n",
    "y_predict21_test=classifier21.predict(x_test)\n",
    "y_predict21_train=classifier21.predict(x_train)\n",
    "\n",
    "classifier22 = DecisionTreeClassifier(max_leaf_nodes=16,min_samples_leaf=160, min_samples_split=320)\n",
    "classifier22.fit(x_train, y_train)\n",
    "y_predict22_test=classifier22.predict(x_test)\n",
    "y_predict22_train=classifier22.predict(x_train)"
   ]
  },
  {
   "cell_type": "code",
   "execution_count": 64,
   "metadata": {},
   "outputs": [
    {
     "name": "stdout",
     "output_type": "stream",
     "text": [
      "Classifier1(default) Accuracy: 0.773990\n",
      "Classifier2(max_leaf_nodes=8) Accuracy: 0.812222\n",
      "Classifier3(max_leaf_nodes=16) Accuracy: 0.826347\n",
      "Classifier4(max_leaf_nodes=32) Accuracy: 0.826808\n",
      "Classifier5(max_leaf_nodes=64) Accuracy: 0.830800\n",
      "Classifier6(max_leaf_nodes=128) Accuracy: 0.831875\n",
      "Classifier7(min_impurity_decrease=0.001) Accuracy: 0.826347\n",
      "Classifier8(min_impurity_decrease=0.01) Accuracy: 0.796868\n",
      "Classifier9(min_impurity_decrease=0.02) Accuracy: 0.796868\n",
      "Classifier10(min_impurity_decrease=0.03) Accuracy: 0.796868\n",
      "Classifier11(min_impurity_decrease=0.04) Accuracy: 0.796868\n",
      "Classifier12(min_samples_leaf=40, min_samples_split=80) Accuracy: 0.828343\n",
      "Classifier13(min_samples_leaf=80, min_samples_split=160) Accuracy: 0.825887\n",
      "Classifier14(min_samples_leaf=160, min_samples_split=320) Accuracy: 0.825426\n",
      "Classifier15(min_samples_leaf=320, min_samples_split=640) Accuracy: 0.819438\n",
      "Classifier16(min_samples_leaf=640, min_samples_split=1280) Accuracy: 0.812682\n",
      "Classifier17(max_leaf_nodes=16,min_impurity_decrease=0.001) Accuracy: 0.796868\n",
      "Classifier18(max_leaf_nodes=16,min_impurity_decrease=0.01) Accuracy: 0.796868\n",
      "Classifier19(max_leaf_nodes=16,min_impurity_decrease=0.02) Accuracy: 0.826347\n",
      "Classifier20(max_leaf_nodes=16,min_samples_leaf=40, min_samples_split=80) Accuracy: 0.826347\n",
      "Classifier21(max_leaf_nodes=16,min_samples_leaf=80, min_samples_split=160) Accuracy: 0.825273\n",
      "Classifier22(max_leaf_nodes=16,min_samples_leaf=160, min_samples_split=320) Accuracy: 0.822509\n"
     ]
    }
   ],
   "source": [
    "print(\"Classifier1(default) Accuracy:\", '%f'%classifier1.score(x_test, y_test))\n",
    "print(\"Classifier2(max_leaf_nodes=8) Accuracy:\", '%f'%classifier2.score(x_test, y_test))\n",
    "print(\"Classifier3(max_leaf_nodes=16) Accuracy:\", '%f'%classifier3.score(x_test, y_test))\n",
    "print(\"Classifier4(max_leaf_nodes=32) Accuracy:\", '%f'%classifier4.score(x_test, y_test))\n",
    "print(\"Classifier5(max_leaf_nodes=64) Accuracy:\", '%f'%classifier5.score(x_test, y_test))\n",
    "print(\"Classifier6(max_leaf_nodes=128) Accuracy:\", '%f'%classifier6.score(x_test, y_test))\n",
    "print(\"Classifier7(min_impurity_decrease=0.001) Accuracy:\", '%f'%classifier7.score(x_test, y_test))\n",
    "print(\"Classifier8(min_impurity_decrease=0.01) Accuracy:\", '%f'%classifier8.score(x_test, y_test))\n",
    "print(\"Classifier9(min_impurity_decrease=0.02) Accuracy:\", '%f'%classifier9.score(x_test, y_test))\n",
    "print(\"Classifier10(min_impurity_decrease=0.03) Accuracy:\", '%f'%classifier10.score(x_test, y_test))\n",
    "print(\"Classifier11(min_impurity_decrease=0.04) Accuracy:\", '%f'%classifier11.score(x_test, y_test))\n",
    "print(\"Classifier12(min_samples_leaf=40, min_samples_split=80) Accuracy:\", '%f'%classifier12.score(x_test, y_test))\n",
    "print(\"Classifier13(min_samples_leaf=80, min_samples_split=160) Accuracy:\", '%f'%classifier13.score(x_test, y_test))\n",
    "print(\"Classifier14(min_samples_leaf=160, min_samples_split=320) Accuracy:\", '%f'%classifier14.score(x_test, y_test))\n",
    "print(\"Classifier15(min_samples_leaf=320, min_samples_split=640) Accuracy:\", '%f'%classifier15.score(x_test, y_test))\n",
    "print(\"Classifier16(min_samples_leaf=640, min_samples_split=1280) Accuracy:\", '%f'%classifier16.score(x_test, y_test))\n",
    "print(\"Classifier17(max_leaf_nodes=16,min_impurity_decrease=0.001) Accuracy:\", '%f'%classifier17.score(x_test, y_test))\n",
    "print(\"Classifier18(max_leaf_nodes=16,min_impurity_decrease=0.01) Accuracy:\", '%f'%classifier18.score(x_test, y_test))\n",
    "print(\"Classifier19(max_leaf_nodes=16,min_impurity_decrease=0.02) Accuracy:\", '%f'%classifier19.score(x_test, y_test))\n",
    "print(\"Classifier20(max_leaf_nodes=16,min_samples_leaf=40, min_samples_split=80) Accuracy:\", '%f'%classifier20.score(x_test, y_test))\n",
    "print(\"Classifier21(max_leaf_nodes=16,min_samples_leaf=80, min_samples_split=160) Accuracy:\", '%f'%classifier21.score(x_test, y_test))\n",
    "print(\"Classifier22(max_leaf_nodes=16,min_samples_leaf=160, min_samples_split=320) Accuracy:\", '%f'%classifier22.score(x_test, y_test))"
   ]
  },
  {
   "cell_type": "code",
   "execution_count": 143,
   "metadata": {},
   "outputs": [],
   "source": [
    "\n",
    "classifier6 = DecisionTreeClassifier(max_leaf_nodes=128)\n",
    "classifier6.fit(x_train, y_train)\n",
    "predict_test=classifier6.predict(xtest)\n",
    "#y_predict6_train=classifier6.predict(x_train)"
   ]
  },
  {
   "cell_type": "code",
   "execution_count": 144,
   "metadata": {},
   "outputs": [
    {
     "name": "stdout",
     "output_type": "stream",
     "text": [
      "[0 0 0 ... 1 0 1]\n"
     ]
    }
   ],
   "source": [
    "print(predict_test)"
   ]
  },
  {
   "cell_type": "code",
   "execution_count": 164,
   "metadata": {},
   "outputs": [],
   "source": [
    "prediction = pd.DataFrame(predict_test,columns=['category']).to_csv('prediction.csv')"
   ]
  },
  {
   "cell_type": "code",
   "execution_count": null,
   "metadata": {},
   "outputs": [],
   "source": [
    "y_test_predictions = classifiers[\"adaboost\"].gridSearch.predict(X_test_prepared)"
   ]
  }
 ],
 "metadata": {
  "kernelspec": {
   "display_name": "Python 3",
   "language": "python",
   "name": "python3"
  },
  "language_info": {
   "codemirror_mode": {
    "name": "ipython",
    "version": 3
   },
   "file_extension": ".py",
   "mimetype": "text/x-python",
   "name": "python",
   "nbconvert_exporter": "python",
   "pygments_lexer": "ipython3",
   "version": "3.6.8"
  }
 },
 "nbformat": 4,
 "nbformat_minor": 2
}
