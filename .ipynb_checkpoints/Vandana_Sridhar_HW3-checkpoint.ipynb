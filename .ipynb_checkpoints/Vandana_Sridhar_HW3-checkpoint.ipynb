{
 "cells": [
  {
   "cell_type": "markdown",
   "metadata": {},
   "source": [
    "# Homework 3 - SVM and Regularization\n",
    "## CSCI 5622 - Spring 2019\n",
    "***\n",
    "**Name**: $<$Vandana Sridhar$>$ \n",
    "***\n",
    "\n",
    "This assignment is due on Canvas by **11.59 PM on Wednesday, March 20**. Submit only this Jupyter notebook to Canvas.  Do not compress it using tar, rar, zip, etc. Your solutions to analysis questions should be done in Markdown directly below the associated question.  Remember that you are encouraged to discuss the problems with your classmates and instructors, but **you must write all code and solutions on your own**, and list any people or sources consulted.\n",
    "\n",
    "Portions of this assignment, including the plotting functions used, are implemented from Andrew Ng's Machine Learning course"
   ]
  },
  {
   "cell_type": "markdown",
   "metadata": {},
   "source": [
    "## Part 1: Lasso and Ridge regression - 30 points"
   ]
  },
  {
   "cell_type": "markdown",
   "metadata": {},
   "source": [
    "We have seen that the difference between LASSO and Ridge regression is due to their different regularization model (L1 norm vs. L2 norm). The regularization term in LASSO is $\\lambda||\\mathbf w||_1$, while the regularization term in ridge regression is  $(\\lambda/2) ||\\mathbf w||^2$ (where $\\mathbf w$ denotes the set of parameters for the linear regression model and $\\lambda$ is the trade-off regularization parameter). LASSO typically enforces more _sparsity_ on the resulting $\\mathbf w$. That is, the resulting classifier will have a small number of non-zero weights. In this exercise, you'll explore differences in performance between LASSO and Ridge regression algorithms.\n",
    "\n",
    "You will be using the following data sets:"
   ]
  },
  {
   "cell_type": "code",
   "execution_count": 60,
   "metadata": {
    "ExecuteTime": {
     "end_time": "2018-10-30T23:46:14.931653Z",
     "start_time": "2018-10-30T23:46:14.919868Z"
    }
   },
   "outputs": [],
   "source": [
    "import numpy as np\n",
    "import matplotlib.pyplot as plt\n",
    "import pandas as pd\n",
    "%matplotlib inline\n",
    "class DataA:\n",
    "    def __init__(self):\n",
    "        f = lambda x, y : np.random.randn(x, y)\n",
    "        self.train_x = f(1000, 20)\n",
    "        self.train_y = f(1000, 1)[:,0]\n",
    "        self.test_x = f(500, 20)\n",
    "        self.test_y = f(500, 1)[:,0]\n",
    "        \n",
    "class DataB:\n",
    "    def __init__(self):\n",
    "        # Data from: https://archive.ics.uci.edu/ml/datasets/Cloud\n",
    "        data = np.fromfile(\"data/cloud.data\", sep = \" \").reshape((1024, 10))\n",
    "        y = data[:, 6]\n",
    "        X = np.delete(data, 6, axis = 1)\n",
    "        \n",
    "        self.train_x = X[:800]\n",
    "        self.train_y = y[:800]\n",
    "        \n",
    "        self.test_x = X[800:]\n",
    "        self.test_y = y[800:]\n",
    "        \n",
    "class DataC:\n",
    "    def __init__(self):\n",
    "        # Data from: http://archive.ics.uci.edu/ml/datasets/Forest+Fires\n",
    "        data = pd.read_csv(\"data/forestfires.csv\")\n",
    "        data = data.sample(frac = 1).reset_index(drop = True).drop(columns = [\"month\", \"day\"])\n",
    "        data[\"area\"] = np.log(data[\"area\"] + 1)\n",
    "        X = data.drop(columns = \"area\").values\n",
    "        y = data[\"area\"].values\n",
    "        \n",
    "        self.train_x = X[:400]\n",
    "        self.train_y = y[:400]\n",
    "        \n",
    "        self.test_x = X[400:]\n",
    "        self.test_y = y[400:]"
   ]
  },
  {
   "cell_type": "code",
   "execution_count": 61,
   "metadata": {},
   "outputs": [],
   "source": [
    "data_a = DataA()\n",
    "data_b = DataB()\n",
    "data_c = DataC()"
   ]
  },
  {
   "cell_type": "markdown",
   "metadata": {},
   "source": [
    "1. Fit a regressor to the data set using sklearn's `Lasso` module (for more details, read [here](http://scikit-learn.org/stable/modules/generated/sklearn.linear_model.Lasso.html)):\n",
    "    1. Train a LASSO model using 5 different values for the regularization parameter $\\lambda$. Use $\\lambda = 0.01, 0.05, 0.1, 0.2, 0.3$. Report and plot the number of non-zero coefficients.\n",
    "    2. Report the value of $\\lambda$ that yields the minimum number of non-zero coefficients in the resulting $\\mathbf w$, and report the number of non-zero coefficients in that case. Keep track of this $\\mathbf w$, we will refer to it as $\\mathbf w_b$. [This step is only needed if any $\\mathbf{w}$ has coefficients that are 0.]\n",
    "    3. For each of the classifiers learned in part (A), compute their test error as mean-squared-error. Plot the test error as function of $\\lambda$.\n",
    "    4. Report the value of $\\lambda$ that yields the $\\mathbf w$ with the minimum test error. Save this $\\mathbf w$ as $\\mathbf w_d$. How many non-zero coordinates does $\\mathbf w_d$ have? Keep track of this, as well as the answers for $\\mathbf w_b$ for the comparison to Ridge Regression below. It might be helpful to make a table, i.e. the number of non-zero coordinates and the test error for $\\mathbf w_b$ and $\\mathbf w_d$ for each data set.\n",
    "    5. For data set A, by increasing the value of $\\lambda$, can you get most of the entries to be 0? Can you get every entry to be 0?\n",
    "    \n",
    "Note: $\\lambda$ is same as $\\alpha$ in the sklearn module."
   ]
  },
  {
   "cell_type": "code",
   "execution_count": 62,
   "metadata": {},
   "outputs": [
    {
     "name": "stdout",
     "output_type": "stream",
     "text": [
      "1A\n",
      "\n",
      "Class A - no of non zero coefficients are:\n",
      " {0.01: 17, 0.05: 2, 0.1: 0, 0.2: 0, 0.3: 0}\n",
      "\n",
      "Class B - no of non zero coefficients are:\n",
      " {0.01: 9, 0.05: 7, 0.1: 7, 0.2: 7, 0.3: 6}\n",
      "\n",
      "Class C - no of non zero coefficients are:\n",
      " {0.01: 9, 0.05: 8, 0.1: 8, 0.2: 5, 0.3: 4}\n"
     ]
    },
    {
     "data": {
      "image/png": "[encoded data removed]",
      "text/plain": [
       "<Figure size 432x288 with 1 Axes>"
      ]
     },
     "metadata": {
      "needs_background": "light"
     },
     "output_type": "display_data"
    },
    {
     "name": "stdout",
     "output_type": "stream",
     "text": [
      "\n",
      " 1B\n",
      "\n",
      " Class A - lambda that yields minimum no of non zero coeffients\n",
      "  0.1\n",
      "\n",
      " Class B - lambda that yields minimum no of non zero coeffients\n",
      "  0.3\n",
      "\n",
      " Class C - lambda that yields minimum no of non zero coeffients\n",
      "  0.3\n",
      "\n",
      " 1C\n",
      "\n",
      "Class A - test error:\n",
      " {0.01: 0.9505157490100843, 0.05: 0.917985324266617, 0.1: 0.9150196999062868, 0.2: 0.9150196999062868, 0.3: 0.9150196999062868}\n",
      "\n",
      "Class B - test error:\n",
      " {0.01: 0.018247756874594758, 0.05: 0.05914657756834902, 0.1: 0.08137414855313155, 0.2: 0.14161835477729207, 0.3: 0.1855571669951039}\n",
      "\n",
      "Class C - test error:\n",
      " {0.01: 2.333923809258129, 0.05: 2.3100152399972638, 0.1: 2.287759240924726, 0.2: 2.268198085023125, 0.3: 2.258282564988297}\n"
     ]
    },
    {
     "data": {
      "image/png": "[encoded data removed]",
      "text/plain": [
       "<Figure size 432x288 with 1 Axes>"
      ]
     },
     "metadata": {
      "needs_background": "light"
     },
     "output_type": "display_data"
    },
    {
     "name": "stdout",
     "output_type": "stream",
     "text": [
      "\n",
      " 1D\n",
      " \n",
      "\n",
      " Class A - lambda value that yields minimum test error\n",
      "  0.1\n",
      "\n",
      " Class B - lambda value that yields minimum test error\n",
      "  0.01\n",
      "\n",
      " Class C - lambda value that yields minimum test error\n",
      "  0.3\n"
     ]
    }
   ],
   "source": [
    "# 1A\n",
    "from sklearn import linear_model\n",
    "from sklearn import metrics\n",
    "import matplotlib.pyplot as plt\n",
    "from plot_data import plot_data\n",
    "\n",
    "print(\"1A\")\n",
    "#TODO\n",
    "variable1=[0.01,0.05,0.1,0.2,0.3]\n",
    "variable2={}\n",
    "variable3={}\n",
    "variable4={}\n",
    "\n",
    "for i in variable1:\n",
    "    classifier1=linear_model.Lasso(alpha=i)\n",
    "    classifier1.fit(data_a.train_x,data_a.train_y)\n",
    "    coefficient1_used = np.sum(classifier1.coef_!=0)\n",
    "    variable2[i]=coefficient1_used\n",
    "    \n",
    "    classifier2=linear_model.Lasso(alpha=i)\n",
    "    classifier2.fit(data_b.train_x,data_b.train_y)\n",
    "    coefficient2_used = np.sum(classifier2.coef_!=0)\n",
    "    variable3[i]=coefficient2_used\n",
    "    \n",
    "    classifier3=linear_model.Lasso(alpha=i)\n",
    "    classifier3.fit(data_c.train_x,data_c.train_y)\n",
    "    coefficient3_used = np.sum(classifier3.coef_!=0)\n",
    "    variable4[i]=coefficient3_used\n",
    "    \n",
    "print(\"\\nClass A - no of non zero coefficients are:\\n\",variable2)\n",
    "print(\"\\nClass B - no of non zero coefficients are:\\n\",variable3)\n",
    "print(\"\\nClass C - no of non zero coefficients are:\\n\",variable4)\n",
    "\n",
    "list1 = sorted(variable2.items())\n",
    "x1,y1 = zip(*list1)\n",
    "list2 = sorted(variable3.items())\n",
    "x2,y2 = zip(*list2)\n",
    "list3 = sorted(variable4.items())\n",
    "x3,y3 = zip(*list3)\n",
    "\n",
    "plt.title(' non zero coefficients vs lambda value')\n",
    "plt.xlabel('lambda value')\n",
    "plt.ylabel('non zero coefficients')\n",
    "scatter1= plt.scatter(x1,y1)\n",
    "scatter2= plt.scatter(x2,y2)\n",
    "scatter3= plt.scatter(x3,y3)\n",
    "plt.legend((scatter1,scatter2,scatter3),('class A','class B','Class C'))\n",
    "plt.show()\n",
    "    \n",
    "    \n",
    "    \n",
    "    \n",
    "# 1B\n",
    "print(\"\\n 1B\")\n",
    "#TODO\n",
    "\n",
    "key1 = min(variable2, key=lambda k: variable2[k])\n",
    "key2 = min(variable3, key=lambda k: variable3[k])\n",
    "key3 = min(variable4, key=lambda k: variable4[k])\n",
    "print(\"\\n Class A - lambda that yields minimum no of non zero coeffients\\n \",key1)\n",
    "print(\"\\n Class B - lambda that yields minimum no of non zero coeffients\\n \",key2)\n",
    "print(\"\\n Class C - lambda that yields minimum no of non zero coeffients\\n \",key3)\n",
    "\n",
    "# 1C\n",
    "print(\"\\n 1C\")\n",
    "#TODO\n",
    "\n",
    "variable5 = {}\n",
    "variable6 = {}\n",
    "variable7 = {}\n",
    "\n",
    "for i in variable1:\n",
    "    classifier1=linear_model.Lasso(alpha = i)\n",
    "    classifier1.fit(data_a.train_x,data_a.train_y)\n",
    "    y_predict1=classifier1.predict(data_a.test_x)\n",
    "    y_metric1=metrics.mean_squared_error(data_a.test_y,y_predict1)\n",
    "    variable5[i]=y_metric1\n",
    "    \n",
    "    classifier2=linear_model.Lasso(alpha = i)\n",
    "    classifier2.fit(data_b.train_x,data_b.train_y)\n",
    "    y_predict2=classifier2.predict(data_b.test_x)\n",
    "    y_metric2=metrics.mean_squared_error(data_b.test_y,y_predict2)\n",
    "    variable6[i]=y_metric2\n",
    "    \n",
    "    classifier3=linear_model.Lasso(alpha = i)\n",
    "    classifier3.fit(data_c.train_x,data_c.train_y)\n",
    "    y_predict3=classifier3.predict(data_c.test_x)\n",
    "    y_metric3=metrics.mean_squared_error(data_c.test_y,y_predict3)\n",
    "    variable7[i]=y_metric3\n",
    "    \n",
    "print(\"\\nClass A - test error:\\n\",variable5)\n",
    "print(\"\\nClass B - test error:\\n\",variable6)\n",
    "print(\"\\nClass C - test error:\\n\",variable7)\n",
    "\n",
    "list1 = sorted(variable5.items())\n",
    "x1,y1 = zip(*list1)\n",
    "list2 = sorted(variable6.items())\n",
    "x2,y2 = zip(*list2)\n",
    "list3 = sorted(variable7.items())\n",
    "x3,y3 = zip(*list3)\n",
    "\n",
    "plt.title(' Test error vs lambda value')\n",
    "plt.xlabel('lambda value')\n",
    "plt.ylabel('Test error')\n",
    "scatter1= plt.scatter(x1,y1)\n",
    "scatter2= plt.scatter(x2,y2)\n",
    "scatter3= plt.scatter(x3,y3)\n",
    "plt.legend((scatter1,scatter2,scatter3),('class A','class B','Class C'))\n",
    "plt.show()\n",
    "\n",
    "\n",
    "    \n",
    "    \n",
    "# 1D\n",
    "print(\"\\n 1D\\n \")\n",
    "#TODO\n",
    "\n",
    "key1 = min(variable5, key=lambda k: variable5[k])\n",
    "key2 = min(variable6, key=lambda k: variable6[k])\n",
    "key3 = min(variable7, key=lambda k: variable7[k])\n",
    "print(\"\\n Class A - lambda value that yields minimum test error\\n \",key1)\n",
    "print(\"\\n Class B - lambda value that yields minimum test error\\n \",key2)\n",
    "print(\"\\n Class C - lambda value that yields minimum test error\\n \",key3)\n",
    "\n"
   ]
  },
  {
   "cell_type": "markdown",
   "metadata": {},
   "source": [
    "1.\n",
    "E) \n",
    "> **ANSWER** </br>\n",
    "\n",
    "> Yes, by increasing the lambda value, most of the entries will be zero. For lambda values such as $0.01$ and $0.05$, zero values don't exist , however for other lambda values, coefficients are zero. By, increasing the lambda values to bigger numbers, we could get every entry to be zero "
   ]
  },
  {
   "cell_type": "markdown",
   "metadata": {},
   "source": [
    "2. Now, we turn to Ridge regression. We'll use sklearn module `Ridge` (read more [here](http://scikit-learn.org/stable/modules/generated/sklearn.linear_model.Ridge.html#sklearn.linear_model.Ridge)). Repeat each of the experiment above using Ridge regression. Use $\\lambda = 1, 50, 100, 200, 1000$."
   ]
  },
  {
   "cell_type": "code",
   "execution_count": 63,
   "metadata": {},
   "outputs": [
    {
     "name": "stdout",
     "output_type": "stream",
     "text": [
      "\n",
      "2A\n",
      "\n",
      "\n",
      "Class A - no of non zero coefficients are:\n",
      " {1: 20, 50: 20, 100: 20, 200: 20, 1000: 20}\n",
      "\n",
      "Class B - no of non zero coefficients are:\n",
      " {1: 9, 50: 9, 100: 9, 200: 9, 1000: 9}\n",
      "\n",
      "Class C - no of non zero coefficients are:\n",
      " {1: 10, 50: 10, 100: 10, 200: 10, 1000: 10}\n"
     ]
    },
    {
     "data": {
      "image/png": "[encoded data removed]",
      "text/plain": [
       "<Figure size 432x288 with 1 Axes>"
      ]
     },
     "metadata": {
      "needs_background": "light"
     },
     "output_type": "display_data"
    },
    {
     "name": "stdout",
     "output_type": "stream",
     "text": [
      "\n",
      " 2B\n",
      "\n",
      "\n",
      " Class A - lambda that yields minimum no of non zero coeffients\n",
      "  1\n",
      "\n",
      " Class B - lambda that yields minimum no of non zero coeffients\n",
      "  1\n",
      "\n",
      " Class C - lambda that yields minimum no of non zero coeffients\n",
      "  1\n",
      "\n",
      "2C\n",
      " \n",
      "\n",
      "Class A - test error:\n",
      " {1: 0.9629042208931546, 50: 0.9597102637019825, 100: 0.9568379559327225, 200: 0.9520229900722832, 1000: 0.9338554390162721}\n",
      "\n",
      "Class B - test error:\n",
      " {1: 0.0036802254541537494, 50: 0.03971462323639084, 100: 0.04968027530949797, 200: 0.06393518128301288, 1000: 0.11921094367290223}\n",
      "\n",
      "Class C - test error:\n",
      " {1: 2.3389194744156243, 50: 2.3344024207391074, 100: 2.329807435155918, 200: 2.321701803924653, 1000: 2.2883150122250604}\n"
     ]
    },
    {
     "data": {
      "image/png": "[encoded data removed]",
      "text/plain": [
       "<Figure size 432x288 with 1 Axes>"
      ]
     },
     "metadata": {
      "needs_background": "light"
     },
     "output_type": "display_data"
    },
    {
     "name": "stdout",
     "output_type": "stream",
     "text": [
      "\n",
      "2D\n",
      " \n",
      "\n",
      " Class A - lambda value that yields minimum test error\n",
      "  1000\n",
      "\n",
      " Class B - lambda value that yields minimum test error\n",
      "  1\n",
      "\n",
      " Class C - lambda value that yields minimum test error\n",
      "  1000\n"
     ]
    }
   ],
   "source": [
    "from sklearn import linear_model\n",
    "from sklearn import metrics\n",
    "import matplotlib.pyplot as plt\n",
    "from plot_data import plot_data\n",
    "\n",
    "\n",
    "\n",
    "# 2A\n",
    "print(\"\\n2A\\n\")\n",
    "#TODO\n",
    "\n",
    "variable1=[1,50,100,200,1000]\n",
    "variable2={}\n",
    "variable3={}\n",
    "variable4={}\n",
    "\n",
    "for i in variable1:\n",
    "    classifier1=linear_model.Ridge(alpha=i)\n",
    "    classifier1.fit(data_a.train_x,data_a.train_y)\n",
    "    coefficient1_used = np.sum(classifier1.coef_!=0)\n",
    "    variable2[i]=coefficient1_used\n",
    "    \n",
    "    classifier2=linear_model.Ridge(alpha=i)\n",
    "    classifier2.fit(data_b.train_x,data_b.train_y)\n",
    "    coefficient2_used = np.sum(classifier2.coef_!=0)\n",
    "    variable3[i]=coefficient2_used\n",
    "    \n",
    "    classifier3=linear_model.Ridge(alpha=i)\n",
    "    classifier3.fit(data_c.train_x,data_c.train_y)\n",
    "    coefficient3_used = np.sum(classifier3.coef_!=0)\n",
    "    variable4[i]=coefficient3_used\n",
    "    \n",
    "print(\"\\nClass A - no of non zero coefficients are:\\n\",variable2)\n",
    "print(\"\\nClass B - no of non zero coefficients are:\\n\",variable3)\n",
    "print(\"\\nClass C - no of non zero coefficients are:\\n\",variable4)\n",
    "\n",
    "list1 = sorted(variable2.items())\n",
    "x1,y1 = zip(*list1)\n",
    "list2 = sorted(variable3.items())\n",
    "x2,y2 = zip(*list2)\n",
    "list3 = sorted(variable4.items())\n",
    "x3,y3 = zip(*list3)\n",
    "\n",
    "plt.title(' non zero coefficients vs lambda value')\n",
    "plt.xlabel('lambda value')\n",
    "plt.ylabel('non zero coefficients')\n",
    "scatter1= plt.scatter(x1,y1)\n",
    "scatter2= plt.scatter(x2,y2)\n",
    "scatter3= plt.scatter(x3,y3)\n",
    "plt.legend((scatter1,scatter2,scatter3),('class A','class B','Class C'))\n",
    "plt.show()\n",
    "    \n",
    "\n",
    "\n",
    "# 2B\n",
    "print(\"\\n 2B\\n\")\n",
    "#TODO\n",
    "\n",
    "key1 = min(variable2, key=lambda k: variable2[k])\n",
    "key2 = min(variable3, key=lambda k: variable3[k])\n",
    "key3 = min(variable4, key=lambda k: variable4[k])\n",
    "print(\"\\n Class A - lambda that yields minimum no of non zero coeffients\\n \",key1)\n",
    "print(\"\\n Class B - lambda that yields minimum no of non zero coeffients\\n \",key2)\n",
    "print(\"\\n Class C - lambda that yields minimum no of non zero coeffients\\n \",key3)\n",
    "\n",
    "\n",
    "\n",
    "# 2C\n",
    "print(\"\\n2C\\n \")\n",
    "#TODO\n",
    "variable5 = {}\n",
    "variable6 = {}\n",
    "variable7 = {}\n",
    "\n",
    "for i in variable1:\n",
    "    classifier1=linear_model.Ridge(alpha = i)\n",
    "    classifier1.fit(data_a.train_x,data_a.train_y)\n",
    "    y_predict1=classifier1.predict(data_a.test_x)\n",
    "    y_metric1=metrics.mean_squared_error(data_a.test_y,y_predict1)\n",
    "    variable5[i]=y_metric1\n",
    "    \n",
    "    classifier2=linear_model.Ridge(alpha = i)\n",
    "    classifier2.fit(data_b.train_x,data_b.train_y)\n",
    "    y_predict2=classifier2.predict(data_b.test_x)\n",
    "    y_metric2=metrics.mean_squared_error(data_b.test_y,y_predict2)\n",
    "    variable6[i]=y_metric2\n",
    "    \n",
    "    classifier3=linear_model.Ridge(alpha = i)\n",
    "    classifier3.fit(data_c.train_x,data_c.train_y)\n",
    "    y_predict3=classifier3.predict(data_c.test_x)\n",
    "    y_metric3=metrics.mean_squared_error(data_c.test_y,y_predict3)\n",
    "    variable7[i]=y_metric3\n",
    "    \n",
    "print(\"\\nClass A - test error:\\n\",variable5)\n",
    "print(\"\\nClass B - test error:\\n\",variable6)\n",
    "print(\"\\nClass C - test error:\\n\",variable7)\n",
    "\n",
    "list1 = sorted(variable5.items())\n",
    "x1,y1 = zip(*list1)\n",
    "list2 = sorted(variable6.items())\n",
    "x2,y2 = zip(*list2)\n",
    "list3 = sorted(variable7.items())\n",
    "x3,y3 = zip(*list3)\n",
    "\n",
    "plt.title(' Test error vs lambda value')\n",
    "plt.xlabel('lambda value')\n",
    "plt.ylabel('Test error')\n",
    "scatter1= plt.scatter(x1,y1)\n",
    "scatter2= plt.scatter(x2,y2)\n",
    "scatter3= plt.scatter(x3,y3)\n",
    "plt.legend((scatter1,scatter2,scatter3),('class A','class B','Class C'))\n",
    "plt.show()\n",
    "\n",
    "\n",
    "\n",
    "\n",
    "# 2D\n",
    "print(\"\\n2D\\n \")\n",
    "#TODO\n",
    "key1 = min(variable5, key=lambda k: variable5[k])\n",
    "key2 = min(variable6, key=lambda k: variable6[k])\n",
    "key3 = min(variable7, key=lambda k: variable7[k])\n",
    "print(\"\\n Class A - lambda value that yields minimum test error\\n \",key1)\n",
    "print(\"\\n Class B - lambda value that yields minimum test error\\n \",key2)\n",
    "print(\"\\n Class C - lambda value that yields minimum test error\\n \",key3)\n",
    "\n"
   ]
  },
  {
   "cell_type": "markdown",
   "metadata": {},
   "source": [
    "2.\n",
    "E) \n",
    ">**ANSWER** <br/>\n",
    "\n",
    "> Increasing $\\lambda$ value has no effect on the coefficients. In Ridge Regression  values of the coefficients cannot be obtained as zero even if $\\lambda$ values are altered."
   ]
  },
  {
   "cell_type": "markdown",
   "metadata": {},
   "source": [
    "3. Compare the two algorithms on each data set: compare the number of non-zero coordinates of the $\\mathbf w_d$'s, and compare the test error rates of the $\\mathbf w_b$'s. Report your results and comment on them."
   ]
  },
  {
   "cell_type": "markdown",
   "metadata": {},
   "source": [
    ">**ANSWER**\n",
    "><br/>\n",
    ">**Non zero coefficients**\n",
    "><br/>\n",
    ">**LASSO** - Randomization changes the number of non-zero coefficients. There are only a few $\\lambda$ values that always give zero coefficients.<br/>\n",
    ">**RIDGE** - Randomization doesn't change the number of non-zero coefficients. $\\lambda$ values don't result in zero coefficients.\n",
    ">From the above results, I found that class A gave zero coefficients with three $\\lambda$ values  ie $0.1$ , $0.2$, $0.3$.\n",
    ">Ridge doesn't provide any zero coefficients.\n",
    "\n",
    ">**Test Error Rates**\n",
    "<br/>\n",
    ">Both ridge and Lasso show similar patterns in the case of Test errors. Class A's and C's test error decreases with increase in $\\lambda$ value in both Ridge and Lasso, and class B's test error increases with increase in $\\lambda$ value.\n",
    "\n",
    "\n"
   ]
  },
  {
   "cell_type": "markdown",
   "metadata": {},
   "source": [
    "## Part 2: Visualizing Data and Decision Boundaries for different kernels - 30 points"
   ]
  },
  {
   "cell_type": "markdown",
   "metadata": {},
   "source": [
    "### A. Training SVM with Linear Kernel (Dataset 1)"
   ]
  },
  {
   "cell_type": "code",
   "execution_count": 64,
   "metadata": {},
   "outputs": [
    {
     "data": {
      "image/png": "[encoded data removed]",
      "text/plain": [
       "<Figure size 432x288 with 1 Axes>"
      ]
     },
     "metadata": {
      "needs_background": "light"
     },
     "output_type": "display_data"
    }
   ],
   "source": [
    "import numpy as np\n",
    "import scipy.io as sio\n",
    "import matplotlib.pyplot as plt\n",
    "\n",
    "from plot_data import plot_data\n",
    "\n",
    "\n",
    "# Load from data1\n",
    "mat_data = sio.loadmat('./data/data1.mat')\n",
    "X = mat_data['X']\n",
    "y = mat_data['y'].ravel()\n",
    "\n",
    "# Plot training data\n",
    "plt.figure()\n",
    "plot_data(X, y)\n",
    "plt.xlim([0, 4.5])\n",
    "plt.ylim([1.5, 5])\n",
    "plt.title(\"Dataset 1\")\n",
    "plt.show()"
   ]
  },
  {
   "cell_type": "markdown",
   "metadata": {},
   "source": [
    "**A:** In `data1.mat`, most of the positive and negative examples can be separated by a single line. Train SVM with linear kernel with C = 1 and plot the decision boundary using `visualize_boundary_linear(X, y, clf)`. `clf` is the SVM classifier. For the classifier, you should use the scikit-learn implementation. Feel free to experiment with different values of C and see what effect it has on the decision boundary. However finally train your classifier with C = 1"
   ]
  },
  {
   "cell_type": "code",
   "execution_count": 65,
   "metadata": {},
   "outputs": [
    {
     "name": "stdout",
     "output_type": "stream",
     "text": [
      "Accuracy 0.9803921568627451\n",
      "Precision: 1.0\n",
      "Recall: 0.9523809523809523\n"
     ]
    },
    {
     "data": {
      "image/png": "[encoded data removed]",
      "text/plain": [
       "<Figure size 432x288 with 1 Axes>"
      ]
     },
     "metadata": {
      "needs_background": "light"
     },
     "output_type": "display_data"
    }
   ],
   "source": [
    "# SOLUTION \n",
    "from sklearn import svm\n",
    "from visualize_boundary_linear import visualize_boundary_linear\n",
    "\n",
    "### START CODE HERE ### (approx. 3 lines)\n",
    "# 1. Create a linear SVM classifier\n",
    "# 2. Fit the model according to the given training data.\n",
    "# 3. Print the mean accuracy on the given train data and labels using the score function in scikit-learn\n",
    "### END CODE HERE ### \n",
    "\n",
    "clf = svm.SVC(kernel='linear')\n",
    "clf.fit(X,y)\n",
    "y_prediction= clf.predict(X)\n",
    "\n",
    "svm_accuracy=metrics.accuracy_score(y, y_prediction)\n",
    "print(\"Accuracy\",svm_accuracy)\n",
    "print(\"Precision:\",metrics.precision_score(y, y_prediction))\n",
    "print(\"Recall:\",metrics.recall_score(y, y_prediction))\n",
    "\n",
    "\n",
    "plt.figure()\n",
    "# Uncomment the below line after you build your classifier\n",
    "visualize_boundary_linear(X, y, clf)\n",
    "plt.xlim([0, 4.5])\n",
    "plt.ylim([1.5, 5])\n",
    "plt.title(\"Dataset 1\")\n",
    "plt.show()"
   ]
  },
  {
   "cell_type": "markdown",
   "metadata": {},
   "source": [
    "### B. Training SVM with RBF Kernel (Dataset 2)"
   ]
  },
  {
   "cell_type": "code",
   "execution_count": 66,
   "metadata": {},
   "outputs": [
    {
     "data": {
      "image/png": "[encoded data removed]",
      "text/plain": [
       "<Figure size 432x288 with 1 Axes>"
      ]
     },
     "metadata": {
      "needs_background": "light"
     },
     "output_type": "display_data"
    }
   ],
   "source": [
    "# Load from data2\n",
    "mat_data = sio.loadmat('./data/data2.mat')\n",
    "X = mat_data['X']\n",
    "y = mat_data['y'].ravel()\n",
    "\n",
    "# Plot training data\n",
    "plt.figure()\n",
    "plot_data(X, y)\n",
    "plt.xlim([0, 1])\n",
    "plt.ylim([0.4, 1])\n",
    "plt.title(\"Dataset 2\")\n",
    "plt.show()"
   ]
  },
  {
   "cell_type": "markdown",
   "metadata": {},
   "source": [
    "**B** In `data2.mat`, the positive and negative data points are not linearly separable. For this dataset, construct an SVM classifier with a Gaussian kernel to learn a non-linear decision boundary. You should use the scikit-learn implementation for the same. To plot the decision boundary use `visualize_boundary(X, y, clf)`"
   ]
  },
  {
   "cell_type": "code",
   "execution_count": 67,
   "metadata": {},
   "outputs": [
    {
     "name": "stdout",
     "output_type": "stream",
     "text": [
      "Accuracy 0.9698725376593279\n",
      "Precision: 0.9829787234042553\n",
      "Recall: 0.9625\n"
     ]
    },
    {
     "name": "stderr",
     "output_type": "stream",
     "text": [
      "/Users/vandanasridhar/Documents/anaconda3/lib/python3.6/site-packages/matplotlib/contour.py:1243: UserWarning: No contour levels were found within the data range.\n",
      "  warnings.warn(\"No contour levels were found\"\n"
     ]
    },
    {
     "data": {
      "image/png": "[encoded data removed]",
      "text/plain": [
       "<Figure size 432x288 with 1 Axes>"
      ]
     },
     "metadata": {
      "needs_background": "light"
     },
     "output_type": "display_data"
    }
   ],
   "source": [
    "from visualize_boundary import visualize_boundary\n",
    "\n",
    "# SVM Parameters to be used\n",
    "C = 100\n",
    "gamma = 10\n",
    "\n",
    "### START CODE HERE ### (approx. 3 lines)\n",
    "# 1. Create a SVM classifier with kernel='rbf'\n",
    "# 2. Fit the model according to the given training data.\n",
    "# 3. Print the mean accuracy on the given train data and labels using the score function in scikit-learn\n",
    "### END CODE HERE ###\n",
    "clf=svm.SVC(kernel='rbf',gamma = 10,C = 100)\n",
    "clf.fit(X,y)\n",
    "y_prediction = clf.predict(X)\n",
    "svm_accuracy=metrics.accuracy_score(y, y_prediction)\n",
    "print(\"Accuracy\",svm_accuracy)\n",
    "print(\"Precision:\",metrics.precision_score(y, y_prediction))\n",
    "print(\"Recall:\",metrics.recall_score(y, y_prediction))\n",
    "plt.figure()\n",
    "# Uncomment the below line after you build your classifier\n",
    "visualize_boundary(X, y, clf)\n",
    "plt.xlim([0, 1])\n",
    "plt.ylim([0.4, 1])\n",
    "plt.title(\"Dataset 2\")\n",
    "plt.show()"
   ]
  },
  {
   "cell_type": "markdown",
   "metadata": {},
   "source": [
    "## Part 3: Kernel Perceptron - 40 points"
   ]
  },
  {
   "cell_type": "markdown",
   "metadata": {},
   "source": [
    "For this task, you will be implement the Kernel Perceptron using different kernel functions. You will then use the training and test data provided below to train and test your implementation. Finally you will have to report the error rate as a percentage for each kernel function."
   ]
  },
  {
   "cell_type": "markdown",
   "metadata": {},
   "source": [
    "**A:** Implement the kernel functions below:"
   ]
  },
  {
   "cell_type": "code",
   "execution_count": 68,
   "metadata": {},
   "outputs": [],
   "source": [
    "import numpy as np\n",
    "from numpy import linalg\n",
    "\n",
    "def linear_kernel(x1, x2):\n",
    "    return np.dot(x1,x2)\n",
    "    \n",
    "\n",
    "def polynomial_kernel(x, y, p = 3):\n",
    "    return (1 + np.dot(x, y)) ** p\n",
    "    \n",
    "def gaussian_kernel(x, y, sigma = 0.5):\n",
    "    return np.exp(-linalg.norm(x-y)**2 / (2 * (sigma ** 2)))"
   ]
  },
  {
   "cell_type": "code",
   "execution_count": 69,
   "metadata": {},
   "outputs": [
    {
     "name": "stderr",
     "output_type": "stream",
     "text": [
      "...\n",
      "----------------------------------------------------------------------\n",
      "Ran 3 tests in 0.004s\n",
      "\n",
      "OK\n"
     ]
    },
    {
     "data": {
      "text/plain": [
       "<unittest.runner.TextTestResult run=3 errors=0 failures=0>"
      ]
     },
     "execution_count": 69,
     "metadata": {},
     "output_type": "execute_result"
    }
   ],
   "source": [
    "import unittest\n",
    "\n",
    "class TestKernels(unittest.TestCase):\n",
    "    \n",
    "    def setUp(self):\n",
    "        self.x1 = np.array([1, 2, 1])\n",
    "        self.x2 = np.array([0, 4, -1])\n",
    "        \n",
    "    def test0(self):\n",
    "        \"\"\"\n",
    "        Test the linear kernel\n",
    "        \"\"\"\n",
    "        self.assertEqual(linear_kernel(self.x1, self.x2), 7)\n",
    "    \n",
    "    def test_polynomial_kernel(self):\n",
    "        \"\"\"\n",
    "        Test the polynomial kernel\n",
    "        \"\"\"\n",
    "        self.assertEqual(polynomial_kernel(self.x1, self.x2), 512)\n",
    "        \n",
    "    def test_gaussian_kernel(self):\n",
    "        \"\"\"\n",
    "        Test the gaussian kernel\n",
    "        \"\"\"\n",
    "        self.assertAlmostEqual(gaussian_kernel(self.x1, self.x2) * 10 ** 8, 1.52299, 4)\n",
    "    \n",
    "\n",
    "tests = TestKernels()\n",
    "tests_to_run = unittest.TestLoader().loadTestsFromModule(tests)\n",
    "unittest.TextTestRunner().run(tests_to_run)\n",
    "            "
   ]
  },
  {
   "cell_type": "markdown",
   "metadata": {},
   "source": [
    "**B:** Implement the following methods of the `KernelPerceptron` class. The `__init__` takes also as input the kernel to use. You are allowed to introduce new class variables/methods.\n",
    "\n",
    "* Implement the `fit` method. Taking as input the training data, it learns the model parameters\n",
    "* Implement the `predict` method which takes as input new examples and returns the estimated label "
   ]
  },
  {
   "cell_type": "code",
   "execution_count": 70,
   "metadata": {},
   "outputs": [],
   "source": [
    "class KernelPerceptron:\n",
    "    def __init__(self, kernel = linear_kernel, Niter = 1):\n",
    "        self.kernel = kernel\n",
    "        self.Niter = Niter\n",
    "        self.support_vector_x = None\n",
    "        self.support_vector_y = None\n",
    "        \n",
    "    def fit(self, X, y):\n",
    "        # TODO: \n",
    "        samples, features = X.shape\n",
    "        self.alpha = np.zeros(samples, dtype=np.float64)\n",
    "        \n",
    "        matrix = np.zeros((samples, samples))\n",
    "        for i in range(samples):\n",
    "            for j in range(samples):\n",
    "                matrix[i,j] = self.kernel(X[i], X[j])\n",
    "                \n",
    "        for k in range(self.Niter):\n",
    "            for l in range(samples):\n",
    "                if np.sign(np.sum(matrix[:,l] * self.alpha * y)) != y[l]:\n",
    "                    self.alpha[l] += 1.0\n",
    "                    \n",
    "        supportvector = self.alpha > 1e-5\n",
    "        ind = np.arange(len(self.alpha))[supportvector]\n",
    "        self.alpha = self.alpha[supportvector]\n",
    "        self.support_vector_x = X[supportvector]\n",
    "        self.support_vector_y = y[supportvector]\n",
    "    \n",
    "    def project(self, X):\n",
    "        y_prediction = np.zeros(len(X))\n",
    "        for i in range(len(X)):\n",
    "            s = 0\n",
    "            for sv, sv_y, sv_x in zip(self.alpha, self.support_vector_y,   self.support_vector_x):\n",
    "                s += sv * sv_y * self.kernel(X[i], sv_x)\n",
    "            y_prediction[i] = s\n",
    "        return y_prediction\n",
    "        \n",
    "    def predict(self, X):\n",
    "        # TODO: \n",
    "        X = np.atleast_2d(X)\n",
    "        samples, features = X.shape\n",
    "        return np.sign(self.project(X))\n",
    "        \n",
    "        "
   ]
  },
  {
   "cell_type": "markdown",
   "metadata": {},
   "source": [
    "##  Solving a new classification problem using SVM"
   ]
  },
  {
   "cell_type": "markdown",
   "metadata": {},
   "source": [
    "We are using the IRIS Dataset for this classification task. We have created a binary classification problem to determine whether a given flower is a setosa or not. To create this, we pre-processed the labels to create a label vector where setosa’s label is unchanged (i.e. its label is 1), but both versicolor and virginica are now labeled as -1. The data contains two out of the four attributes, petal width and petal length.We are going to use this dataset to test our Kernel Perceptron\n",
    "<br>\n",
    "\n",
    "<img src=\"wide_iris.png\" alt=\"Drawing\" style=\"width: 600px;\"/>\n",
    "\n",
    "<br>"
   ]
  },
  {
   "cell_type": "code",
   "execution_count": 71,
   "metadata": {},
   "outputs": [],
   "source": [
    "from scipy.io import loadmat\n",
    "class Data:\n",
    "    def __init__(self):\n",
    "        ff = lambda x,y : loadmat(x)[y]\n",
    "        \n",
    "        self.X_train = ff(\"data/iris_3/train_data.mat\", \"train_data\")\n",
    "        self.y_train = ff(\"data/iris_3/train_labels.mat\", \"train_labels\").flatten()\n",
    "        \n",
    "        self.X_test = ff(\"data/iris_3/test_data.mat\", \"test_data\")\n",
    "        self.y_test = ff(\"data/iris_3/test_labels.mat\", \"test_labels\").flatten()\n",
    "        \n",
    "data = Data()"
   ]
  },
  {
   "cell_type": "markdown",
   "metadata": {},
   "source": [
    "**C:** Report the test error as a percentage for each kernel function for `Niter = 20`"
   ]
  },
  {
   "cell_type": "markdown",
   "metadata": {},
   "source": []
  },
  {
   "cell_type": "markdown",
   "metadata": {},
   "source": [
    "**Expected Output**: \n",
    "\n",
    "<table> \n",
    "    <tr>\n",
    "    <td>\n",
    "    **Linear Kernel**\n",
    "    </td>\n",
    "     <td>\n",
    "    40 %\n",
    "    </td>\n",
    "    </tr>\n",
    "      <tr>\n",
    "    <td>\n",
    "    **Polynomial Kernel**\n",
    "    </td>\n",
    "     <td>\n",
    "    6.67 %\n",
    "    </td>\n",
    "    </tr>\n",
    "      <tr>\n",
    "    <td>\n",
    "    **Gaussian Kernel**\n",
    "    </td>\n",
    "     <td>\n",
    "    6.67 %\n",
    "    </td>\n",
    "    </tr>\n",
    "\n",
    "</table> "
   ]
  },
  {
   "cell_type": "code",
   "execution_count": 72,
   "metadata": {},
   "outputs": [
    {
     "name": "stdout",
     "output_type": "stream",
     "text": [
      "Test Error for Linear kernel:  40.0 %\n",
      "\n",
      "\n",
      "Test Error for Polynomial kernel:  6.666666666666665 %\n",
      "\n",
      "\n",
      "Test Error for Guassian kernel:  6.666666666666665 %\n"
     ]
    }
   ],
   "source": [
    "classifier1 = KernelPerceptron(Niter=20)\n",
    "classifier1.fit(data.X_train, data.y_train)\n",
    "y_prediction = classifier1.predict(data.X_test)\n",
    "number_correct = np.sum(y_prediction == data.y_test)\n",
    "accuracy=number_correct/len(data.y_test)\n",
    "test_error = 1- accuracy\n",
    "percent=100\n",
    "test_percent = test_error*percent\n",
    "print('Test Error for Linear kernel: ',test_percent,'%')\n",
    "print('\\n')\n",
    "\n",
    "classifier2 = KernelPerceptron(kernel =  gaussian_kernel, Niter=20)\n",
    "classifier2.fit(data.X_train, data.y_train)\n",
    "y_prediction = classifier2.predict(data.X_test)\n",
    "number_correct = np.sum(y_prediction == data.y_test)\n",
    "accuracy=number_correct/len(data.y_test)\n",
    "test_error = 1- accuracy\n",
    "percent=100\n",
    "test_percent = test_error*percent\n",
    "print('Test Error for Polynomial kernel: ',test_percent,'%')\n",
    "print('\\n')\n",
    "\n",
    "classifier3 = KernelPerceptron(kernel =  gaussian_kernel, Niter=20)\n",
    "classifier3.fit(data.X_train, data.y_train)\n",
    "y_prediction = classifier3.predict(data.X_test)\n",
    "number_correct = np.sum(y_prediction == data.y_test)\n",
    "accuracy=number_correct/len(data.y_test)\n",
    "test_error = 1- accuracy\n",
    "percent=100\n",
    "test_percent = test_error*percent\n",
    "print('Test Error for Guassian kernel: ',test_percent,'%')\n",
    "\n"
   ]
  },
  {
   "cell_type": "code",
   "execution_count": null,
   "metadata": {},
   "outputs": [],
   "source": []
  }
 ],
 "metadata": {
  "kernelspec": {
   "display_name": "Python 3",
   "language": "python",
   "name": "python3"
  },
  "language_info": {
   "codemirror_mode": {
    "name": "ipython",
    "version": 3
   },
   "file_extension": ".py",
   "mimetype": "text/x-python",
   "name": "python",
   "nbconvert_exporter": "python",
   "pygments_lexer": "ipython3",
   "version": "3.7.3"
  }
 },
 "nbformat": 4,
 "nbformat_minor": 2
}
