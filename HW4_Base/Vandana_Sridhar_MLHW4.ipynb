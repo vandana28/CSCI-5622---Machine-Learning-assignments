{
 "cells": [
  {
   "cell_type": "markdown",
   "metadata": {},
   "source": [
    "# Homework 4 - Ensemble Methods and Decision Trees \n",
    "## CSCI 5622 - Spring 2019\n",
    "***\n",
    "**Name**: $<$Vandana Sridhar$>$ \n",
    "***\n",
    "\n",
    "This assignment is due on Canvas by **11.59 PM on Wednesday, March 20**. Submit only this Jupyter notebook to Canvas.  Do not compress it using tar, rar, zip, etc. Your solutions to analysis questions should be done in Markdown directly below the associated question.  Remember that you are encouraged to discuss the problems with your classmates and instructors, but **you must write all code and solutions on your own**, and list any people or sources consulted.\n"
   ]
  },
  {
   "cell_type": "markdown",
   "metadata": {},
   "source": [
    "## Dataset\n",
    "***\n",
    "Please do not change this class. We will use the MNIST dataset for this assignment. You have previously trained KNN, Logistic Regression on this dataset. You will now be using Ensemble methods and Decision Trees. This is a good opportunity to compare the results of different Machine Learning Algorithms on the dataset.\n",
    "\n",
    "This is a binary classification task. We have only included 3's and 8's for this task."
   ]
  },
  {
   "cell_type": "code",
   "execution_count": 16,
   "metadata": {},
   "outputs": [],
   "source": [
    "import numpy as np\n",
    "from sklearn.base import clone"
   ]
  },
  {
   "cell_type": "code",
   "execution_count": 17,
   "metadata": {},
   "outputs": [],
   "source": [
    "class ThreesAndEights:\n",
    "    \"\"\"\n",
    "    Class to store MNIST data\n",
    "    \"\"\"\n",
    "\n",
    "    def __init__(self, location):\n",
    "\n",
    "        import pickle, gzip\n",
    "\n",
    "        # Load the dataset\n",
    "        f = gzip.open(location, 'rb')\n",
    "\n",
    "        # Split the data set\n",
    "        train_set, valid_set, test_set = pickle.load(f)\n",
    "    \n",
    "        X_train, y_train = train_set\n",
    "        X_valid, y_valid = valid_set\n",
    "\n",
    "        # Extract only 3's and 8's for training set \n",
    "        self.X_train = X_train[np.logical_or( y_train==3, y_train == 8), :]\n",
    "        self.y_train = y_train[np.logical_or( y_train==3, y_train == 8)]\n",
    "        self.y_train = np.array([1 if y == 8 else -1 for y in self.y_train])\n",
    "        \n",
    "        # Shuffle the training data \n",
    "        shuff = np.arange(self.X_train.shape[0])\n",
    "        np.random.shuffle(shuff)\n",
    "        self.X_train = self.X_train[shuff,:]\n",
    "        self.y_train = self.y_train[shuff]\n",
    "\n",
    "        # Extract only 3's and 8's for validation set \n",
    "        self.X_valid = X_valid[np.logical_or( y_valid==3, y_valid == 8), :]\n",
    "        self.y_valid = y_valid[np.logical_or( y_valid==3, y_valid == 8)]\n",
    "        self.y_valid = np.array([1 if y == 8 else -1 for y in self.y_valid])\n",
    "        \n",
    "        f.close()"
   ]
  },
  {
   "cell_type": "code",
   "execution_count": 18,
   "metadata": {},
   "outputs": [],
   "source": [
    "data = ThreesAndEights(\"data/mnist.pklz\")"
   ]
  },
  {
   "cell_type": "markdown",
   "metadata": {},
   "source": [
    "Feel free to explore this data and get comfortable with it before proceeding further."
   ]
  },
  {
   "cell_type": "markdown",
   "metadata": {},
   "source": [
    "## Bagging\n",
    "Bootstrap aggregating, also called bagging, is a machine learning ensemble meta-algorithm designed to improve the stability and accuracy of machine learning algorithms used in statistical classification and regression. It also reduces variance and helps to avoid overfitting. Although it is usually applied to decision tree methods, it can be used with any type of method. Bagging is a special case of the model averaging approach.\n",
    "\n",
    "Given a standard training set $D$ of size n, bagging generates $N$ new training sets $D_i$, roughly each of size n * ratio, by sampling from $D$ uniformly and with replacement. By sampling with replacement, some observations may be repeated in each $D_i$ The $N$ models are fitted using the above $N$ bootstraped samples and combined by averaging the output (for regression) or voting (for classification). \n",
    "\n",
    "-Source [Wiki](https://en.wikipedia.org/wiki/Bootstrap_aggregating)"
   ]
  },
  {
   "cell_type": "markdown",
   "metadata": {},
   "source": [
    "## Implementing Bagging [25 points]\n",
    "***\n",
    "\n",
    "We've given you a skeleton of the class `BaggingClassifier` below which will train a classifier based on the decision trees as implemented by sklearn. Your tasks are as follows, please approach step by step to understand the code flow:\n",
    "* Implement `bootstrap` method which takes in two parameters (`X_train, y_train`) and returns a bootstrapped training set ($D_i$)\n",
    "* Implement `fit` method which takes in two parameters (`X_train, y_train`) and trains `N` number of base models on different bootstrap samples. You should call `bootstrap` method to get bootstrapped training data for each of your base model\n",
    "* Implement `voting` method which takes the predictions from learner trained on bootstrapped data points `y_hats` and returns final prediction as per majority rule. In case of ties, return either of the class randomly.\n",
    "* Implement `predict` method which takes in multiple data points and returns final prediction for each one of those. Please use the `voting` method to reach consensus on final prediction."
   ]
  },
  {
   "cell_type": "code",
   "execution_count": 19,
   "metadata": {},
   "outputs": [],
   "source": [
    "from sklearn.tree import DecisionTreeClassifier\n",
    "\n",
    "class BaggingClassifier:\n",
    "    def __init__(self, ratio = 0.20, N = 20, base=DecisionTreeClassifier(max_depth=4)):\n",
    "        \"\"\"\n",
    "        Create a new BaggingClassifier\n",
    "        \n",
    "        Args:\n",
    "            base (BaseEstimator, optional): Sklearn implementation of decision tree\n",
    "            ratio: ratio of number of data points in subsampled data to the actual training data\n",
    "            N: number of base estimator in the ensemble\n",
    "        \n",
    "        Attributes:\n",
    "            base (estimator): Sklearn implementation of decision tree\n",
    "            N: Number of decision trees\n",
    "            learners: List of models trained on bootstrapped data sample\n",
    "        \"\"\"\n",
    "        \n",
    "        assert ratio <= 1.0, \"Cannot have ratio greater than one\"\n",
    "        self.base = base\n",
    "        self.ratio = ratio\n",
    "        self.N = N\n",
    "        self.learners = []\n",
    "        \n",
    "    def fit(self, X_train, y_train):\n",
    "        \"\"\"\n",
    "        Train Bagging Ensemble Classifier on data\n",
    "        \n",
    "        Args:\n",
    "            X_train (ndarray): [n_samples x n_features] ndarray of training data   \n",
    "            y_train (ndarray): [n_samples] ndarray of data \n",
    "        \"\"\"\n",
    "        #TODO: Implement functionality to fit models on the bootstrapped samples\n",
    "        # cloning sklearn models:\n",
    "        from sklearn.base import clone\n",
    "        \n",
    "        for i in range(0,self.N):\n",
    "            h = clone(self.base)\n",
    "            b_X, b_y = self.boostrap(X_train,y_train)\n",
    "            self.learners.append(h.fit(b_X,b_y))\n",
    "        \n",
    "        \n",
    "    def boostrap(self, X_train, y_train):\n",
    "        \"\"\"\n",
    "        Args:\n",
    "            n (int): total size of the training data\n",
    "            X_train (ndarray): [n_samples x n_features] ndarray of training data   \n",
    "            y_train (ndarray): [n_samples] ndarray of data \n",
    "        \"\"\"\n",
    "        \n",
    "        n=len(X_train)\n",
    "        random_indices = np.random.choice(np.arange(n), size=int(n*self.ratio),replace=True)\n",
    "        bootstrap_X = X_train[random_indices]\n",
    "        bootstrap_y = y_train[random_indices]\n",
    "        \n",
    "        return bootstrap_X, bootstrap_y\n",
    "        \n",
    "    \n",
    "    def predict(self, X):\n",
    "        \"\"\"\n",
    "        BaggingClassifier prediction for data points in X\n",
    "        \n",
    "        Args:\n",
    "            X (ndarray): [n_samples x n_features] ndarray of data \n",
    "            \n",
    "        Returns:\n",
    "            yhat (ndarray): [n_samples] ndarray of predicted labels {-1,1}\n",
    "        \"\"\"\n",
    "        \n",
    "        #TODO: Using the individual classifiers trained predict the final prediction using voting mechanism\n",
    "        \n",
    "        yhat = []\n",
    "        for number in X:\n",
    "            y_predict =[]\n",
    "            for l in self.learners:\n",
    "                y_predict.append(l.predict([number]))\n",
    "            yhat.append(self.voting(y_predict))\n",
    "            \n",
    "        return yhat\n",
    "    \n",
    "    def voting(self, y_hats):\n",
    "        \"\"\"\n",
    "        Args:\n",
    "            y_hats (ndarray): [N] ndarray of data\n",
    "        Returns:\n",
    "            y_final : int, final prediction of the \n",
    "        \"\"\"\n",
    "        #TODO: Implement majority voting scheme and incase of ties return random label\n",
    "        \n",
    "        total = 0\n",
    "        for x in y_hats:\n",
    "            total += sum(x)\n",
    "            \n",
    "        if total<0:\n",
    "            y_final = -1\n",
    "            \n",
    "        elif total > 0:\n",
    "            y_final =1\n",
    "            \n",
    "        else:\n",
    "            y_final = int(np.random.choice([-1,1], size =1))\n",
    "            \n",
    "        return y_final"
   ]
  },
  {
   "cell_type": "markdown",
   "metadata": {},
   "source": [
    "## BaggingClassifier for Handwritten Digit Recognition [10 points]\n",
    "***\n",
    "\n",
    "After you've successfully completed `BaggingClassifier` find the optimal values of `ratio`, `N` and `depth` using k-fold cross validation. You are allowed to use sklearn library to split your training data in folds. Use the data from `ThreesAndEights` class initialized variable `data`. Hyperparameter tuning as you may have noticed is very important in Machine Learning.  \n",
    "\n",
    "Justify why those values are optimal.\n",
    "\n",
    "Report accuracy on the validation data using the optimal parameter values.\n",
    "\n",
    "__Note__: This might take a little longer time than usual to run (i.e. several minutes). This is true for the ensemble methods you will implement below as well."
   ]
  },
  {
   "cell_type": "code",
   "execution_count": 5,
   "metadata": {},
   "outputs": [],
   "source": [
    "N_range = np.arange(5,25,5)\n",
    "ratio_range = np.arange(.1,1,0.4)\n",
    "depth_range = np.arange(3,24,7)"
   ]
  },
  {
   "cell_type": "code",
   "execution_count": 6,
   "metadata": {
    "scrolled": true
   },
   "outputs": [
    {
     "name": "stdout",
     "output_type": "stream",
     "text": [
      "N [ 5 10 15 20]\n",
      "ratio [0.1 0.5 0.9]\n",
      "depth [ 3 10 17]\n"
     ]
    }
   ],
   "source": [
    "from sklearn.model_selection import KFold\n",
    "num_k = 5\n",
    "print(\"N\", N_range)\n",
    "print(\"ratio\", ratio_range)\n",
    "print(\"depth\", depth_range)\n",
    "\n",
    "kfold = KFold(num_k, True, 555)\n",
    "D = []\n",
    "\n",
    "iter = 0 \n",
    "for n in N_range:\n",
    "    for r in ratio_range:\n",
    "        for d in depth_range:\n",
    "            iter += 1\n",
    "            parameters = (n,r,d)\n",
    "            error = 0\n",
    "            cur_foldaccuracy = []\n",
    "            for train, test in kfold.split(data.X_train):\n",
    "                trained_tree=BaggingClassifier(ratio = r, N= n, base = DecisionTreeClassifier(max_depth = d))\n",
    "                \n",
    "                trained_tree.fit(data.X_train[train],data.y_train[train])\n",
    "                y_prediction = np.array(trained_tree.predict(data.X_train[test]))\n",
    "                y_actual = data.y_train[test]\n",
    "                \n",
    "                errors= y_prediction != y_actual\n",
    "                final_error = np.sum(errors)\n",
    "                accuracy_percent = 1 - final_error/len(y_actual)\n",
    "                cur_foldaccuracy.append(accuracy_percent)\n",
    "                \n",
    "            avg_accuracy = np.average(cur_foldaccuracy)\n",
    "            D.append((avg_accuracy,parameters))\n",
    "            #print(iter)\n",
    "\n",
    "\n",
    "\n"
   ]
  },
  {
   "cell_type": "code",
   "execution_count": 7,
   "metadata": {
    "scrolled": false
   },
   "outputs": [
    {
     "name": "stdout",
     "output_type": "stream",
     "text": [
      "Accuracy: 0.98\n",
      "N: 20, ratio: 0.9, depth: 17\n",
      "Accuracy: 0.97\n",
      "N: 15, ratio: 0.5, depth: 17\n",
      "Accuracy: 0.97\n",
      "N: 10, ratio: 0.9, depth: 17\n",
      "Accuracy: 0.97\n",
      "N: 15, ratio: 0.9, depth: 17\n",
      "Accuracy: 0.97\n",
      "N: 20, ratio: 0.9, depth: 10\n",
      "Accuracy: 0.97\n",
      "N: 15, ratio: 0.9, depth: 10\n",
      "Accuracy: 0.97\n",
      "N: 20, ratio: 0.5, depth: 17\n",
      "Accuracy: 0.97\n",
      "N: 20, ratio: 0.5, depth: 10\n",
      "Accuracy: 0.97\n",
      "N: 15, ratio: 0.5, depth: 10\n",
      "Accuracy: 0.97\n",
      "N: 10, ratio: 0.5, depth: 17\n",
      "Accuracy: 0.97\n",
      "N: 10, ratio: 0.9, depth: 10\n",
      "Accuracy: 0.97\n",
      "N: 10, ratio: 0.5, depth: 10\n",
      "Accuracy: 0.97\n",
      "N: 5, ratio: 0.9, depth: 10\n",
      "Accuracy: 0.97\n",
      "N: 5, ratio: 0.9, depth: 17\n",
      "Accuracy: 0.97\n",
      "N: 5, ratio: 0.5, depth: 17\n",
      "Accuracy: 0.97\n",
      "N: 5, ratio: 0.5, depth: 10\n",
      "Accuracy: 0.96\n",
      "N: 20, ratio: 0.1, depth: 17\n",
      "Accuracy: 0.96\n",
      "N: 15, ratio: 0.1, depth: 10\n",
      "Accuracy: 0.96\n",
      "N: 20, ratio: 0.1, depth: 10\n",
      "Accuracy: 0.96\n",
      "N: 10, ratio: 0.1, depth: 17\n",
      "Accuracy: 0.96\n",
      "N: 15, ratio: 0.1, depth: 17\n",
      "Accuracy: 0.96\n",
      "N: 10, ratio: 0.1, depth: 10\n",
      "Accuracy: 0.95\n",
      "N: 5, ratio: 0.1, depth: 10\n",
      "Accuracy: 0.95\n",
      "N: 5, ratio: 0.1, depth: 17\n",
      "Accuracy: 0.95\n",
      "N: 15, ratio: 0.1, depth: 3\n",
      "Accuracy: 0.94\n",
      "N: 20, ratio: 0.1, depth: 3\n",
      "Accuracy: 0.94\n",
      "N: 10, ratio: 0.1, depth: 3\n",
      "Accuracy: 0.94\n",
      "N: 20, ratio: 0.5, depth: 3\n",
      "Accuracy: 0.94\n",
      "N: 5, ratio: 0.1, depth: 3\n",
      "Accuracy: 0.94\n",
      "N: 20, ratio: 0.9, depth: 3\n",
      "Accuracy: 0.94\n",
      "N: 10, ratio: 0.9, depth: 3\n",
      "Accuracy: 0.94\n",
      "N: 15, ratio: 0.9, depth: 3\n",
      "Accuracy: 0.94\n",
      "N: 15, ratio: 0.5, depth: 3\n",
      "Accuracy: 0.93\n",
      "N: 10, ratio: 0.5, depth: 3\n",
      "Accuracy: 0.93\n",
      "N: 5, ratio: 0.9, depth: 3\n",
      "Accuracy: 0.93\n",
      "N: 5, ratio: 0.5, depth: 3\n"
     ]
    }
   ],
   "source": [
    "sorted_by_error = sorted(D, key = lambda tup: tup[0], reverse = True)\n",
    "    \n",
    "for e in sorted_by_error:\n",
    "    print(\"Accuracy: %.2f\" %e[0])\n",
    "    print(\"N: %i, ratio: %.1f, depth: %i\" %(e[1][0],e[1][1],e[1][2]))"
   ]
  },
  {
   "cell_type": "code",
   "execution_count": 9,
   "metadata": {},
   "outputs": [
    {
     "name": "stdout",
     "output_type": "stream",
     "text": [
      "20 trees, ratio 0.9,depth of 17,Accuarcy of 97.6 on test set.\n"
     ]
    }
   ],
   "source": [
    "#using optimal parameters\n",
    "\n",
    "final_N = 20\n",
    "final_ratio = 0.9\n",
    "final_depth = 17\n",
    "\n",
    "\n",
    "BaggedTree = BaggingClassifier(ratio = final_ratio, N = final_N, base = DecisionTreeClassifier(max_depth = final_depth))\n",
    "\n",
    "BaggedTree.fit(data.X_train, data.y_train)\n",
    "Baggedprediction = BaggedTree.predict(data.X_valid)\n",
    "actual = data.y_valid\n",
    "\n",
    "Baggedtotalerrors = Baggedprediction != actual\n",
    "Baggederror = np.sum(Baggedtotalerrors)\n",
    "Baggedpercent = 100*(1 - Baggederror/len(actual))\n",
    "print(\"%i trees, ratio %.1f,depth of %i,Accuarcy of %.1f on test set.\" %(final_N, final_ratio, final_depth, Baggedpercent))"
   ]
  },
  {
   "cell_type": "markdown",
   "metadata": {},
   "source": [
    "<center>__Expected accuracy is about 97%__</center>"
   ]
  },
  {
   "cell_type": "markdown",
   "metadata": {},
   "source": [
    ">**JUSTIFICATION**\n",
    "> \n",
    ">1) Used a nested for loop to evaluate 3 parameters namely: Number of Trees, Ratio and Depth. Looking at the results, depth has the highest influence.Deeper trees corresponds to more decisions. <br/><br/>\n",
    ">2)Ratio doesn't seem to have a large effect but 0.9 being the highest value in the range seems to assist in increasing accuracy. Lower ratio values also seem to provide good accuracies. <br/><br/>\n",
    ">3) With respect to the number of trees, the highest accuracy comes from the largest number of trees which is 20. So higher the number of trees, higher the accuracy.But adding more trees doesn't seem to cause a significant increase in accuracy. Adding another 30 to 50 trees would have a marginal effect on the accuracy percentage.<br/><br/>\n",
    ">4) With due respect to the above, I conclude that my optimal parameters are <br/><br/>\n",
    ">> Number of Trees = $20$<br/>\n",
    ">> Ratio = $0.9$<br/>\n",
    ">> Depth = $17$<br/>\n",
    ">>Accuracy = $97.6$%<br/>\n"
   ]
  },
  {
   "cell_type": "markdown",
   "metadata": {},
   "source": [
    "# Random Decision Tree [35 points]\n",
    "\n",
    "In this assignment you are going to implement a random decision tree using random vector method as discussed in the lecture.\n",
    "\n",
    "Best split: One that achieves maximum reduction in gini index across multiple candidate splits. (decided by `candidate_splits` attribute of the class `RandomDecisionTree`)\n",
    "\n",
    "Use `TreeNode` class as node abstraction to build the tree\n",
    "\n",
    "You are allowed to add new attributes in the `TreeNode` and `RandomDecisionTree` class - if that helps.\n",
    "\n",
    "Your tasks are as follows:\n",
    "* Implement `gini_index` method which takes in class labels as parameter and returns the gini impurity as measure of uncertainty\n",
    "\n",
    "* Implement `majority` method which picks the most frequent class label. In case of tie return any random class label\n",
    "\n",
    "* Implement `find_best_split` method which finds the random vector/hyperplane which causes most reduction in the gini index. \n",
    "\n",
    "* Implement `build_tree` method which uses `find_best_split` method to get the best random split vector for current set of training points. This vector partitions the training points into two sets, and you should call `build_tree` method on two partitioned sets and build left subtree and right subtree. Use `TreeNode` as abstraction for a node.\n",
    "\n",
    "> The method calls itself recursively to the generate left and right subtree till the point either `max_depth` is reached or no good random split is found.  When either of two cases is encountered, you should make that node as leaf and identify the label for that leaf to be the most frequent class (use `majority` method). Go through lecture slides for better understanding\n",
    "\n",
    "* Implement `predict` method which takes in multiple data points and returns final prediction for each one of those using the tree built. (`root` attribute of the class)"
   ]
  },
  {
   "cell_type": "code",
   "execution_count": 20,
   "metadata": {},
   "outputs": [],
   "source": [
    "from collections import Counter\n",
    "class TreeNode:\n",
    "    def __init__(self):\n",
    "        self.left = None\n",
    "        self.right = None\n",
    "        self.isLeaf = False\n",
    "        self.label = None\n",
    "        self.split_vector = None\n",
    "\n",
    "    def getLabel(self):\n",
    "        if not self.isLeaf:\n",
    "            raise Exception(\"Should not to do getLabel on a non-leaf node\")\n",
    "        return self.label\n",
    "    \n",
    "class RandomDecisionTree:\n",
    "            \n",
    "    def __init__(self, candidate_splits = 100, depth = 10):\n",
    "        \"\"\"\n",
    "        Args:\n",
    "            candidate_splits (int) : number of random decision splits to test\n",
    "            depth (int) : maximum depth of the random decision tree\n",
    "        \"\"\"\n",
    "        self.candidate_splits = candidate_splits\n",
    "        self.depth = depth\n",
    "        self.root = None\n",
    "    \n",
    "    def fit(self, X_train, y_train):\n",
    "        \"\"\"\n",
    "        Args:\n",
    "            X_train (ndarray): [n_samples x n_features] ndarray of training data   \n",
    "            y_train (ndarray): [n_samples] ndarray of data\n",
    "            \n",
    "        \"\"\"\n",
    "        self.root = self.build_tree(X_train[:], y_train[:], 0)\n",
    "        return self\n",
    "        \n",
    "    def build_tree(self, X_train, y_train, height):\n",
    "        \"\"\"\n",
    "        Args:\n",
    "            X_train (ndarray): [n_samples x n_features] ndarray of training data   \n",
    "            y_train (ndarray): [n_samples] ndarray of data\n",
    "            \n",
    "        \"\"\"\n",
    "        \n",
    "        node = TreeNode()\n",
    "        cur_split = self.find_best_split(X_train,y_train)\n",
    "        if height == self.depth or len(y_train) < 2:\n",
    "            #node = TreeNode()\n",
    "            node.isLeaf = True\n",
    "            node.label = self.majority(y_train)\n",
    "            return node\n",
    "        \n",
    "        #cur_split = self.find_best_split(X_train,y_train)\n",
    "        height +=1\n",
    "        left_side,right_side = [],[]\n",
    "        index = 0\n",
    "        \n",
    "        for pt in X_train:\n",
    "            side = np.dot(pt, cur_split)\n",
    "            if side < 0:\n",
    "                left_side.append(index)\n",
    "            else:\n",
    "                right_side.append(index)\n",
    "            index +=1\n",
    "        left_points, right_points = np.array(left_side), np.array(right_side)\n",
    "        \n",
    "        if len(left_points) == 0 or len(right_points) == 0:\n",
    "            node.isLeaf = True\n",
    "            node.label = self.majority(y_train)\n",
    "            return node  \n",
    "        \n",
    "        left_branch = self.build_tree(X_train[left_points], y_train[left_points], height)\n",
    "        right_branch = self.build_tree(X_train[right_points], y_train[right_points], height)\n",
    "       \n",
    "        #node = TreeNode()\n",
    "        node.left = left_branch\n",
    "        node.right = right_branch\n",
    "        node.split_vector = cur_split\n",
    "#         node.label = self.majority(y_train)\n",
    "        \n",
    "        return node\n",
    "    \n",
    "    \n",
    "    def find_best_split(self, X_train, y_train):\n",
    "        \"\"\"\n",
    "        Args:\n",
    "            X_train (ndarray): [n_samples x n_features] ndarray of training data   \n",
    "            y_train (ndarray): [n_samples] ndarray of data\n",
    "            \n",
    "        \"\"\"\n",
    "        \n",
    "        u_initial = self.gini_index(y_train)\n",
    "        Total_Points = len(y_train)\n",
    "        \n",
    "        dims = len(X_train[0])\n",
    "        num_candidates = self.candidate_splits\n",
    "        max_gain = -float(np.inf)\n",
    "        split_vector = None\n",
    "        for x in range(num_candidates):\n",
    "            candidate_split = np.random.uniform(-1,1,dims)\n",
    "            left, right = [], []\n",
    "            index = 0\n",
    "            for pt in X_train:\n",
    "                side = np.dot(pt, candidate_split)\n",
    "                if side < 0:\n",
    "                    left.append(index)\n",
    "                    \n",
    "                else:\n",
    "                    right.append(index)\n",
    "                index += 1\n",
    "\n",
    "            left, right = np.array(left), np.array(right) #don't require this           \n",
    "            pl, pr = len(left)/float(Total_Points), len(right)/float(Total_Points)\n",
    "          \n",
    "            if pl > 0:\n",
    "                ul = self.gini_index(y_train[left])\n",
    "            else:\n",
    "                ul = 0\n",
    "                \n",
    "            if pr > 0:\n",
    "            \n",
    "                ur = self.gini_index(y_train[right])\n",
    "                \n",
    "            else:\n",
    "                ur = 0\n",
    "                \n",
    "            Gain_of_split = u_initial - (pl*ul) - (pr*ur)\n",
    "            if Gain_of_split > max_gain:\n",
    "                split_vector = candidate_split\n",
    "                max_gain = Gain_of_split\n",
    "        # your logic here\n",
    "        return split_vector\n",
    "            \n",
    "        \n",
    "    def gini_index(self, y):\n",
    "        \"\"\"\n",
    "        Args:\n",
    "            y (ndarray): [n_samples] ndarray of data\n",
    "        \"\"\"\n",
    "        \n",
    "        labelcounts = {}\n",
    "\n",
    "        for label in np.unique(y):\n",
    "            labelcounts.update( {label : list(y).count(label)})\n",
    "\n",
    "        total_Points = len(y)\n",
    "        \n",
    "        try:\n",
    "                p = labelcounts[-1]\n",
    "        except:\n",
    "                p = labelcounts[1]\n",
    "\n",
    "        u = 2 * (p/total_Points) * (1 - (p/total_Points))\n",
    "        return(u)\n",
    "        \n",
    "        \n",
    "        #counts = Counter(y)\n",
    "        #uncertain = 1\n",
    "        #for key,value in counts.items():\n",
    "        #    p_label = value/len(y)\n",
    "         #   uncertain -= p_label**2\n",
    "        #return uncertain\n",
    "        \n",
    "        \n",
    "    \n",
    "    def majority(self, y):\n",
    "        \"\"\"\n",
    "        Return the major class in ndarray y\n",
    "        \n",
    "        \"\"\"\n",
    "        labelcounts = {}\n",
    "        for label in np.unique(y):\n",
    "            labelcounts.update( {label : list(y).count(label)})\n",
    "            \n",
    "        maxcount = 0\n",
    "        maxlabel = None\n",
    "        for label in labelcounts:\n",
    "            if labelcounts[label] > maxcount:\n",
    "                maxlabel = label\n",
    "                maxcount = labelcounts[label]\n",
    "        return maxlabel\n",
    "    \n",
    "    def predict(self, X):\n",
    "        \"\"\"\n",
    "        BaggingClassifier prediction for new data points in X\n",
    "        \n",
    "        Args:\n",
    "            X (ndarray): [n_samples x n_features] ndarray of data \n",
    "            \n",
    "        Returns:\n",
    "            yhat (ndarray): [n_samples] ndarray of predicted labels {-1,1}\n",
    "        \"\"\"\n",
    "        yhat = []\n",
    "        \n",
    "        for point in X:\n",
    "            node = self.root            \n",
    "            while node.isLeaf == False:\n",
    "                direction = np.dot(point, node.split_vector)\n",
    "                if direction < 0:\n",
    "                    node = node.left\n",
    "\n",
    "                else:\n",
    "                    node = node.right\n",
    "   \n",
    "            y_pred = node.getLabel()\n",
    "            yhat.append(y_pred)\n",
    "                \n",
    "        return yhat"
   ]
  },
  {
   "cell_type": "markdown",
   "metadata": {},
   "source": [
    "## RandomDecisionTree for Handwritten Digit Recognition\n",
    "\n",
    "After you've successfully completed `RandomDecisionTree`, and train using the default values in the constructor and report accuracy on the test set. Use the data from `ThreesAndEights` class initialized variable `data` "
   ]
  },
  {
   "cell_type": "code",
   "execution_count": 15,
   "metadata": {},
   "outputs": [
    {
     "name": "stdout",
     "output_type": "stream",
     "text": [
      "The accuracy of Random Decision Tree is 89.5 percent.\n"
     ]
    }
   ],
   "source": [
    "random_tree = RandomDecisionTree()\n",
    "\n",
    "random_tree.fit(data.X_train, data.y_train)\n",
    "prediction = random_tree.predict(data.X_valid)\n",
    "actual = data.y_valid\n",
    "\n",
    "total_errors = prediction != actual\n",
    "error = np.sum(total_errors)\n",
    "percent = 100*(1 - error/len(data.y_valid))\n",
    "print(\"The accuracy of Random Decision Tree is %.1f percent.\" %(percent))"
   ]
  },
  {
   "cell_type": "markdown",
   "metadata": {},
   "source": [
    "<center>__Expected accuracy is about 90%__</center>"
   ]
  },
  {
   "cell_type": "markdown",
   "metadata": {},
   "source": [
    "# Random Forest [20 points]\n",
    "Random forests or random decision forests are an ensemble learning method for classification, regression and other tasks, that operate by constructing a multitude of decision trees at training time and outputting the class that is the mode of the classes (classification) or mean prediction (regression) of the individual trees. Random decision forests correct for decision trees' habit of overfitting to their training set.\n",
    "\n",
    "Random forest trains random decision trees on bootstrapped training points. Thus, you can implementation of methods (`bootstrap`, `predict`) from `BaggingClassifier` class directly. Only difference being, you have to use the `RandomDecisionTree` as base which you implemented previously instead of sklearn's implementation of `DecisionTreeClassifier`). Implement the `fit` method in the class below accordingly."
   ]
  },
  {
   "cell_type": "code",
   "execution_count": 21,
   "metadata": {},
   "outputs": [],
   "source": [
    "class RandomForest(BaggingClassifier):\n",
    "    def __init__(self, ratio = 0.20, N = 20, max_depth = 10, candidate_splits = 100):\n",
    "        self.ratio = ratio\n",
    "        self.N = N\n",
    "        self.learners = []\n",
    "        self.candidate_splits = candidate_splits\n",
    "        self.max_depth = max_depth\n",
    "        \n",
    "    def fit(self, X_train, y_train):\n",
    "        \"\"\"\n",
    "        Train Bagging Ensemble Classifier on data\n",
    "        \n",
    "        Args:\n",
    "            X_train (ndarray): [n_samples x n_features] ndarray of training data   \n",
    "            y_train (ndarray): [n_samples] ndarray of data \n",
    "        \"\"\"\n",
    "        for i in range(0,self.N): \n",
    "            random_tree = RandomDecisionTree(candidate_splits = self.candidate_splits, depth = self.max_depth)\n",
    "            boot_X, boot_y = self.boostrap(X_train, y_train)\n",
    "            self.learners.append(random_tree.fit(boot_X, boot_y))\n",
    "\n",
    "        "
   ]
  },
  {
   "cell_type": "markdown",
   "metadata": {},
   "source": [
    "## RandomForest for Handwritten Digit Recognition [10 points]\n",
    "***\n",
    "\n",
    "After you've successfully completed `RandomForest` find the optimal values of `ratio`, `N`, `candidate_splits` and `depth` using k-fold cross validation on. Feel free to use sklearn library to split your training data. Use the data from `ThreesAndEights` class intialized variable `data`. \n",
    "\n",
    "Justify why those values are optimal.\n",
    "\n",
    "Report best accuracy on the testing data using those optimal parameter values."
   ]
  },
  {
   "cell_type": "code",
   "execution_count": 23,
   "metadata": {},
   "outputs": [],
   "source": [
    "N_const = 20\n",
    "ratio_const = .2\n",
    "depth_const = 4\n",
    "candidate_const = 100\n",
    "\n"
   ]
  },
  {
   "cell_type": "code",
   "execution_count": 24,
   "metadata": {},
   "outputs": [
    {
     "name": "stdout",
     "output_type": "stream",
     "text": [
      "N [ 5 10 15 20]\n",
      "ratio 0.2\n",
      "depth 4\n",
      "candidates 100\n"
     ]
    }
   ],
   "source": [
    "# by varying N\n",
    "\n",
    "from sklearn.model_selection import KFold\n",
    "Num_k = 5\n",
    "\n",
    "N_range = np.arange(5, 25, 5)\n",
    "r = ratio_const\n",
    "d = depth_const\n",
    "c = candidate_const\n",
    "print(\"N\", N_range)\n",
    "print(\"ratio\", r)\n",
    "print(\"depth\", d)\n",
    "print(\"candidates\", c)\n",
    "\n",
    "kfold = KFold(Num_k, True, 555)\n",
    "N_stored_forest = []\n",
    "\n",
    "\n",
    "for n in N_range:\n",
    "    error = 0\n",
    "    current_fold_accuracy = []\n",
    "    params = (n,r,d,c)\n",
    "    for train, test in kfold.split(data.X_train):\n",
    "        forest = RandomForest(ratio = r, N = n, max_depth = d, candidate_splits = c )\n",
    "        forest.fit(data.X_train[train], data.y_train[train])\n",
    "\n",
    "        y_pred = np.array(forest.predict(data.X_train[test]))\n",
    "        y_actual = data.y_train[test]     \n",
    "\n",
    "        total_errors = y_pred != y_actual\n",
    "        error = np.sum(total_errors)\n",
    "        percent_accuracy = 1 - error/len(y_actual)\n",
    "        current_fold_accuracy.append(percent_accuracy)\n",
    "\n",
    "\n",
    "    N_average_accuracy_forest = np.average(current_fold_accuracy)\n",
    "    N_stored_forest.append((N_average_accuracy_forest, n))\n"
   ]
  },
  {
   "cell_type": "code",
   "execution_count": 27,
   "metadata": {},
   "outputs": [
    {
     "name": "stdout",
     "output_type": "stream",
     "text": [
      "Accuracy: 0.93\n",
      "N: 15\n",
      "Accuracy: 0.93\n",
      "N: 20\n",
      "Accuracy: 0.92\n",
      "N: 10\n",
      "Accuracy: 0.90\n",
      "N: 5\n"
     ]
    }
   ],
   "source": [
    "sorted_by_error1 = sorted(N_stored_forest, key = lambda tup: tup[0], reverse = True)\n",
    "    \n",
    "for e in sorted_by_error1:\n",
    "    print(\"Accuracy: %.2f\" %e[0])\n",
    "    print(\"N: %i\" %(e[1]))\n",
    "\n"
   ]
  },
  {
   "cell_type": "code",
   "execution_count": 28,
   "metadata": {},
   "outputs": [
    {
     "name": "stdout",
     "output_type": "stream",
     "text": [
      "ratio [0.1 0.5 0.9]\n",
      "N 20\n",
      "depth 4\n",
      "candidates 100\n"
     ]
    }
   ],
   "source": [
    "#Ratio varied\n",
    "\n",
    "from sklearn.model_selection import KFold\n",
    "Num_k = 5\n",
    "\n",
    "\n",
    "ratio_range = np.arange(.1, 1, .4)\n",
    "n = N_const\n",
    "d = depth_const\n",
    "c = candidate_const\n",
    "print(\"ratio\",ratio_range)\n",
    "print(\"N\", n)\n",
    "print(\"depth\", d)\n",
    "print(\"candidates\", c)\n",
    "\n",
    "kfold = KFold(Num_k, True, 555)\n",
    "ratio_stored_forest = []\n",
    "\n",
    "for r in ratio_range:\n",
    "    error = 0\n",
    "    current_fold_accuracy = [] \n",
    "    for train, test in kfold.split(data.X_train):\n",
    "        forest = RandomForest(ratio = r, N = n, max_depth = d, candidate_splits = c )\n",
    "        forest.fit(data.X_train[train], data.y_train[train])\n",
    "\n",
    "        y_pred = np.array(forest.predict(data.X_train[test]))\n",
    "        y_actual = data.y_train[test] \n",
    "        \n",
    "        total_errors = y_pred != y_actual\n",
    "        error = np.sum(total_errors)\n",
    "        percent_accuracy = 1 - error/len(y_actual)\n",
    "        current_fold_accuracy.append(percent_accuracy)\n",
    "\n",
    "\n",
    "    ratio_average_accuracy_forest = np.average(current_fold_accuracy)\n",
    "    ratio_stored_forest.append((ratio_average_accuracy_forest,r))"
   ]
  },
  {
   "cell_type": "code",
   "execution_count": 35,
   "metadata": {},
   "outputs": [
    {
     "name": "stdout",
     "output_type": "stream",
     "text": [
      "Accuracy: 0.93\n",
      "r: 0.9\n",
      "Accuracy: 0.93\n",
      "r: 0.5\n",
      "Accuracy: 0.93\n",
      "r: 0.1\n"
     ]
    }
   ],
   "source": [
    "sorted_by_error2 = sorted(ratio_stored_forest, key = lambda tup: tup[0], reverse = True)\n",
    "    \n",
    "for e in sorted_by_error2:\n",
    "    print(\"Accuracy: %.2f\" %e[0])\n",
    "    print(\"r: %.1f\" %(e[1]))"
   ]
  },
  {
   "cell_type": "code",
   "execution_count": 37,
   "metadata": {},
   "outputs": [
    {
     "name": "stdout",
     "output_type": "stream",
     "text": [
      "depth [ 3 10 17]\n",
      "ratio 0.2\n",
      "N 20\n",
      "candidates 100\n"
     ]
    }
   ],
   "source": [
    "#depth varied\n",
    "\n",
    "from sklearn.model_selection import KFold\n",
    "Num_k = 5\n",
    "\n",
    "depth_range = np.arange(3, 24, 7)\n",
    "n = N_const\n",
    "r = ratio_const\n",
    "c = candidate_const\n",
    "\n",
    "print(\"depth\", depth_range)\n",
    "print(\"ratio\",r)\n",
    "print(\"N\", n)\n",
    "print(\"candidates\", c)\n",
    "\n",
    "\n",
    "kfold = KFold(Num_k, True, 555)\n",
    "depth_stored_forest = []\n",
    "\n",
    "for d in depth_range:\n",
    "    error = 0\n",
    "    current_fold_accuracy = [] \n",
    "    for train, test in kfold.split(data.X_train):\n",
    "        forest = RandomForest(ratio = r, N = n, max_depth = d, candidate_splits = c )\n",
    "        forest.fit(data.X_train[train], data.y_train[train])\n",
    "\n",
    "        y_pred = np.array(forest.predict(data.X_train[test]))\n",
    "        y_actual = data.y_train[test]      \n",
    "\n",
    "        total_errors = y_pred != y_actual\n",
    "        error = np.sum(total_errors)\n",
    "        percent_accuracy = 1 - error/len(y_actual)\n",
    "        current_fold_accuracy.append(percent_accuracy)\n",
    "\n",
    "\n",
    "    depth_average_accuracy_forest = np.average(current_fold_accuracy)\n",
    "    depth_stored_forest.append((depth_average_accuracy_forest, d))"
   ]
  },
  {
   "cell_type": "code",
   "execution_count": 38,
   "metadata": {},
   "outputs": [
    {
     "name": "stdout",
     "output_type": "stream",
     "text": [
      "Accuracy: 0.95\n",
      "d: 17\n",
      "Accuracy: 0.95\n",
      "d: 10\n",
      "Accuracy: 0.92\n",
      "d: 3\n"
     ]
    }
   ],
   "source": [
    "sorted_by_error3 = sorted(depth_stored_forest, key = lambda tup: tup[0], reverse = True)\n",
    "    \n",
    "for e in sorted_by_error3:\n",
    "    print(\"Accuracy: %.2f\" %e[0])\n",
    "    print(\"d: %i\" %(e[1]))"
   ]
  },
  {
   "cell_type": "code",
   "execution_count": 39,
   "metadata": {},
   "outputs": [
    {
     "name": "stdout",
     "output_type": "stream",
     "text": [
      "candidates [10 20 30 40 50 60 70 80 90]\n",
      "depth 4\n",
      "ratio 0.2\n",
      "N 20\n"
     ]
    }
   ],
   "source": [
    "#number of candidates varied\n",
    "\n",
    "from sklearn.model_selection import KFold\n",
    "Num_k = 5\n",
    "\n",
    "candidate_range = np.arange(10, 100, 10)\n",
    "n = N_const\n",
    "r = ratio_const\n",
    "d = depth_const\n",
    "print(\"candidates\", candidate_range)\n",
    "print(\"depth\", d)\n",
    "print(\"ratio\", r)\n",
    "print(\"N\", n)\n",
    "\n",
    "\n",
    "kfold = KFold(Num_k, True, 555)\n",
    "candidates_stored_forest = []\n",
    "\n",
    "for c in candidate_range:\n",
    "    error = 0\n",
    "    current_fold_accuracy = [] \n",
    "    for train, test in kfold.split(data.X_train):\n",
    "        forest = RandomForest(ratio = r, N = n, max_depth = d, candidate_splits = c )\n",
    "        forest.fit(data.X_train[train], data.y_train[train])\n",
    "\n",
    "        y_pred = np.array(forest.predict(data.X_train[test]))\n",
    "        y_actual = data.y_train[test]      \n",
    "\n",
    "        total_errors = y_pred != y_actual\n",
    "        error = np.sum(total_errors)\n",
    "        percent_accuracy = 1 - error/len(y_actual)\n",
    "        current_fold_accuracy.append(percent_accuracy)\n",
    "\n",
    "\n",
    "    candidates_average_accuracy_forest = np.average(current_fold_accuracy)\n",
    "    candidates_stored_forest.append((candidates_average_accuracy_forest, c))"
   ]
  },
  {
   "cell_type": "code",
   "execution_count": 40,
   "metadata": {},
   "outputs": [
    {
     "name": "stdout",
     "output_type": "stream",
     "text": [
      "Accuracy: 0.93\n",
      "c: 80\n",
      "Accuracy: 0.93\n",
      "c: 90\n",
      "Accuracy: 0.93\n",
      "c: 60\n",
      "Accuracy: 0.93\n",
      "c: 70\n",
      "Accuracy: 0.92\n",
      "c: 50\n",
      "Accuracy: 0.92\n",
      "c: 40\n",
      "Accuracy: 0.92\n",
      "c: 20\n",
      "Accuracy: 0.92\n",
      "c: 30\n",
      "Accuracy: 0.90\n",
      "c: 10\n"
     ]
    }
   ],
   "source": [
    "sorted_by_error4 = sorted(candidates_stored_forest, key = lambda tup: tup[0], reverse = True)\n",
    "    \n",
    "for e in sorted_by_error4:\n",
    "    print(\"Accuracy: %.2f\" %e[0])\n",
    "    print(\"c: %i\" %(e[1]))"
   ]
  },
  {
   "cell_type": "code",
   "execution_count": 41,
   "metadata": {},
   "outputs": [
    {
     "name": "stdout",
     "output_type": "stream",
     "text": [
      " 15 trees, ratio of 0.9, depth of 17, number of candidates 80, accuracy of 96.9 on test set.\n"
     ]
    }
   ],
   "source": [
    "#using optimal parameters\n",
    "final_N_forest = 15\n",
    "final_ratio_forest = 0.9\n",
    "final_depth_forest = 17\n",
    "final_candidates_forest = 80\n",
    "\n",
    "\n",
    "FinalForest = RandomForest(ratio = final_ratio_forest, N = final_N_forest, max_depth = final_depth_forest, candidate_splits = final_candidates_forest )\n",
    "\n",
    "\n",
    "FinalForest.fit(data.X_train, data.y_train)\n",
    "Forestprediction = FinalForest.predict(data.X_valid)\n",
    "actual = data.y_valid\n",
    "\n",
    "Foresttotalerrors = Forestprediction != actual\n",
    "Foresterror = np.sum(Foresttotalerrors)\n",
    "Forestpercent = 100*(1 - Foresterror/len(actual))\n",
    "print(\" %i trees, ratio of %.1f, depth of %i, number of candidates %i, accuracy of %.1f on test set.\" %(final_N_forest, final_ratio_forest, final_depth_forest,final_candidates_forest, Forestpercent))"
   ]
  },
  {
   "cell_type": "code",
   "execution_count": 43,
   "metadata": {},
   "outputs": [
    {
     "name": "stdout",
     "output_type": "stream",
     "text": [
      " 15 trees, ratio of 0.9, depth of 17, number of candidates 60, accuracy of 97.0 on test set.\n"
     ]
    }
   ],
   "source": [
    "final_N_forest = 15\n",
    "final_ratio_forest = 0.9\n",
    "final_depth_forest = 17\n",
    "final_candidates_forest = 60\n",
    "\n",
    "\n",
    "FinalForest = RandomForest(ratio = final_ratio_forest, N = final_N_forest, max_depth = final_depth_forest, candidate_splits = final_candidates_forest )\n",
    "\n",
    "\n",
    "FinalForest.fit(data.X_train, data.y_train)\n",
    "Forestprediction = FinalForest.predict(data.X_valid)\n",
    "actual = data.y_valid\n",
    "\n",
    "Foresttotalerrors = Forestprediction != actual\n",
    "Foresterror = np.sum(Foresttotalerrors)\n",
    "Forestpercent = 100*(1 - Foresterror/len(actual))\n",
    "print(\" %i trees, ratio of %.1f, depth of %i, number of candidates %i, accuracy of %.1f on test set.\" %(final_N_forest, final_ratio_forest, final_depth_forest,final_candidates_forest, Forestpercent))"
   ]
  },
  {
   "cell_type": "markdown",
   "metadata": {},
   "source": [
    ">**JUSTIFICATION**\n",
    ">\n",
    "> 1)The random forest classifier - $97$% performs much better than the random Decision Tree classifier - $89.5$% and its performance is minutely behind bagging - $97.6$%. <br/>\n",
    ">2) For this exercise, I kept 3 parameters constant while varying 1 parameter in each case.<br/>\n",
    "> 3) Based on my results, both N= $15$ and $20$ trees got me the same accuracy. So adding more number of trees would marginally increase accuracy.<br/>\n",
    ">4) In terms of ratio, I got the same accuracy for all three values and I chose the maximum value of R = $0.9$. <br/>\n",
    ">5) Depth seems to always have an effect and the highest depth got me the highest accuracy.<br/>\n",
    ">6) In terms of number of candidates, I performed analysis using two values $80$ & $60$ and I got accuracies such as $96.9$% and $97$% which don't differ much. So increasing number of candidates would also have marginal effect on accuracy.<br/>\n",
    ">7) With due respect to the above points my optimal parameters are<br/><br/>\n",
    ">>Number of trees = $15$<br/>\n",
    ">>Ratio = $0.9$<br/>\n",
    ">>Depth = $17$<br/>\n",
    ">>Number of candidates = $60$<br/>\n",
    ">>Accuracy = $97$ %<br/>"
   ]
  },
  {
   "cell_type": "markdown",
   "metadata": {},
   "source": [
    "<center>__Expected accuracy is about 97%__</center>"
   ]
  }
 ],
 "metadata": {
  "kernelspec": {
   "display_name": "Python 3",
   "language": "python",
   "name": "python3"
  },
  "language_info": {
   "codemirror_mode": {
    "name": "ipython",
    "version": 3
   },
   "file_extension": ".py",
   "mimetype": "text/x-python",
   "name": "python",
   "nbconvert_exporter": "python",
   "pygments_lexer": "ipython3",
   "version": "3.6.8"
  },
  "varInspector": {
   "cols": {
    "lenName": 16,
    "lenType": 16,
    "lenVar": 40
   },
   "kernels_config": {
    "python": {
     "delete_cmd_postfix": "",
     "delete_cmd_prefix": "del ",
     "library": "var_list.py",
     "varRefreshCmd": "print(var_dic_list())"
    },
    "r": {
     "delete_cmd_postfix": ") ",
     "delete_cmd_prefix": "rm(",
     "library": "var_list.r",
     "varRefreshCmd": "cat(var_dic_list()) "
    }
   },
   "types_to_exclude": [
    "module",
    "function",
    "builtin_function_or_method",
    "instance",
    "_Feature"
   ],
   "window_display": false
  }
 },
 "nbformat": 4,
 "nbformat_minor": 2
}
