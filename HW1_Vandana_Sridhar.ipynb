{
 "cells": [
  {
   "cell_type": "markdown",
   "metadata": {},
   "source": [
    "# Homework 1 - KNN\n",
    "## CSCI 5622 - Spring 2019\n",
    "\n",
    "For today's assignment, we will be implementing our own K-Nearest Neighbors (KNN) algorithm.\n",
    "\n",
    "*But Professor Quigley, hasn't someone else already written KNN before?*\n",
    "\n",
    "Yes, you are not the first to implement KNN, or basically any algorithm we'll work with in this class. But 1) I'll know that you know what's really going on, and 2) you'll know you can do it, because 2a) someday you might have to implement some machine learning algorithm from scratch - maybe for a new platform (do you need to run python on your SmartToaster just to get it to learn how users like their toast?), maybe because you want to tweak the algorithm (there's always a better approach...), or maybe because you're working on something important and you need to control exactly what's on there (should you really be running anaconda on your secret spy plane?).\n",
    "\n",
    "That said - we're not going to implement *everything*. We'll start by importing a few helper functions"
   ]
  },
  {
   "cell_type": "code",
   "execution_count": 89,
   "metadata": {},
   "outputs": [],
   "source": [
    "import numpy as np\n",
    "import matplotlib.pyplot as plt\n",
    "import sklearn\n",
    "import sklearn.datasets"
   ]
  },
  {
   "cell_type": "markdown",
   "metadata": {},
   "source": [
    "*Wait a minute - didn't we just import Scikit-learn (sklearn)? The package with baked-in machine learning tools?*\n",
    "\n",
    "Yes - but it also has a ton of helper functions, including a dataset we'll be using later. But, for now, let's set up a KNNClassifier class."
   ]
  },
  {
   "cell_type": "code",
   "execution_count": 90,
   "metadata": {},
   "outputs": [],
   "source": [
    "import sklearn.neighbors\n",
    "\n",
    "class KNNClassifier:\n",
    "    \n",
    "    def __init__(self, X, y, k = 5):\n",
    "        \"\"\"\n",
    "        Initialize our custom KNN classifier\n",
    "        PARAMETERS\n",
    "        X - our training data features\n",
    "        y - our training data answers\n",
    "        k - the number of nearest neighbors to consider for classification\n",
    "        \"\"\"\n",
    "        self._model = sklearn.neighbors.BallTree(X)\n",
    "        self._y = y\n",
    "        self._k = k\n",
    "        self._counts = self.getCounts()\n",
    "        \n",
    "    def getCounts(self):\n",
    "        \"\"\"\n",
    "        Creates a dictionary storing the counts of each answer class found in y\n",
    "        RETURNS\n",
    "        counts - a dictionary of counts of answer classes\n",
    "        \"\"\"\n",
    "        counts = dict({1:0,-1:0})\n",
    "        from itertools import groupby\n",
    "        q=np.array(self._y)\n",
    "        q.sort()\n",
    "        for key,group in groupby(q):\n",
    "            counts[key]=len(list(group))\n",
    "            \n",
    "        #print(counts)\n",
    "        #BEGIN Workspace 1.1\n",
    "        #TODO: Modify and/or add to counts so that it returns a count of each answer class found in y\n",
    "        #END Workspace 1.1\n",
    "        return(counts)\n",
    "    \n",
    "    def majority(self, indices):\n",
    "        \"\"\"\n",
    "        Given indices, report the majority label of those points.\n",
    "        For a tie, report the most common label in the data set.\n",
    "        PARAMETERS\n",
    "        indices - an np.array, where each element is an index of a neighbor\n",
    "        RETURNS\n",
    "        label - the majority label of our neighbors\n",
    "        \"\"\"\n",
    "        label = 0\n",
    "        assert len(indices)== self._k\n",
    "        labellist={}\n",
    "        for index in indices:\n",
    "            index=self._y[index]\n",
    "            if index in labellist.keys():\n",
    "                labellist[index]=labellist[index]+1\n",
    "            else:\n",
    "                labellist[index]=1\n",
    "                \n",
    "        max=0;\n",
    "        \n",
    "        for key in labellist.keys():\n",
    "            if labellist[key]>max:\n",
    "                max=labellist[key]\n",
    "                \n",
    "        labelCount=[]\n",
    "        \n",
    "        for key in labellist.keys():\n",
    "            if labellist[key]==max:\n",
    "                labelCount.append(key)\n",
    "        label=labelCount[0]\n",
    "\n",
    "        if len(labelCount)>1:\n",
    "            for i in labelCount:\n",
    "                if self._counts[label]<self._counts[i]:\n",
    "                    label=i\n",
    "                    \n",
    "        #print(label)\n",
    "            #BEGIN Workspace 1.2\n",
    "        #TODO: Determine majority, assign it to label\n",
    "        #END Workspace 1.2\n",
    "        return(label)\n",
    "    \n",
    "    def classify(self, point):\n",
    "        \"\"\"\n",
    "        Given a new data point, classify it according to the training data X and our number of neighbors k into the appropriate class in our training answers y\n",
    "        PARAMETERS\n",
    "        point - a feature vector of our test point\n",
    "        RETURNS\n",
    "        ans - our predicted classification\n",
    "        \"\"\"\n",
    "        \n",
    "        #BEGIN Workspace 1.3\n",
    "        #TODO: perform classification of point here\n",
    "        #HINT: use the majority function created above\n",
    "        #HINT: use the euclidian distance discussed in lecture to find nearest neighbors\n",
    "        #END Workspace 1.3\n",
    "        ans = 0\n",
    "        ans=self._model.query(point.reshape(1,-1),self._k,return_distance=False)\n",
    "        ans=ans.flatten()\n",
    "        return self.majority(ans)\n",
    "        \n",
    "    \n",
    "    def confusionMatrix(self, testX, testY):\n",
    "        \"\"\"\n",
    "        Generate a confusion matrix for the given test set\n",
    "        PARAMETERS\n",
    "        testX - an np.array of feature vectors of test points\n",
    "        testY - the corresponding correct classifications of our test set\n",
    "        RETURN\n",
    "        C - an N*N np.array of counts, where N is the number of classes in our classifier\n",
    "        \"\"\"\n",
    "        C = np.zeros((10,10),dtype=int)\n",
    "        for xx,yy in zip(testX,testY):\n",
    "            column=self.classify(xx)\n",
    "            C[yy][column]+=1\n",
    "            \n",
    "        #print(C)\n",
    "        return(C)\n",
    "        \n",
    "        #BEGIN Workspace 1.4\n",
    "        #TODO: Run classification for the test set, compare to test answers, and add counts to matrix\n",
    "        #END Workspace 1.4\n",
    "        \n",
    "    \n",
    "    def accuracy(self, C):\n",
    "        \"\"\"\n",
    "        Generate an accuracy score for the classifier based on the confusion matrix\n",
    "        PARAMETERS\n",
    "        C - an np.array of counts\n",
    "        RETURN\n",
    "        score - an accuracy score\n",
    "        \"\"\"\n",
    "        score = np.sum(C.diagonal()) / C.sum()\n",
    "        #print(score)\n",
    "        return(score)"
   ]
  },
  {
   "cell_type": "markdown",
   "metadata": {},
   "source": [
    "*But professor, this code isn't complete!*\n",
    "\n",
    "### Problem 1: Complete our KNN Classifier - 40 Points (10 each)\n",
    "\n",
    "1.1 - Complete the getCounts function to return the count of each class found in the training set\n",
    "\n",
    "1.2 - Complete the majority function to determine the majority class of a series of neighbors\n",
    "\n",
    "1.3 - Complete the classify function to capture the predicted class of a new datapoint\n",
    "\n",
    " - HINT: Use the BallTree documentation to determine how to retrieve neighbors from the model (https://scikit-learn.org/stable/modules/generated/sklearn.neighbors.BallTree.html#sklearn.neighbors.BallTree)\n",
    "\n",
    "1.4 - Complete the confusionMatrix function to reveal the results of classification\n",
    "\n",
    "You can take a look at the unit tests below to see how we create data to input into our classifier, what kinds of things we expect as output, etc. You should also consider expanding the test cases to make sure your classifier is working correctly.\n"
   ]
  },
  {
   "cell_type": "code",
   "execution_count": 91,
   "metadata": {},
   "outputs": [
    {
     "name": "stderr",
     "output_type": "stream",
     "text": [
      "...."
     ]
    },
    {
     "name": "stdout",
     "output_type": "stream",
     "text": [
      "{1: 3, -1: 4}\n",
      "{1: 3, -1: 4}\n",
      "{1: 3, -1: 4}\n",
      "{1: 3, -1: 4}\n"
     ]
    },
    {
     "name": "stderr",
     "output_type": "stream",
     "text": [
      "\n",
      "----------------------------------------------------------------------\n",
      "Ran 4 tests in 0.020s\n",
      "\n",
      "OK\n"
     ]
    },
    {
     "data": {
      "text/plain": [
       "<unittest.runner.TextTestResult run=4 errors=0 failures=0>"
      ]
     },
     "execution_count": 91,
     "metadata": {},
     "output_type": "execute_result"
    }
   ],
   "source": [
    "import unittest\n",
    "\n",
    "class KNNTester(unittest.TestCase):\n",
    "    def setUp(self):\n",
    "        self.x = np.array([[3,1],[2,8], [2,7], [5,2],[3,2],[8,2],[2,4]])\n",
    "        self.y = np.array([1, -1, -1, 1, -1, 1, -1])\n",
    "        self.knnfive = KNNClassifier(self.x, self.y)\n",
    "        self.knnthree = KNNClassifier(self.x, self.y, 3)\n",
    "        self.knnone = KNNClassifier(self.x, self.y, 1)\n",
    "        \n",
    "        self.testPoints = np.array([[2,1], [2,6], [4, 4]])\n",
    "        testcase=self.knnfive.confusionMatrix(self.x, self.y)\n",
    "        self.knnthree.confusionMatrix(self.x, self.y)\n",
    "        self.testcase2=self.knnone.confusionMatrix(self.x,self.y)\n",
    "        self.knnone.accuracy(self.testcase2)\n",
    "        self.testcase3=self.knnone.getCounts()\n",
    "        print(self.testcase3)\n",
    "        \n",
    "        \n",
    "    def testCounter(self):\n",
    "        \"\"\"\n",
    "        Test getCounts function from knnclassifier\n",
    "        \"\"\"\n",
    "        self.assertEqual(self.knnfive._counts[1], 3)\n",
    "        self.assertEqual(self.knnfive._counts[-1], 4)\n",
    "        \n",
    "    def testKNNOne(self):\n",
    "        \"\"\"\n",
    "        Test if the classifier returns \"correct\" (expected) classifications for k = 1\n",
    "        \"\"\"\n",
    "        self.assertEqual(self.knnone.classify(self.testPoints[0]), 1)\n",
    "        #BEGIN Workspace\n",
    "        #Add more tests as needed\n",
    "        #END Workspace\n",
    "        \n",
    "    def testKNNThree(self):\n",
    "        self.assertEqual(self.knnthree.classify(self.testPoints[0]), -1)\n",
    "        \n",
    "    def testKNNFive(self):\n",
    "        \n",
    "        self.assertEqual(self.knnfive.classify(self.testPoints[0]), -1)\n",
    "    \n",
    "    #BEGIN Workspace\n",
    "    #Add more test functions as requested\n",
    "    #HINT - You'll want to make sure your\n",
    "    #END Workspace\n",
    "    \n",
    "tests = KNNTester()\n",
    "myTests = unittest.TestLoader().loadTestsFromModule(tests)\n",
    "unittest.TextTestRunner().run(myTests)"
   ]
  },
  {
   "cell_type": "markdown",
   "metadata": {},
   "source": [
    "OK - now we've demonstrated that our KNN classifier works, let's think about our problem space! \n",
    "\n",
    "## Our Dataset - Identifying Digits from Images\n",
    "\n",
    "It's a pretty common problem - just imagine working at the post office, or at a bank, and you're handed a hand-written envelope, or check, or other piece of information and you have to identify exactly what it says. Did they pay 500 or 600 dollars? Is the letter going to 80309 (campus) or 30309 (Atlanta)?\n",
    "\n",
    "Let's be a little smart about this - let's up some classes and helper functions to help us out.\n",
    "\n",
    "### Problem 2: Implement KNN on Digits dataset - 30 Points\n",
    "\n",
    "2.1 Randomly divide our Digits dataset into training and testing sets (15 Points)\n",
    "\n",
    "2.2 Report the number of examples in training and testing, as well as measuring then number of pixels in each image (5 points)\n",
    "\n",
    "2.3 Create a confusion matrix of our classifier for K = 5 (10 points) *HINT: Doing this may cause you to catch mistakes in your classifier. Go fix those!*"
   ]
  },
  {
   "cell_type": "code",
   "execution_count": 92,
   "metadata": {},
   "outputs": [],
   "source": [
    "from sklearn.model_selection import train_test_split\n",
    "class Numbers:\n",
    "    def __init__(self):\n",
    "        #load data from sklearn\n",
    "        digits = sklearn.datasets.load_digits()\n",
    "        \n",
    "        #BEGIN Workspace 2.1\n",
    "        self.train_x = np.array(digits.data) # A 2D np.array of training examples, REPLACE\n",
    "        self.train_y = np.array(digits.target) # A 1D np.array of training answers, REPLACE\n",
    "        self.test_x = np.array(digits.data) # A 2D np.array of testing examples, REPLACE\n",
    "        self.test_y = np.array(digits.target) # A 1D np.array of testing answers, REPLACE\n",
    "        #TODO: Divide our dataset into Train and Test datasets (80/20 split), replacing the variables above\n",
    "        #END Workspace 2.1\n",
    "        self.train_x,self.test_x,self.train_y,self.test_y=train_test_split(np.array(digits.data),np.array(digits.target),random_state=42,train_size=0.8)\n",
    "        \n",
    "    def report(self):\n",
    "        \"\"\"\n",
    "        Report information about the dataset using the print() function\n",
    "        \"\"\"\n",
    "        #BEGIN Workspace 2.2\n",
    "        #TODO: Create printouts for reporting the size of each set and the size of each datapoint\n",
    "        #END Workspace 2.2\n",
    "        print(\"\\nsize of training set data:\",self.train_x.size)\n",
    "        print(\"\\nsize of training set labels:\",self.train_y.size)\n",
    "        print(\"\\nsize of testing set data:\",self.test_x.size)\n",
    "        print(\"\\nsize of testing set labels:\",self.test_y.size)\n",
    "        print(\"\\nno of pixels/size of data points:\",len(np.array(self.train_x[0])))\n",
    "        print(\"\\nshape of training data:\",self.train_x.shape)\n",
    "        print(\"\\nshape of training labels:\",self.train_y.shape)\n",
    "        print(\"\\nshape of testing data:\",self.test_x.shape)\n",
    "        print(\"\\nshape of testing labels:\",self.test_y.shape)\n",
    "        \n",
    "        \n",
    "\n",
    "    def classify(self):\n",
    "        \"\"\"\n",
    "        Create a classifier using the training data and generate a confusion matrix for the test data\n",
    "        \"\"\"\n",
    "        #BEGIN Workspace 2.3\n",
    "        #TODO: Create classifier from training data, generate confusion matrix for test data\n",
    "        #END Workspace 2.3\n",
    "        self.classifier1=KNNClassifier(self.train_x,self.train_y)\n",
    "        self.classifier6=self.classifier1.getCounts()\n",
    "        print(\"\\nCounts of each class\\n\",self.classifier6)\n",
    "        self.classifier2=self.classifier1.confusionMatrix(self.test_x,self.test_y)\n",
    "        \n",
    "        print(\"\\n Accuracy is\",self.classifier1.accuracy(self.classifier2))\n",
    "        print(\"\\nThe confusion matrix for the classification is \",self.classifier2)\n",
    "        \n",
    "    def viewDigit(self, digitImage, label):\n",
    "        \"\"\"\n",
    "        Display an image of a digit\n",
    "        PARAMETERS\n",
    "        digitImage - a data object from the dataset\n",
    "        \"\"\"\n",
    "        plt.gray()\n",
    "        if label is not None: \n",
    "            print('\\ntrue label: {:d}'.format(label))\n",
    "            plt.imshow(digitImage.reshape(8, 8), cmap='gray')\n",
    "#         plt.show()\n",
    "        \n",
    "        "
   ]
  },
  {
   "cell_type": "code",
   "execution_count": 93,
   "metadata": {},
   "outputs": [
    {
     "name": "stdout",
     "output_type": "stream",
     "text": [
      "\n",
      "size of training set data: 91968\n",
      "\n",
      "size of training set labels: 1437\n",
      "\n",
      "size of testing set data: 23040\n",
      "\n",
      "size of testing set labels: 360\n",
      "\n",
      "no of pixels/size of data points: 64\n",
      "\n",
      "shape of training data: (1437, 64)\n",
      "\n",
      "shape of training labels: (1437,)\n",
      "\n",
      "shape of testing data: (360, 64)\n",
      "\n",
      "shape of testing labels: (360,)\n",
      "\n",
      "Counts of each class\n",
      " {1: 154, -1: 0, 0: 145, 2: 144, 3: 149, 4: 135, 5: 135, 6: 146, 7: 145, 8: 144, 9: 140}\n",
      "\n",
      " Accuracy is 0.9861111111111112\n",
      "\n",
      "The confusion matrix for the classification is  [[33  0  0  0  0  0  0  0  0  0]\n",
      " [ 0 28  0  0  0  0  0  0  0  0]\n",
      " [ 0  0 33  0  0  0  0  0  0  0]\n",
      " [ 0  0  0 34  0  0  0  0  0  0]\n",
      " [ 0  0  0  0 46  0  0  0  0  0]\n",
      " [ 0  0  0  0  0 45  1  0  0  1]\n",
      " [ 0  0  0  0  0  0 35  0  0  0]\n",
      " [ 0  0  0  0  0  0  0 33  0  1]\n",
      " [ 0  0  0  0  0  0  0  0 30  0]\n",
      " [ 0  0  0  0  1  1  0  0  0 38]]\n",
      "\n",
      "true label: 6\n"
     ]
    },
    {
     "name": "stderr",
     "output_type": "stream",
     "text": [
      "/Users/vandanasridhar/Documents/anaconda3/lib/python3.6/site-packages/sklearn/model_selection/_split.py:2179: FutureWarning: From version 0.21, test_size will always complement train_size unless both are specified.\n",
      "  FutureWarning)\n"
     ]
    },
    {
     "data": {
      "image/png": "[encoded data removed]",
      "text/plain": [
       "<Figure size 432x288 with 1 Axes>"
      ]
     },
     "metadata": {
      "needs_background": "light"
     },
     "output_type": "display_data"
    }
   ],
   "source": [
    "testobj=Numbers()\n",
    "testobj.report()\n",
    "testobj.classify()\n",
    "testobj.viewDigit(testobj.train_x[0], testobj.train_y[0])"
   ]
  },
  {
   "cell_type": "markdown",
   "metadata": {},
   "source": [
    "*Wow, I can't believe we just created a KNN Classifier - but can't we make it better?*\n",
    "\n",
    "Yes, we saw above that our classifier didn't work perfectly. Let's explore that issue a little further\n",
    "\n",
    "### Problem 3: Improving KNN on Digits - 30 Points\n",
    "\n",
    "3.1 Determine which classes are most often confused (from our confusion matrix above), inspect some examples of these digits (using the viewDigit function in our Numbers class), and write a brief (4 - 5 sentences) description of why you think these particular numbers may be misclassified.\n",
    "\n",
    "3.2 Explore the influence of the number of nearest neighbors (i.e. try changing our K). Plot the relationship between K and accuracy, and write a brief (4 - 5 sentences) description of how this factor impacts our accuracy.\n",
    "\n",
    "3.3 (Bonus) Explore the influence of the train / test split of our data (i.e. copy our Numbers class into Numbers2 below and try changing the split for our dataset). Plot the relationship between the split % and accuracy, and write a brief (4 - 5 sentences) description of its impact."
   ]
  },
  {
   "cell_type": "code",
   "execution_count": 94,
   "metadata": {},
   "outputs": [
    {
     "name": "stdout",
     "output_type": "stream",
     "text": [
      "\n",
      " problem class image\n",
      "\n",
      "true label: 5\n",
      "\n",
      "true label: 7\n",
      "\n",
      "true label: 9\n",
      "\n",
      "true label: 9\n",
      "\n",
      "true label: 5\n",
      "\n",
      "misclassified labels for the above true label respectively:\n",
      "\n",
      "\t 9\n",
      "\n",
      "\t 9\n",
      "\n",
      "\t 4\n",
      "\n",
      "\t 5\n",
      "\n",
      "\t 6\n"
     ]
    },
    {
     "data": {
      "image/png": "[encoded data removed]",
      "text/plain": [
       "<Figure size 432x288 with 1 Axes>"
      ]
     },
     "metadata": {
      "needs_background": "light"
     },
     "output_type": "display_data"
    }
   ],
   "source": [
    "#BEGIN 3.1a\n",
    "#TODO: Print out problem class images\n",
    "print(\"\\n problem class image\")\n",
    "classifier3 = KNNClassifier(testobj.train_x,testobj.train_y)\n",
    "misclassified_images = []\n",
    "def printimages(testX, testY):\n",
    "    for xx,yy in zip(testX,testY):\n",
    "            column=classifier3.classify(xx)\n",
    "            if yy != column:\n",
    "                testobj.viewDigit(xx,yy)\n",
    "                misclassified_images.append((xx,yy,column))\n",
    "               \n",
    "                \n",
    "\n",
    "                \n",
    "\n",
    "printimages(testobj.test_x, testobj.test_y)\n",
    "print(\"\\nmisclassified labels for the above true label respectively:\")\n",
    "print(\"\\n\\t\",misclassified_images[0][2])\n",
    "print(\"\\n\\t\",misclassified_images[1][2])\n",
    "print(\"\\n\\t\",misclassified_images[2][2])\n",
    "print(\"\\n\\t\",misclassified_images[3][2])\n",
    "print(\"\\n\\t\",misclassified_images[4][2])\n",
    "\n",
    "\n",
    "#END 3.1a"
   ]
  },
  {
   "cell_type": "markdown",
   "metadata": {},
   "source": [
    "#### 3.1b\n",
    "TODO: Write description of misclassification\n",
    "> Some classes that misclassified are 5,7 and 9.<br/>\n",
    ">5 is misclassified as 9 & 6. <br/>\n",
    ">7 is misclassified as 9. <br/>\n",
    ">9 is misclassified as 4 & 5.<br/>\n",
    ">In one instance, the class 9 is misclassified as 4 since they look similar while writing and many people write 9 without extending it's bottom tip. Hence the algorithm finds it difficult to detect 9 without the extended tip and classifies it as 4 instead. </br>\n",
    "\n",
    ">Another example of misclassification is of class 5 where it is wrongly detected as 6. Owing to human error, 5's rounded tip is extended, as a result of which it looks like 6.\n"
   ]
  },
  {
   "cell_type": "code",
   "execution_count": 95,
   "metadata": {},
   "outputs": [],
   "source": [
    "import matplotlib\n",
    "import numpy as np\n",
    "import matplotlib.pyplot as plt\n",
    "%matplotlib inline\n",
    "from sklearn.model_selection import train_test_split\n",
    "\n",
    "class Numbers2:\n",
    "    def __init__(self, trainPercentage):\n",
    "        #load data from sklearn\n",
    "        digits = sklearn.datasets.load_digits()\n",
    "        \n",
    "        #BEGIN Workspace 3.3a\n",
    "        \n",
    "        self.train_x = np.array(digits.data) # A 2D np.array of training examples, REPLACE\n",
    "        self.train_y = np.array(digits.target) # A 1D np.array of training answers, REPLACE\n",
    "        self.test_x = np.array(digits.data) # A 2D np.array of testing examples, REPLACE\n",
    "        self.test_y = np.array(digits.target) # A 1D np.array of testing answers, REPLACE\n",
    "        #TODO: Divide our dataset into Train and Test datasets (using trainPercentage), replacing the variables above\n",
    "        #HINT: You should be able to mostly copy your own work from the original Numbers class\n",
    "        #END Workspace 3.3a\n",
    "        \n",
    "        self.train_x,self.test_x,self.train_y,self.test_y=train_test_split(np.array(digits.data),np.array(digits.target),random_state=42,test_size=trainPercentage*0.2)\n",
    "\n",
    "\n",
    "        \n",
    "\n",
    "    def classify(self, k):\n",
    "        \"\"\"\n",
    "        Create a classifier using the training data and generate a confusion matrix for the test data\n",
    "        \"\"\"\n",
    "        #BEGIN Workspace 3.2a\n",
    "        #TODO: Create classifier from training data (using k nearest neighbors), generate confusion matrix for test data\n",
    "        #HINT: You can copy your own work from the original Numbers class\n",
    "        #END Workspace 3.2a\n",
    "        \n",
    "        self.classifier1=KNNClassifier(self.train_x,self.train_y)\n",
    "        self.classifier2=self.classifier1.confusionMatrix(self.test_x,self.test_y)\n",
    "        self.accuracylist=self.classifier1.accuracy(self.classifier2)\n",
    "          \n",
    "        def viewDigit(digitImage):\n",
    "            \"\"\"\n",
    "            Display an image of a digit\n",
    "            PARAMETERS\n",
    "            digitImage - a data object from the dataset\n",
    "            \"\"\"\n",
    "            plt.gray()\n",
    "            plt.matshow(digitImage)\n",
    "            plt.show()"
   ]
  },
  {
   "cell_type": "code",
   "execution_count": 96,
   "metadata": {},
   "outputs": [],
   "source": [
    "'''plotting function'''\n",
    "def plot(dict,Xlabel,Ylabel):\n",
    "    lists=sorted(dict.items())\n",
    "    x,y=zip(*lists)\n",
    "    plt.xlabel(Xlabel)\n",
    "    plt.ylabel(Ylabel)\n",
    "    plt.plot(x,y)\n",
    "    plt.show()\n",
    "    print(dict)\n",
    "    "
   ]
  },
  {
   "cell_type": "code",
   "execution_count": 97,
   "metadata": {},
   "outputs": [
    {
     "name": "stdout",
     "output_type": "stream",
     "text": [
      "Function for comparing several train/test splits and their corresponding accuracies\n",
      "\n"
     ]
    },
    {
     "data": {
      "image/png": "[encoded data removed]",
      "text/plain": [
       "<Figure size 432x288 with 1 Axes>"
      ]
     },
     "metadata": {
      "needs_background": "light"
     },
     "output_type": "display_data"
    },
    {
     "name": "stdout",
     "output_type": "stream",
     "text": [
      "{80: 0.9805555555555555, 60: 0.9833333333333333, 40: 0.9722222222222222, 20: 0.9444444444444444}\n"
     ]
    }
   ],
   "source": [
    "'''function for comparing several train/test splits and their corresponding accuracies '''\n",
    "\n",
    "def accuracy_split(X,y):\n",
    "    dict={}\n",
    "    for increment in range(1,5):\n",
    "        X_train,X_test,y_train,y_test=train_test_split(X,y,test_size=increment*0.2)\n",
    "        classifier4=KNNClassifier(X_train,y_train)\n",
    "        #print(\"classification\\t\"+str(increment))\n",
    "        confmatrix=classifier4.confusionMatrix(testobj.test_x,testobj.test_y)\n",
    "        dict[100- increment * 20]=classifier4.accuracy(np.asarray(confmatrix))\n",
    "    Xlabel=\"train/Test split\"\n",
    "    Ylabel=\"Accuracy\"\n",
    "    plot(dict,Xlabel,Ylabel)\n",
    "    \n",
    "print(\"Function for comparing several train/test splits and their corresponding accuracies\\n\")    \n",
    "accuracy_split(testobj.train_x,testobj.train_y)\n",
    "        \n",
    "        \n",
    "        \n",
    "        \n",
    "        \n",
    "        \n",
    "\n"
   ]
  },
  {
   "cell_type": "code",
   "execution_count": 98,
   "metadata": {},
   "outputs": [
    {
     "name": "stdout",
     "output_type": "stream",
     "text": [
      "Function for comparing several values of neighbors i.e K and their corresponding accuracies\n",
      "\n"
     ]
    },
    {
     "data": {
      "image/png": "[encoded data removed]",
      "text/plain": [
       "<Figure size 432x288 with 1 Axes>"
      ]
     },
     "metadata": {
      "needs_background": "light"
     },
     "output_type": "display_data"
    },
    {
     "name": "stdout",
     "output_type": "stream",
     "text": [
      "{1: 0.9777777777777777, 2: 0.9805555555555555, 3: 0.9833333333333333, 4: 0.975, 5: 0.9861111111111112, 6: 0.9861111111111112, 7: 0.9888888888888889, 8: 0.9833333333333333, 9: 0.9805555555555555, 10: 0.9833333333333333, 11: 0.9833333333333333, 12: 0.9777777777777777, 13: 0.9777777777777777, 14: 0.9777777777777777, 15: 0.9805555555555555, 16: 0.9805555555555555, 17: 0.9833333333333333, 18: 0.9777777777777777, 19: 0.975, 20: 0.975, 21: 0.975, 22: 0.975, 23: 0.9777777777777777, 24: 0.975, 25: 0.9777777777777777, 26: 0.9777777777777777, 27: 0.9777777777777777, 28: 0.975, 29: 0.9722222222222222, 30: 0.9722222222222222, 31: 0.9722222222222222, 32: 0.9722222222222222, 33: 0.9694444444444444, 34: 0.9694444444444444, 35: 0.9666666666666667, 36: 0.9666666666666667, 37: 0.9666666666666667, 38: 0.9666666666666667, 39: 0.9666666666666667, 40: 0.9666666666666667, 41: 0.9666666666666667, 42: 0.9666666666666667, 43: 0.9638888888888889, 44: 0.9638888888888889, 45: 0.9611111111111111, 46: 0.9638888888888889, 47: 0.9583333333333334, 48: 0.9611111111111111, 49: 0.9583333333333334, 50: 0.9611111111111111, 51: 0.9555555555555556, 52: 0.9583333333333334, 53: 0.9555555555555556, 54: 0.9555555555555556, 55: 0.9555555555555556, 56: 0.9555555555555556, 57: 0.95, 58: 0.95, 59: 0.9472222222222222, 60: 0.9444444444444444, 61: 0.9416666666666667, 62: 0.9444444444444444, 63: 0.9388888888888889, 64: 0.9361111111111111, 65: 0.9361111111111111, 66: 0.9361111111111111, 67: 0.9361111111111111, 68: 0.9361111111111111, 69: 0.9361111111111111, 70: 0.9361111111111111, 71: 0.9333333333333333, 72: 0.9361111111111111, 73: 0.9388888888888889, 74: 0.9361111111111111, 75: 0.9361111111111111, 76: 0.9361111111111111, 77: 0.9361111111111111, 78: 0.9361111111111111, 79: 0.9333333333333333, 80: 0.9333333333333333, 81: 0.9333333333333333, 82: 0.9333333333333333, 83: 0.9333333333333333, 84: 0.9333333333333333, 85: 0.9333333333333333, 86: 0.9277777777777778, 87: 0.9277777777777778, 88: 0.9277777777777778, 89: 0.9277777777777778, 90: 0.9277777777777778, 91: 0.9277777777777778, 92: 0.925, 93: 0.9194444444444444, 94: 0.9194444444444444, 95: 0.9194444444444444, 96: 0.925, 97: 0.9222222222222223, 98: 0.9194444444444444, 99: 0.9194444444444444}\n"
     ]
    }
   ],
   "source": [
    "'''function for comparing several values of neighbors i.e K and their corresponding accuracies '''\n",
    "\n",
    "def accuracy_neighbors(X,y):\n",
    "    dict={}\n",
    "    for increment in range(1,100):\n",
    "        classifier5=KNNClassifier(X,y,increment)\n",
    "        #print(\"classification\\t\"+str(increment))\n",
    "        confmatrix=classifier5.confusionMatrix(testobj.test_x,testobj.test_y)\n",
    "        dict[increment]=classifier5.accuracy(np.asarray(confmatrix))\n",
    "        \n",
    "    Xlabel=\"Neighbors\"\n",
    "    Ylabel=\"Accuracy\"\n",
    "    plot(dict,Xlabel,Ylabel)\n",
    "    \n",
    "\n",
    "print(\"Function for comparing several values of neighbors i.e K and their corresponding accuracies\\n\")\n",
    "accuracy_neighbors(testobj.train_x,testobj.train_y)\n",
    "    \n",
    "        \n",
    "    \n"
   ]
  },
  {
   "cell_type": "markdown",
   "metadata": {},
   "source": [
    "#### 3.2b\n",
    "TODO: Write description of influence of neighbor count\n",
    "\n",
    ">From the above graph, as the value of K increases, the accuracy drops. Larger values of K underfits  and smoothens the boundary of the model as majority of the instances belong to the same class. \n",
    "\n",
    "\n",
    "#### 3.3b\n",
    "TODO: Write description of influence of training / testing split\n",
    "\n",
    ">From the above graph , as the number of training instances ie training data increases,accuracy also increases. Hence adding more training data to the model improves it's ability to classify instances.\n",
    "    \n"
   ]
  },
  {
   "cell_type": "code",
   "execution_count": null,
   "metadata": {},
   "outputs": [],
   "source": []
  }
 ],
 "metadata": {
  "kernelspec": {
   "display_name": "Python 3",
   "language": "python",
   "name": "python3"
  },
  "language_info": {
   "codemirror_mode": {
    "name": "ipython",
    "version": 3
   },
   "file_extension": ".py",
   "mimetype": "text/x-python",
   "name": "python",
   "nbconvert_exporter": "python",
   "pygments_lexer": "ipython3",
   "version": "3.6.8"
  }
 },
 "nbformat": 4,
 "nbformat_minor": 2
}
